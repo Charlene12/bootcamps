{
 "cells": [
  {
   "cell_type": "markdown",
   "metadata": {},
   "source": [
    "Pandas is a Python library or package. Which means that it is a coherent body of Python code that you can use in your Python code for a particular purpose.\n",
    "\n",
    "The purpose of Pandas is to make working with \"relational\" or \"labelled\" data both easy and intuitive.\n",
    "\n",
    "More precisely, and the following is taken from the Pandas documentation pages at GitHub, Pandas is well suited for many different kinds of data:\n",
    "\n",
    "  - SQL tables or Excel spreadsheets (tabular data with heterogeneously-typed columns)\n",
    "  - Time series data (ordered and unordered, not necessarily fixed-frequency)\n",
    "  - Arbitrary matrix data (homo- or heterogeneously typed with row and column labels)\n",
    "  - Other observational or statistical data sets (labelled or unlabelled)\n",
    "  \n",
    "Pandas is a good example of the \"batteries included\" principle of Python: Python comes with libraries, especially in the field of scientific computing, that make life a lot easier for it's users:\n",
    "\n",
    "  - High-level code, often optimized for speed, to tackle common problems\n",
    "  - Integration with other libraries\n",
    "  \n",
    "Pandas is built on top of another Python library, called Numpy. So some knowledge of that library will help us, users of Pandas, and in order to get a grasp of Numpy, some general knowledge of Python is necessary. The Russian doll principle, in short.\n",
    "\n",
    "![Russian dolls](images/russian_dolls.jpeg)"
   ]
  },
  {
   "cell_type": "markdown",
   "metadata": {},
   "source": [
    "Pandas is designed to do many things well, but here we will concentrate on some practical aspects of working with the library.\n",
    "\n",
    "In order to be able to use a library one has to \"load\" that library, that is make the functions defined in the library  available to our programs."
   ]
  },
  {
   "cell_type": "markdown",
   "metadata": {},
   "source": [
    "There are two ways of enabling the use of the code contained in the libraries."
   ]
  },
  {
   "cell_type": "code",
   "execution_count": 1,
   "metadata": {
    "collapsed": true
   },
   "outputs": [],
   "source": [
    "import pandas"
   ]
  },
  {
   "cell_type": "markdown",
   "metadata": {
    "collapsed": true
   },
   "source": [
    "But more often we see that import statement in another form:"
   ]
  },
  {
   "cell_type": "code",
   "execution_count": 2,
   "metadata": {
    "collapsed": true
   },
   "outputs": [],
   "source": [
    "import pandas as pd"
   ]
  },
  {
   "cell_type": "markdown",
   "metadata": {},
   "source": [
    "The reason for this is that each time we want to use functions from the Pandas library in our code, we have to use the following syntax: LibraryName.FunctionName and pd.read_csv() is shorter (less typing) than it's equivalent pandas.read_csv."
   ]
  }
 ],
 "metadata": {
  "anaconda-cloud": {},
  "kernelspec": {
   "display_name": "Python [default]",
   "language": "python",
   "name": "python3"
  },
  "language_info": {
   "codemirror_mode": {
    "name": "ipython",
    "version": 3
   },
   "file_extension": ".py",
   "mimetype": "text/x-python",
   "name": "python",
   "nbconvert_exporter": "python",
   "pygments_lexer": "ipython3",
   "version": "3.5.2"
  }
 },
 "nbformat": 4,
 "nbformat_minor": 1
}
