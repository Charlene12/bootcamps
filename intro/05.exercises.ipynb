{
 "cells": [
  {
   "cell_type": "markdown",
   "metadata": {
    "deletable": true,
    "editable": true
   },
   "source": [
    "## Exercises 05"
   ]
  },
  {
   "cell_type": "markdown",
   "metadata": {
    "deletable": true,
    "editable": true,
    "solution": "shown",
    "solution_first": true
   },
   "source": [
    "* Design a function that calculates the mean of a list of 3 values"
   ]
  },
  {
   "cell_type": "code",
   "execution_count": null,
   "metadata": {
    "collapsed": false,
    "deletable": true,
    "editable": true,
    "solution2": "hidden",
    "solution2_first": true
   },
   "outputs": [],
   "source": [
    "# Your code here\n",
    "\n",
    "mean_3(-1, 1, 5)  # Should print 1.6666666666666667"
   ]
  },
  {
   "cell_type": "code",
   "execution_count": null,
   "metadata": {
    "collapsed": false,
    "deletable": true,
    "editable": true,
    "solution": "shown",
    "solution2": "hidden"
   },
   "outputs": [],
   "source": [
    "def mean_3(v1, v2, v3):\n",
    "    return (v1 + v2 + v3) / 3\n",
    "\n",
    "mean_3(-1, 1, 5)"
   ]
  },
  {
   "cell_type": "markdown",
   "metadata": {
    "deletable": true,
    "editable": true
   },
   "source": [
    "<hr style=\"height: 3px; margin: 0\" />  "
   ]
  },
  {
   "cell_type": "markdown",
   "metadata": {
    "deletable": true,
    "editable": true,
    "solution": "hidden",
    "solution_first": true
   },
   "source": [
    "* Create a function that calculates the mean of a list with arbitrary length of values"
   ]
  },
  {
   "cell_type": "code",
   "execution_count": null,
   "metadata": {
    "collapsed": false,
    "deletable": true,
    "editable": true,
    "solution2": "hidden",
    "solution2_first": true
   },
   "outputs": [],
   "source": [
    "# Your code here\n",
    "\n",
    "mean_args(1, 2, 3, 4, 5)  # Should print 3.0"
   ]
  },
  {
   "cell_type": "code",
   "execution_count": null,
   "metadata": {
    "collapsed": false,
    "deletable": true,
    "editable": true,
    "solution": "hidden",
    "solution2": "hidden"
   },
   "outputs": [],
   "source": [
    "def mean_args(*args):\n",
    "    return sum(args) / len(args)\n",
    "\n",
    "    #or if you don't want to cheat by using the built-in sum()\n",
    "    s = 0\n",
    "    \n",
    "    for arg in args:\n",
    "        s += arg\n",
    "    \n",
    "    return s / len(args)\n",
    "\n",
    "mean_args(1, 2, 3, 4, 5)"
   ]
  },
  {
   "cell_type": "markdown",
   "metadata": {
    "deletable": true,
    "editable": true
   },
   "source": [
    "<hr style=\"height: 3px; margin: 0\" />  "
   ]
  },
  {
   "cell_type": "markdown",
   "metadata": {
    "deletable": true,
    "editable": true,
    "solution": "hidden",
    "solution_first": true
   },
   "source": [
    "* Create a function that calculates the mean of a list with arbitrary length of values.  \n",
    "  Add the option to specify whether result should be absolute (default off)."
   ]
  },
  {
   "cell_type": "code",
   "execution_count": null,
   "metadata": {
    "collapsed": false,
    "deletable": true,
    "editable": true,
    "solution2": "hidden",
    "solution2_first": true
   },
   "outputs": [],
   "source": [
    "# Your code here\n",
    "\n",
    "result_0 = list_mean(-1,-2,-3,-4,-5, absolute=False)\n",
    "print(result_0)  # Should print \"-3.0\"\n",
    "\n",
    "result_1 = list_mean(-1,-2,-3,-4,-5, absolute=True)\n",
    "print(result_1)  # Should print \"3.0\""
   ]
  },
  {
   "cell_type": "code",
   "execution_count": null,
   "metadata": {
    "collapsed": false,
    "deletable": true,
    "editable": true,
    "solution": "hidden",
    "solution2": "hidden"
   },
   "outputs": [],
   "source": [
    "def mean_list(*args, absolute=False):\n",
    "    m = sum(args) / len(args)\n",
    "    \n",
    "    if absolute:\n",
    "        return abs(m)\n",
    "    else:\n",
    "        return m\n",
    "\n",
    "result_0 = mean_list(-1,-2,-3,-4,-5, absolute=False)\n",
    "print(result_0)\n",
    "\n",
    "result_1 = mean_list(-1,-2,-3,-4,-5, absolute=True)\n",
    "print(result_1)"
   ]
  },
  {
   "cell_type": "markdown",
   "metadata": {},
   "source": [
    "<hr style=\"height: 3px; margin: 0\" />  "
   ]
  },
  {
   "cell_type": "markdown",
   "metadata": {},
   "source": [
    "* Create a function that sums all odd numbers smaller than a given number\n",
    "* i.e. find_odd_sums(5) == 4  # 1 + 3"
   ]
  },
  {
   "cell_type": "code",
   "execution_count": null,
   "metadata": {
    "collapsed": false,
    "solution2": "hidden",
    "solution2_first": true
   },
   "outputs": [],
   "source": [
    "def find_odd_sums(n):\n",
    "    pass\n",
    "\n",
    "print(find_odd_sums(10) == 25)\n",
    "print(find_odd_sums(20) == 100)"
   ]
  },
  {
   "cell_type": "code",
   "execution_count": null,
   "metadata": {
    "collapsed": false,
    "solution2": "hidden"
   },
   "outputs": [],
   "source": [
    "def find_odd_sums(n): \n",
    "    total = 0\n",
    "    for i in range(n):\n",
    "        if i % 2 != 0:\n",
    "            total += i\n",
    "    return total\n",
    "\n",
    "print(find_odd_sums(10) == 25)\n",
    "print(find_odd_sums(20) == 100)"
   ]
  },
  {
   "cell_type": "markdown",
   "metadata": {},
   "source": [
    "<hr style=\"height: 3px; margin: 0\" />  "
   ]
  },
  {
   "cell_type": "markdown",
   "metadata": {},
   "source": [
    "* Write a simple function that checks if a number is prime\n",
    "* Remember : [primes](https://en.wikipedia.org/wiki/Prime_number) are integers > 1, with exactly 2 positive divisors"
   ]
  },
  {
   "cell_type": "code",
   "execution_count": null,
   "metadata": {
    "collapsed": false,
    "solution2": "hidden",
    "solution2_first": true
   },
   "outputs": [],
   "source": [
    "def is_prime(number): \n",
    "    pass\n",
    "\n",
    "print(is_prime(1))  # False\n",
    "print(is_prime(3))  # True\n",
    "print(is_prime(4))  # False\n",
    "print(is_prime(673))  # True\n",
    "print(is_prime(674))  # False"
   ]
  },
  {
   "cell_type": "code",
   "execution_count": null,
   "metadata": {
    "collapsed": false,
    "solution2": "hidden"
   },
   "outputs": [],
   "source": [
    "def is_prime(number):\n",
    "    if number < 2:\n",
    "        return False\n",
    "    \n",
    "    for i in range(2, number):\n",
    "        if number % i == 0:\n",
    "            return False\n",
    "    \n",
    "    return True\n",
    "\n",
    "print(is_prime(1))\n",
    "print(is_prime(3))\n",
    "print(is_prime(4))\n",
    "print(is_prime(673))\n",
    "print(is_prime(674))"
   ]
  }
 ],
 "metadata": {
  "kernelspec": {
   "display_name": "Python 3",
   "language": "python",
   "name": "python3"
  },
  "language_info": {
   "codemirror_mode": {
    "name": "ipython",
    "version": 3
   },
   "file_extension": ".py",
   "mimetype": "text/x-python",
   "name": "python",
   "nbconvert_exporter": "python",
   "pygments_lexer": "ipython3",
   "version": "3.5.2"
  },
  "latex_envs": {
   "bibliofile": "biblio.bib",
   "cite_by": "apalike",
   "current_citInitial": 1,
   "eqLabelWithNumbers": true,
   "eqNumInitial": 0
  }
 },
 "nbformat": 4,
 "nbformat_minor": 1
}
