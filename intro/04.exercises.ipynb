{
 "cells": [
  {
   "cell_type": "markdown",
   "metadata": {
    "deletable": true,
    "editable": true
   },
   "source": [
    "## Exercises 04"
   ]
  },
  {
   "cell_type": "markdown",
   "metadata": {
    "deletable": true,
    "editable": true
   },
   "source": [
    "Write a Python program which iterates the integers from 1 to 30.  \n",
    "Print each number to a new line, but:\n",
    "* For multiples of three add \"Fizz\"\n",
    "* For multiples of five add \"Buzz\"\n",
    "* For multiples of both three and five add \"FizzBuzz\"\n",
    "\n",
    "```\n",
    "25 Buzz\n",
    "26 \n",
    "27 Fizz\n",
    "28 \n",
    "29 \n",
    "30 FizzBuzz\n",
    "```"
   ]
  },
  {
   "cell_type": "code",
   "execution_count": null,
   "metadata": {
    "collapsed": false,
    "deletable": true,
    "editable": true,
    "scrolled": false,
    "solution2": "hidden",
    "solution2_first": true
   },
   "outputs": [],
   "source": [
    "for i in range(1, 31):\n",
    "    # Your code here"
   ]
  },
  {
   "cell_type": "code",
   "execution_count": null,
   "metadata": {
    "collapsed": false,
    "deletable": true,
    "editable": true,
    "scrolled": false,
    "solution2": "hidden"
   },
   "outputs": [],
   "source": [
    "for i in range(1, 31):\n",
    "    print(i, end=\" \")\n",
    "    if i % 15 == 0:\n",
    "        print(\"FizzBuzz\")\n",
    "    elif i % 3 == 0:\n",
    "        print(\"Fizz\")\n",
    "    elif i % 5 == 0:\n",
    "        print(\"Buzz\")   \n",
    "    else:\n",
    "        print()"
   ]
  },
  {
   "cell_type": "markdown",
   "metadata": {
    "collapsed": false,
    "deletable": true,
    "editable": true
   },
   "source": [
    "<hr style=\"height: 3px; margin: 0\" />    "
   ]
  },
  {
   "cell_type": "markdown",
   "metadata": {
    "collapsed": false,
    "deletable": true,
    "editable": true
   },
   "source": [
    "In Python (and many other languages) boolean calculation is done with [short-circuit evaluation](https://en.wikipedia.org/wiki/Short-circuit_evaluation).  \n",
    "An argument is only evaluated if the previous arguments aren't sufficient to determine the value."
   ]
  },
  {
   "cell_type": "markdown",
   "metadata": {
    "collapsed": false,
    "deletable": true,
    "editable": true
   },
   "source": [
    "The code below of we set x = 4 and y = 1.  \n",
    "But if we set y = 0 we'll get a ZeroDivisionError.  \n",
    "\n",
    "Correct the code below to accomodate y = 0"
   ]
  },
  {
   "cell_type": "code",
   "execution_count": null,
   "metadata": {
    "collapsed": false,
    "deletable": true,
    "editable": true,
    "solution2": "hidden",
    "solution2_first": true
   },
   "outputs": [],
   "source": [
    "x = 4\n",
    "y = 1\n",
    "\n",
    "# Make this work for y = 0\n",
    "if x > 3 and x/y > 2:\n",
    "    print(\"x > 3 and x/y > 1\")\n",
    "else:\n",
    "    print(\"Nope, they're not\")"
   ]
  },
  {
   "cell_type": "code",
   "execution_count": null,
   "metadata": {
    "collapsed": false,
    "deletable": true,
    "editable": true,
    "solution2": "hidden"
   },
   "outputs": [],
   "source": [
    "x = 4\n",
    "y = 0\n",
    "\n",
    "if x > 3 and y != 0 and x/y > 1:\n",
    "    print(\"x > 3 and x/y > 2\")\n",
    "else:\n",
    "    print(\"Nope, they're not\")"
   ]
  },
  {
   "cell_type": "markdown",
   "metadata": {
    "deletable": true,
    "editable": true
   },
   "source": [
    "<hr style=\"height: 3px; margin: 0\" />    "
   ]
  },
  {
   "cell_type": "code",
   "execution_count": null,
   "metadata": {
    "collapsed": false,
    "deletable": true,
    "editable": true
   },
   "outputs": [],
   "source": []
  }
 ],
 "metadata": {
  "kernelspec": {
   "display_name": "Python 3",
   "language": "python",
   "name": "python3"
  },
  "language_info": {
   "codemirror_mode": {
    "name": "ipython",
    "version": 3
   },
   "file_extension": ".py",
   "mimetype": "text/x-python",
   "name": "python",
   "nbconvert_exporter": "python",
   "pygments_lexer": "ipython3",
   "version": "3.5.2"
  }
 },
 "nbformat": 4,
 "nbformat_minor": 2
}
