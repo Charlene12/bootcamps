{
 "cells": [
  {
   "cell_type": "markdown",
   "metadata": {},
   "source": [
    "#### Using the interactive shell\n",
    "\n",
    "Let's explore Python a little bit using the interactive possibilities of the Jupyter notebook (You can also use the Python or iPython REPL's from your computer's terminal)."
   ]
  },
  {
   "cell_type": "code",
   "execution_count": null,
   "metadata": {},
   "outputs": [],
   "source": [
    "2 + 2"
   ]
  },
  {
   "cell_type": "markdown",
   "metadata": {},
   "source": [
    "In the cell above the plus sign (+) tells Python to add two numbers, the output of which is the number 4.\n",
    "We can use the following \"operators\" to do simple arithmetic:\n",
    "\n",
    "|Operator|Operations|\n",
    "|--------|----------|\n",
    "| +      | Addition |\n",
    "| -      | Subtraction|\n",
    "| *      | Multiplication|\n",
    "| /      | Division |\n",
    "| %      | Div.Remainder |\n",
    "\n",
    "Try these operators out in the cell below. Be sure to practice divisions and remainders."
   ]
  },
  {
   "cell_type": "code",
   "execution_count": null,
   "metadata": {
    "collapsed": true
   },
   "outputs": [],
   "source": []
  },
  {
   "cell_type": "markdown",
   "metadata": {},
   "source": [
    "There are several flavours of numbers: 5 (an integer) and 5.0 (a float). Try them out in the cell below."
   ]
  },
  {
   "cell_type": "code",
   "execution_count": null,
   "metadata": {
    "collapsed": true
   },
   "outputs": [],
   "source": []
  },
  {
   "cell_type": "markdown",
   "metadata": {},
   "source": [
    "Time for some lingo. The plus sign (+) is called an <b>operator</b> and operators work on <b>values</b> or <b>operants</b>. Together operators and values are referred to as <b>expressions</b>: 2 + 2 is an expression.\n",
    "When evaluating an expression the computer returns a result, *reducing* the expression. The result is another value.\n",
    "When evaluating expressions, Python uses the ordinary mathematical rules:\n",
    "    - parts of expressions in parnetheses are evaluated first;\n",
    "    - multiplication and division are done before addition and subtraction;\n",
    "    - evaluation is performed left to right.\n",
    "    \n",
    "Math refresher: Evaluate the following two expressions in the cell below:\n",
    "1 + 2 * 3 + 4\n",
    "(1 + 2) * (3 + 4)"
   ]
  },
  {
   "cell_type": "markdown",
   "metadata": {},
   "source": [
    "We can store values in so-called <b>variables</b>, for example: spam = 15. We can then use that variable in our calculations: spam + 10. We can change the value of spam by assigning a new value to it: spam = 3. Now spam + 10 will return 13.\n",
    "Use the cell below to calculate the value of: spam = spam + 10. See what happens when you try to add 5 to spma."
   ]
  },
  {
   "cell_type": "code",
   "execution_count": null,
   "metadata": {
    "collapsed": true
   },
   "outputs": [],
   "source": []
  }
 ],
 "metadata": {
  "kernelspec": {
   "display_name": "Python 3",
   "language": "python",
   "name": "python3"
  },
  "language_info": {
   "codemirror_mode": {
    "name": "ipython",
    "version": 3
   },
   "file_extension": ".py",
   "mimetype": "text/x-python",
   "name": "python",
   "nbconvert_exporter": "python",
   "pygments_lexer": "ipython3",
   "version": "3.6.1"
  }
 },
 "nbformat": 4,
 "nbformat_minor": 2
}
