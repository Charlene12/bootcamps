{
 "cells": [
  {
   "cell_type": "markdown",
   "metadata": {
    "deletable": true,
    "editable": true,
    "slideshow": {
     "slide_type": "slide"
    }
   },
   "source": [
    "## Why Python"
   ]
  },
  {
   "cell_type": "markdown",
   "metadata": {
    "deletable": true,
    "editable": true,
    "slideshow": {
     "slide_type": "fragment"
    }
   },
   "source": [
    "* What?\n",
    "* Why?\n",
    "* How?\n",
    "* That's why!"
   ]
  },
  {
   "cell_type": "markdown",
   "metadata": {
    "deletable": true,
    "editable": true,
    "slideshow": {
     "slide_type": "subslide"
    }
   },
   "source": [
    "## What?"
   ]
  },
  {
   "cell_type": "markdown",
   "metadata": {
    "deletable": true,
    "editable": true,
    "slideshow": {
     "slide_type": "fragment"
    }
   },
   "source": [
    "* General-purpose  \n",
    "web applications, system applications, data applications"
   ]
  },
  {
   "cell_type": "markdown",
   "metadata": {
    "deletable": true,
    "editable": true,
    "slideshow": {
     "slide_type": "fragment"
    }
   },
   "source": [
    "* High level  \n",
    "strong abstraction from details  \n",
    "more like human language and less like machine language  \n",
    "automatic memory management"
   ]
  },
  {
   "cell_type": "markdown",
   "metadata": {
    "deletable": true,
    "editable": true,
    "slideshow": {
     "slide_type": "fragment"
    }
   },
   "source": [
    "* Interpreted\n",
    "* Object oriented"
   ]
  },
  {
   "cell_type": "markdown",
   "metadata": {
    "deletable": true,
    "editable": true,
    "slideshow": {
     "slide_type": "subslide"
    }
   },
   "source": [
    "## Why?\n"
   ]
  },
  {
   "cell_type": "markdown",
   "metadata": {
    "deletable": true,
    "editable": true,
    "slideshow": {
     "slide_type": "fragment"
    }
   },
   "source": [
    "* Designed for readability  \n",
    "code is read much more often than it is written"
   ]
  },
  {
   "cell_type": "markdown",
   "metadata": {
    "deletable": true,
    "editable": true,
    "slideshow": {
     "slide_type": "fragment"
    }
   },
   "source": [
    "* Batteries included : large standard library  \n",
    "  additional : open source libraries"
   ]
  },
  {
   "cell_type": "markdown",
   "metadata": {
    "deletable": true,
    "editable": true,
    "slideshow": {
     "slide_type": "fragment"
    }
   },
   "source": [
    "* Rich ecosystem and community  \n",
    "  many frameworks and friendly forums"
   ]
  },
  {
   "cell_type": "markdown",
   "metadata": {
    "deletable": true,
    "editable": true,
    "slideshow": {
     "slide_type": "fragment"
    }
   },
   "source": [
    "* Easy to learn  \n",
    "elegant syntax  \n",
    "few keywords\n"
   ]
  },
  {
   "cell_type": "markdown",
   "metadata": {
    "deletable": true,
    "editable": true,
    "slideshow": {
     "slide_type": "subslide"
    }
   },
   "source": [
    "## How do I use it?"
   ]
  },
  {
   "cell_type": "markdown",
   "metadata": {
    "deletable": true,
    "editable": true,
    "slideshow": {
     "slide_type": "fragment"
    }
   },
   "source": [
    "* Interactive via Python or IPython console  \n",
    "best for prototyping, testing commands"
   ]
  },
  {
   "cell_type": "markdown",
   "metadata": {
    "deletable": true,
    "editable": true,
    "slideshow": {
     "slide_type": "fragment"
    }
   },
   "source": [
    "* Run a script from the commandline  \n",
    "production ready, automated"
   ]
  },
  {
   "cell_type": "markdown",
   "metadata": {
    "deletable": true,
    "editable": true,
    "slideshow": {
     "slide_type": "fragment"
    }
   },
   "source": [
    "* Jupyter Notebooks!  \n",
    "combine code with text and graphics"
   ]
  },
  {
   "cell_type": "markdown",
   "metadata": {
    "deletable": true,
    "editable": true,
    "slideshow": {
     "slide_type": "subslide"
    }
   },
   "source": [
    "## That's why!\n",
    "* Easy\n",
    "* Fun\n",
    "* Free"
   ]
  },
  {
   "cell_type": "markdown",
   "metadata": {
    "deletable": true,
    "editable": true,
    "slideshow": {
     "slide_type": "skip"
    }
   },
   "source": [
    "---"
   ]
  },
  {
   "cell_type": "markdown",
   "metadata": {
    "deletable": true,
    "editable": true,
    "slideshow": {
     "slide_type": "slide"
    }
   },
   "source": [
    "## Why Jupyter notebooks"
   ]
  },
  {
   "cell_type": "markdown",
   "metadata": {
    "deletable": true,
    "editable": true,
    "slideshow": {
     "slide_type": "fragment"
    }
   },
   "source": [
    "* What?\n",
    "* Why?\n",
    "* How?\n",
    "* That's why!"
   ]
  },
  {
   "cell_type": "markdown",
   "metadata": {
    "deletable": true,
    "editable": true,
    "slideshow": {
     "slide_type": "subslide"
    }
   },
   "source": [
    "## What?\n",
    "* Web-based interface for integrated document writing and data processing\n",
    "\n",
    "<img src=\"notebook_components.png\">"
   ]
  },
  {
   "cell_type": "markdown",
   "metadata": {
    "deletable": true,
    "editable": true,
    "slideshow": {
     "slide_type": "subslide"
    }
   },
   "source": [
    "## Why?\n"
   ]
  },
  {
   "cell_type": "markdown",
   "metadata": {
    "deletable": true,
    "editable": true,
    "slideshow": {
     "slide_type": "fragment"
    }
   },
   "source": [
    "* Conventional programming tools:\n",
    "    * An Integrated Development Environment (IDE)\n",
    "    or\n",
    "    * A basic text editor"
   ]
  },
  {
   "cell_type": "markdown",
   "metadata": {
    "deletable": true,
    "editable": true,
    "slideshow": {
     "slide_type": "fragment"
    }
   },
   "source": [
    "* Fine for programs"
   ]
  },
  {
   "cell_type": "markdown",
   "metadata": {
    "deletable": true,
    "editable": true,
    "slideshow": {
     "slide_type": "fragment"
    }
   },
   "source": [
    "* Not necessarily the most logical for scientists\n",
    "\n",
    "  Hence an environment in which the resulting document and the data processing code are integrated."
   ]
  },
  {
   "cell_type": "markdown",
   "metadata": {
    "deletable": true,
    "editable": true,
    "slideshow": {
     "slide_type": "fragment"
    }
   },
   "source": [
    "* Different kernels available\n",
    "    * Python (therefore formerly IPython)\n",
    "    * R\n",
    "    * SAS\n",
    "    * Matlab / Octave\n",
    "    * <a src=\"https://github.com/ipython/ipython/wiki/IPython-kernels-for-other-languages\">Many more</a>"
   ]
  },
  {
   "cell_type": "markdown",
   "metadata": {
    "deletable": true,
    "editable": true,
    "slideshow": {
     "slide_type": "subslide"
    }
   },
   "source": [
    "## How do I use it?\n",
    "### Starting Jupyter notebook\n",
    "* Type \"jupyter notebook\" in the console or start via Anaconda\n",
    "    * A browser tab should appear"
   ]
  },
  {
   "cell_type": "markdown",
   "metadata": {
    "deletable": true,
    "editable": true,
    "slideshow": {
     "slide_type": "fragment"
    }
   },
   "source": [
    "* Go to the folder where your notebook __\\(*.ipynb\\)__ is stored"
   ]
  },
  {
   "cell_type": "markdown",
   "metadata": {
    "deletable": true,
    "editable": true,
    "slideshow": {
     "slide_type": "fragment"
    }
   },
   "source": [
    "* Click on it\n",
    "    * A new browser tab should appear with your notebook"
   ]
  },
  {
   "cell_type": "markdown",
   "metadata": {
    "deletable": true,
    "editable": true,
    "slideshow": {
     "slide_type": "subslide"
    }
   },
   "source": [
    "## Using Jupyter notebook\n",
    "* All content is put in __cells__\n",
    "    * Code cells\n",
    "    * Markdown cells (non-code)            \n",
    "    * Raw NBConvert (only for special uses)\n",
    "    * Headings (obsolete)"
   ]
  },
  {
   "cell_type": "markdown",
   "metadata": {
    "deletable": true,
    "editable": true,
    "slideshow": {
     "slide_type": "fragment"
    }
   },
   "source": [
    "* Double-click on a cell to see it's code"
   ]
  },
  {
   "cell_type": "markdown",
   "metadata": {
    "deletable": true,
    "editable": true,
    "slideshow": {
     "slide_type": "fragment"
    }
   },
   "source": [
    "* Tab completion in code cells\n",
    "\n",
    "<img src=\"tab_completion.png\">"
   ]
  },
  {
   "cell_type": "markdown",
   "metadata": {
    "deletable": true,
    "editable": true,
    "slideshow": {
     "slide_type": "subslide"
    }
   },
   "source": [
    "### Markdown\n",
    "* HTML can be used"
   ]
  },
  {
   "cell_type": "markdown",
   "metadata": {
    "deletable": true,
    "editable": true,
    "slideshow": {
     "slide_type": "fragment"
    }
   },
   "source": [
    "* **#, ##, ###** for headers\n",
    "    * A space is needed between the # and the actual header"
   ]
  },
  {
   "cell_type": "markdown",
   "metadata": {
    "deletable": true,
    "editable": true,
    "slideshow": {
     "slide_type": "fragment"
    }
   },
   "source": [
    "* Encapsulate text with \\* for *italic*"
   ]
  },
  {
   "cell_type": "markdown",
   "metadata": {
    "deletable": true,
    "editable": true,
    "slideshow": {
     "slide_type": "fragment"
    }
   },
   "source": [
    "* Encapsulate text with \\*\\* for **bold**"
   ]
  },
  {
   "cell_type": "markdown",
   "metadata": {
    "deletable": true,
    "editable": true,
    "slideshow": {
     "slide_type": "fragment"
    }
   },
   "source": [
    "* __\\*__ for list\n",
    "    * A space is needed between the list designator and the actual item\n",
    "    * TAB__\\*__ for indented items (like this)\n",
    "        * TABTAB__\\*__ for double indents (like this), etc."
   ]
  },
  {
   "cell_type": "markdown",
   "metadata": {
    "deletable": true,
    "editable": true,
    "slideshow": {
     "slide_type": "subslide"
    }
   },
   "source": [
    "### Important hotkeys\n",
    "* Enter: start typing in cell\n",
    "* ESC: go to command mode\n",
    "* Ctrl+Enter: evaluate cell\n",
    "* Alt+Enter: evaluate cell and create a new one below\n",
    "* Shift+Enter: evaluate cell and go to the cell below"
   ]
  },
  {
   "cell_type": "markdown",
   "metadata": {
    "deletable": true,
    "editable": true,
    "slideshow": {
     "slide_type": "fragment"
    }
   },
   "source": [
    "In command mode :\n",
    "* M : select Markdown\n",
    "* Y : select Code\n",
    "* S : save the notebook"
   ]
  },
  {
   "cell_type": "markdown",
   "metadata": {
    "deletable": true,
    "editable": true,
    "slideshow": {
     "slide_type": "fragment"
    }
   },
   "source": [
    "In command mode :\n",
    "\n",
    "* C : copy cell\n",
    "* V : paste cell\n",
    "* X : cut cell\n",
    "* DD : delete cell\n",
    "* Z : undo (only last action!)"
   ]
  },
  {
   "cell_type": "markdown",
   "metadata": {
    "deletable": true,
    "editable": true,
    "slideshow": {
     "slide_type": "fragment"
    }
   },
   "source": [
    "* For more, see __Help -> Keyboard Shortcuts__"
   ]
  },
  {
   "cell_type": "markdown",
   "metadata": {
    "deletable": true,
    "editable": true,
    "slideshow": {
     "slide_type": "slide"
    }
   },
   "source": [
    "## Extensions\n",
    "* Excercise2\n",
    "* Scratchpad\n",
    "* Rubberband"
   ]
  },
  {
   "cell_type": "markdown",
   "metadata": {
    "deletable": true,
    "editable": true,
    "slideshow": {
     "slide_type": "slide"
    }
   },
   "source": [
    "## Remarks\n",
    "* Be careful with out-of-order cell execution, since this might change variable values and as such modify output from other cells\n",
    "* No debugging is possible (as of yet)"
   ]
  },
  {
   "cell_type": "markdown",
   "metadata": {
    "deletable": true,
    "editable": true,
    "slideshow": {
     "slide_type": "slide"
    }
   },
   "source": [
    "## That's why!\n",
    "* Jupyter notebooks fit the work flow of writing papers\n",
    "* Easy to use platform independent editor\n",
    "* Free"
   ]
  },
  {
   "cell_type": "markdown",
   "metadata": {
    "deletable": true,
    "editable": true,
    "slideshow": {
     "slide_type": "slide"
    }
   },
   "source": [
    "## Contents\n",
    "\n",
    "* [00](00.ipynb) Python and Jupyter\n",
    "* [01](01.ipynb) Getting started\n",
    "* [02](02.ipynb) Lists\n",
    "* [03](03.ipynb) First Steps Towards Programming\n",
    "* [04](04.ipynb) Control flow\n",
    "* [05](05.ipynb) Functions\n",
    "* [06](06.ipynb) Data structures\n",
    "* [07](07.ipynb) Classes and Modules\n",
    "* [08](08.ipynb) Input and output\n",
    "\n",
    "## Exercises\n",
    "\n",
    "* [01](01.exercises.ipynb)\n",
    "* [02](02.exercises.ipynb)\n",
    "* [03](03.exercises.ipynb)\n",
    "* [05](05.exercises.ipynb)\n",
    "* [06](06.exercises.ipynb)\n",
    "* [07](07.exercises.ipynb)\n",
    "* [Game 1](Game 1.ipynb)"
   ]
  },
  {
   "cell_type": "markdown",
   "metadata": {
    "deletable": true,
    "editable": true,
    "slideshow": {
     "slide_type": "notes"
    }
   },
   "source": [
    "# TODO\n",
    "\n",
    "- Keywords  \n",
    "  import keyword  \n",
    "  keyword.iskeyword(\"and\")\n",
    "- Excercises!\n",
    "- Explain difference '==' and 'is' ?\n",
    "- Short circuit operators : exercises\n",
    "- String split, join : in exercises\n",
    "- Finally and else : exercises\n",
    "- Dictionary update : exercises\n",
    "- Coding Style : https://docs.python.org/3/tutorial/controlflow.html#intermezzo-coding-style\n",
    "- Casting\n",
    "- 06 lists \n",
    "- Invoegen 02B in 06\n",
    "- Decorators?\n",
    "\n",
    "- Function exercises : https://github.com/GalvanizeOpenSource/python-resources/blob/master/basic_resources/intro_function_practice.ipynb"
   ]
  },
  {
   "cell_type": "code",
   "execution_count": null,
   "metadata": {
    "collapsed": false,
    "deletable": true,
    "editable": true,
    "slideshow": {
     "slide_type": "notes"
    }
   },
   "outputs": [],
   "source": [
    "%matplotlib inline\n",
    "import matplotlib.pyplot as plt\n",
    "import numpy as np\n",
    "\n",
    "x = np.array([0, 1, 2, 3, 4])\n",
    "y = x * 2 + 5\n",
    "plt.plot(x, y)"
   ]
  },
  {
   "cell_type": "code",
   "execution_count": null,
   "metadata": {
    "collapsed": false,
    "deletable": true,
    "editable": true,
    "slideshow": {
     "slide_type": "notes"
    }
   },
   "outputs": [],
   "source": [
    "%matplotlib inline\n",
    "from numpy import pi, sin\n",
    "\n",
    "x = np.arange(0, 2*pi, 0.01)\n",
    "y = sin(x)\n",
    "plt.plot(x, y)"
   ]
  },
  {
   "cell_type": "raw",
   "metadata": {
    "deletable": true,
    "editable": true,
    "slideshow": {
     "slide_type": "notes"
    }
   },
   "source": [
    "%%html\n",
    "<style>\n",
    "body:after {\n",
    "    content: \"00 \\a Intro\";\n",
    "}\n",
    "</style>"
   ]
  }
 ],
 "metadata": {
  "anaconda-cloud": {},
  "celltoolbar": "Slideshow",
  "hide_input": false,
  "kernelspec": {
   "display_name": "Python 3",
   "language": "python",
   "name": "python3"
  },
  "language_info": {
   "codemirror_mode": {
    "name": "ipython",
    "version": 3
   },
   "file_extension": ".py",
   "mimetype": "text/x-python",
   "name": "python",
   "nbconvert_exporter": "python",
   "pygments_lexer": "ipython3",
   "version": "3.5.2"
  },
  "latex_envs": {
   "bibliofile": "biblio.bib",
   "cite_by": "apalike",
   "current_citInitial": 1,
   "eqLabelWithNumbers": true,
   "eqNumInitial": 0
  }
 },
 "nbformat": 4,
 "nbformat_minor": 1
}
