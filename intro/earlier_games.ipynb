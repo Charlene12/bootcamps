{
 "cells": [
  {
   "cell_type": "markdown",
   "metadata": {},
   "source": [
    "This notebook contains snippets from Phillip Johnson: Make your own text adventure with Python.\n",
    "\n",
    "I have assembled these here. Perhaps we can use use some of these snippets for our intro notebooks."
   ]
  },
  {
   "cell_type": "markdown",
   "metadata": {},
   "source": [
    "#### Your workspace"
   ]
  },
  {
   "cell_type": "code",
   "execution_count": null,
   "metadata": {},
   "outputs": [],
   "source": [
    "!python --version"
   ]
  },
  {
   "cell_type": "markdown",
   "metadata": {},
   "source": [
    "#### Your first program: The text adventure game"
   ]
  },
  {
   "cell_type": "markdown",
   "metadata": {},
   "source": [
    "![Punch Card](./graphics/026-card-700.jpg)"
   ]
  },
  {
   "cell_type": "markdown",
   "metadata": {},
   "source": [
    "Python code is organized in files called **modules**. Each file contains a significant amount of code that is logically related.\n",
    "\n",
    "For example our project will contain:\n",
    "\n",
    "  - a module that runs the game\n",
    "  - a module that contains \"the world\"\n",
    "  - a module that contains \"the enemies\" that live in \"the world\"\n",
    "  \n",
    "Let's create our first module."
   ]
  },
  {
   "cell_type": "markdown",
   "metadata": {},
   "source": [
    "Using your favourite editor, open up a file called: game.py\n",
    "And enter the following line:\n",
    "\n",
    "print('Escape from Cave Terror!')"
   ]
  },
  {
   "cell_type": "markdown",
   "metadata": {},
   "source": [
    "#### Listening to your user\n",
    "\n",
    "All computer programs need to have some user input. The user needs to do something in order to start the program; or the programs waits patiently until the user tells it to do something.\n",
    "\n",
    "For a text adventure game the last option seems more plausible. How do we get the user involved in our game? Let's have a look at the print function (Never mind the word function, we deal with functions later on)."
   ]
  },
  {
   "cell_type": "code",
   "execution_count": null,
   "metadata": {},
   "outputs": [],
   "source": [
    "help(print)"
   ]
  },
  {
   "cell_type": "markdown",
   "metadata": {},
   "source": [
    "Actually the help function used, since we did not specify a file to use, the rather esoteric thing \"sys.stdout\" to write the information about the print function to. \"Stdout\" is part of the \"sys\" module and it is short for \"standard output\" which is the thing in which we run the help function. In this case it is the Jupyter notebook, but if we would have run the program from within the Python REPL started in a terminal, then that terminal is the \"stdout\".\n",
    "\n",
    "Let's try it:\n",
    "\n",
    "  - open up a terminal\n",
    "  - fire up the Python or IPython interpreter\n",
    "  - and watch the beasty waiting for some input"
   ]
  },
  {
   "cell_type": "markdown",
   "metadata": {},
   "source": [
    "![IPython REPL](./graphics/ipython_repl.png)"
   ]
  },
  {
   "cell_type": "markdown",
   "metadata": {},
   "source": [
    "You guessed it: perhaps there is something called \"stdin\" also in that \"sys\" module that we can use to get what our users want based on some input. Let's run the Python help function on input."
   ]
  },
  {
   "cell_type": "code",
   "execution_count": null,
   "metadata": {},
   "outputs": [],
   "source": [
    "help(input)"
   ]
  },
  {
   "cell_type": "markdown",
   "metadata": {},
   "source": [
    "If we follow the help solution, we get a whopping error."
   ]
  },
  {
   "cell_type": "code",
   "execution_count": null,
   "metadata": {},
   "outputs": [],
   "source": [
    "raw_input(\"Type some text: \")"
   ]
  },
  {
   "cell_type": "markdown",
   "metadata": {},
   "source": [
    "Google \"Jupyter notebook NameError: name 'raw_input' is not defined\". And we find the answer on the ever useful Stackoverflow website:\n",
    "\n",
    "![raw_input](./graphics/raw_input.png)"
   ]
  },
  {
   "cell_type": "code",
   "execution_count": null,
   "metadata": {},
   "outputs": [],
   "source": [
    "input(\"Type some text: \")"
   ]
  },
  {
   "cell_type": "markdown",
   "metadata": {},
   "source": [
    "If we want to save the information the user entered, we can use a variable to store it in:"
   ]
  },
  {
   "cell_type": "code",
   "execution_count": null,
   "metadata": {},
   "outputs": [],
   "source": [
    "user_input = input(\"Type some text: \")\n",
    "print(user_input)"
   ]
  },
  {
   "cell_type": "markdown",
   "metadata": {},
   "source": [
    "Great stuff, we're in business: We get something in and we get it out again!"
   ]
  },
  {
   "cell_type": "markdown",
   "metadata": {},
   "source": [
    "Before, we go on with our game, we need some more information on the things that get around in Python programs, the so-called \"data types\":\n",
    "\n",
    "  - strings (we need these for our **text** adventure)\n",
    "  - numbers\n",
    "  \n",
    "There are many other data types for us to use in Python, but the interpreter tries to take the burden of us by inferring what we mean when we write our programs."
   ]
  },
  {
   "cell_type": "code",
   "execution_count": null,
   "metadata": {},
   "outputs": [],
   "source": [
    "my_variable = 5\n",
    "type(my_variable)"
   ]
  },
  {
   "cell_type": "code",
   "execution_count": null,
   "metadata": {},
   "outputs": [],
   "source": [
    "my_variable = '5'\n",
    "type(my_variable)"
   ]
  }
 ],
 "metadata": {
  "kernelspec": {
   "display_name": "Python 3",
   "language": "python",
   "name": "python3"
  },
  "language_info": {
   "codemirror_mode": {
    "name": "ipython",
    "version": 3
   },
   "file_extension": ".py",
   "mimetype": "text/x-python",
   "name": "python",
   "nbconvert_exporter": "python",
   "pygments_lexer": "ipython3",
   "version": "3.6.0"
  }
 },
 "nbformat": 4,
 "nbformat_minor": 2
}
