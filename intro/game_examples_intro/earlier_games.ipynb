{
 "cells": [
  {
   "cell_type": "markdown",
   "metadata": {},
   "source": [
    "This notebook contains snippets from Phillip Johnson: Make your own text adventure with Python.\n",
    "\n",
    "I have assembled these here. Perhaps we can use use some of these snippets for our intro notebooks."
   ]
  },
  {
   "cell_type": "markdown",
   "metadata": {},
   "source": [
    "#### Your workspace"
   ]
  },
  {
   "cell_type": "code",
   "execution_count": 3,
   "metadata": {},
   "outputs": [
    {
     "name": "stdout",
     "output_type": "stream",
     "text": [
      "Python 3.6.0 :: Anaconda custom (x86_64)\r\n"
     ]
    }
   ],
   "source": [
    "!python --version"
   ]
  },
  {
   "cell_type": "markdown",
   "metadata": {},
   "source": [
    "#### Your first program: The game"
   ]
  },
  {
   "cell_type": "markdown",
   "metadata": {},
   "source": [
    "![Punch Card](./graphics/026-card-700.jpg)"
   ]
  },
  {
   "cell_type": "markdown",
   "metadata": {},
   "source": [
    "Python code is organized in files called **modules**. Each file contains a significant amount of code that is logically related.\n",
    "\n",
    "For example our project will contain:\n",
    "\n",
    "  - a module that runs the game\n",
    "  - a module that contains \"the world\"\n",
    "  - a module that contains \"the enemies\" that live in \"the world\"\n",
    "  \n",
    "Let's create our first module."
   ]
  },
  {
   "cell_type": "markdown",
   "metadata": {},
   "source": [
    "Using your favourite editor, open up a file called: game.py\n",
    "And enter the following line:\n",
    "\n",
    "print('Escape from Cave Terror!')"
   ]
  }
 ],
 "metadata": {
  "kernelspec": {
   "display_name": "Python 3",
   "language": "python",
   "name": "python3"
  },
  "language_info": {
   "codemirror_mode": {
    "name": "ipython",
    "version": 3
   },
   "file_extension": ".py",
   "mimetype": "text/x-python",
   "name": "python",
   "nbconvert_exporter": "python",
   "pygments_lexer": "ipython3",
   "version": "3.6.0"
  }
 },
 "nbformat": 4,
 "nbformat_minor": 2
}
