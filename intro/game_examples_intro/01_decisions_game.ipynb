{
 "cells": [
  {
   "cell_type": "markdown",
   "metadata": {},
   "source": [
    "#### Decisions"
   ]
  },
  {
   "cell_type": "markdown",
   "metadata": {},
   "source": [
    "To be able to write an interesting game, we need to be able to express decisions in software (just as in real life \"it is all about decisions\")\n",
    "\n",
    "    If it rains (true | false):\n",
    "      then I will take the bus (true)\n",
    "      else I walk (false)\n",
    "  \n",
    "![George Boole](././graphics/boole.jpeg)"
   ]
  },
  {
   "cell_type": "markdown",
   "metadata": {},
   "source": [
    "Boolean expressions are statements that are either true or false:\n",
    "\n",
    "  - My age in years is 30\n",
    "  - I have two siblings\n",
    "  - 1 > 100\n",
    "  - 1 < 100"
   ]
  },
  {
   "cell_type": "code",
   "execution_count": 2,
   "metadata": {},
   "outputs": [
    {
     "data": {
      "text/plain": [
       "True"
      ]
     },
     "execution_count": 2,
     "metadata": {},
     "output_type": "execute_result"
    }
   ],
   "source": [
    "# In Python we might write these expressions as:\n",
    "\n",
    "age = 30 # Here = is the assignment operator\n",
    "siblings = 2\n",
    "age == 30 # True; == is the equality operator\n",
    "siblings == 2 # True\n",
    "1 > 100 # False\n",
    "1 < 100"
   ]
  },
  {
   "cell_type": "markdown",
   "metadata": {},
   "source": [
    "Operators we know sofar:\n",
    "\n",
    "+:========:+:===========+:=======================================+\n",
    "| Operator | Type       | Purpose                                |\n",
    "+----------+------------+----------------------------------------+\n",
    "| =        | Assignment | Assigns a value to a variable          |\n",
    "+----------+------------+----------------------------------------+\n",
    "| ==       | Comparison | Checks if two values are equal         |\n",
    "+----------+------------+----------------------------------------+\n",
    "| !=       | Comparison | Values or not equal                    |\n",
    "+----------+------------+----------------------------------------+\n",
    "| >        | Comparison | Left is greater than right             |\n",
    "+----------+------------+----------------------------------------+\n",
    "| >=       | Comparison | Left is greater than or equal to right |\n",
    "+----------+------------+----------------------------------------+\n",
    "| <        | Comparison | Left is less than right                |\n",
    "+----------+------------+----------------------------------------+\n",
    "| <=       | Comparison | Left is less than or equal to right    |\n",
    "+==========+============+========================================+"
   ]
  },
  {
   "cell_type": "markdown",
   "metadata": {},
   "source": [
    "Now that we know of data types and boolean expressions, we can start adding conditions with **if-statements** to our code. An if-statement must have a condition (some statement that is either true or false) and an action **if** the statement is *true* and *optionally* an action to take if the condition is *not true*."
   ]
  },
  {
   "cell_type": "code",
   "execution_count": 3,
   "metadata": {},
   "outputs": [
    {
     "name": "stdout",
     "output_type": "stream",
     "text": [
      "The condition is true!\n"
     ]
    }
   ],
   "source": [
    "n = 50\n",
    "if n < 100:\n",
    "    print('The condition is true!')\n",
    "else:\n",
    "    print('The condition is false!')"
   ]
  },
  {
   "cell_type": "code",
   "execution_count": 4,
   "metadata": {},
   "outputs": [
    {
     "name": "stdout",
     "output_type": "stream",
     "text": [
      "n is less than 1000.\n"
     ]
    }
   ],
   "source": [
    "# We can stack actions using the keyword elif, short for else if\n",
    "n = 150\n",
    "if n < 100:\n",
    "    print('n is less than 100.')\n",
    "elif n < 1000:\n",
    "    print('n is less than 1000.')\n",
    "else:\n",
    "    print('n is a pretty big number!')"
   ]
  },
  {
   "cell_type": "markdown",
   "metadata": {},
   "source": [
    "We learned a lot, now we can add some actions to our game project: game.py"
   ]
  },
  {
   "cell_type": "markdown",
   "metadata": {},
   "source": [
    "After we changed game.py, we now are prompted for an action when we run the file. We can choose one of the options \"n\", \"s\", \"e\", or \"w\". And the code will take that branch. If we enter any other option, we get a warning that the action is invalid (our fallback clause with the else statement)."
   ]
  }
 ],
 "metadata": {
  "kernelspec": {
   "display_name": "Python 3",
   "language": "python",
   "name": "python3"
  },
  "language_info": {
   "codemirror_mode": {
    "name": "ipython",
    "version": 3
   },
   "file_extension": ".py",
   "mimetype": "text/x-python",
   "name": "python",
   "nbconvert_exporter": "python",
   "pygments_lexer": "ipython3",
   "version": "3.6.0"
  }
 },
 "nbformat": 4,
 "nbformat_minor": 2
}
