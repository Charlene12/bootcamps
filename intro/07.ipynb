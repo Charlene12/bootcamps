{
 "cells": [
  {
   "cell_type": "markdown",
   "metadata": {
    "deletable": true,
    "editable": true,
    "slideshow": {
     "slide_type": "slide"
    }
   },
   "source": [
    "# Classes"
   ]
  },
  {
   "cell_type": "markdown",
   "metadata": {
    "deletable": true,
    "editable": true,
    "slideshow": {
     "slide_type": "fragment"
    }
   },
   "source": [
    "* Variables, lists, dictionaries etc. in python are objects\n",
    "* Object is a concept from [object-oriented programming](https://en.wikipedia.org/wiki/Object-oriented_programming)\n",
    "* OOP matches how we think about the world : cars, houses, buildings\n",
    "* Objects contain properties and can do things"
   ]
  },
  {
   "cell_type": "markdown",
   "metadata": {
    "deletable": true,
    "editable": true,
    "slideshow": {
     "slide_type": "fragment"
    }
   },
   "source": [
    "### Terminology\n",
    "\n",
    "* class : abstract concept of an object, template\n",
    "* object : actual intance of a class\n",
    "* instance : what Python returns after creating an object\n",
    "* self : inside the class, variable that refers to the instance\n",
    "* attribute / field / property : variable that stores a piece of data\n",
    "* method / procedure : function tied to the instance"
   ]
  },
  {
   "cell_type": "markdown",
   "metadata": {
    "deletable": true,
    "editable": true,
    "slideshow": {
     "slide_type": "subslide"
    }
   },
   "source": [
    "### Declaration  \n",
    "<p/>  \n",
    "```python\n",
    "class MyClass:\n",
    "    \"\"\" Docstring of the class \"\"\"\n",
    "    my_method(my_args)\n",
    "```"
   ]
  },
  {
   "cell_type": "markdown",
   "metadata": {
    "deletable": true,
    "editable": true,
    "slideshow": {
     "slide_type": "fragment"
    }
   },
   "source": [
    "### Instantiation    \n",
    "<p/>\n",
    "```python\n",
    "my_class = MyClass()\n",
    "```"
   ]
  },
  {
   "cell_type": "code",
   "execution_count": null,
   "metadata": {
    "collapsed": false,
    "deletable": true,
    "editable": true,
    "slideshow": {
     "slide_type": "fragment"
    }
   },
   "outputs": [],
   "source": [
    "class MyClass:\n",
    "    \"\"\" Docstring of the class \"\"\"\n",
    "    def my_method(self):\n",
    "        pass\n",
    "    \n",
    "my_class = MyClass()\n",
    "my_class.my_method()"
   ]
  },
  {
   "cell_type": "markdown",
   "metadata": {
    "deletable": true,
    "editable": true,
    "slideshow": {
     "slide_type": "subslide"
    }
   },
   "source": [
    "### Initialization\n",
    "\n",
    "* \\_\\_init\\_\\_()\n",
    "* Initialization is coupled with instatiation"
   ]
  },
  {
   "cell_type": "code",
   "execution_count": null,
   "metadata": {
    "collapsed": false,
    "deletable": true,
    "editable": true,
    "slideshow": {
     "slide_type": "fragment"
    }
   },
   "outputs": [],
   "source": [
    "class MyClass():\n",
    "    def __init__(self):\n",
    "        self.name = 'Data Science'\n",
    "\n",
    "my_class = MyClass()\n",
    "print(my_class.name)"
   ]
  },
  {
   "cell_type": "markdown",
   "metadata": {
    "collapsed": false,
    "deletable": true,
    "editable": true,
    "slideshow": {
     "slide_type": "fragment"
    }
   },
   "source": [
    "* Passing in a value"
   ]
  },
  {
   "cell_type": "code",
   "execution_count": null,
   "metadata": {
    "collapsed": false,
    "deletable": true,
    "editable": true,
    "slideshow": {
     "slide_type": "fragment"
    }
   },
   "outputs": [],
   "source": [
    "class MyClass(): \n",
    "    def __init__(self, name):\n",
    "        self.name = name\n",
    "        \n",
    "my_class = MyClass('Python Bootcamp')\n",
    "print(my_class.name)"
   ]
  },
  {
   "cell_type": "markdown",
   "metadata": {
    "deletable": true,
    "editable": true,
    "slideshow": {
     "slide_type": "subslide"
    }
   },
   "source": [
    "### Representation\n",
    "\n",
    "* \\_\\_repr\\_\\_()\n",
    "* return a readable string"
   ]
  },
  {
   "cell_type": "code",
   "execution_count": null,
   "metadata": {
    "collapsed": false,
    "deletable": true,
    "editable": true,
    "slideshow": {
     "slide_type": "fragment"
    }
   },
   "outputs": [],
   "source": [
    "class MyClass(): \n",
    "    def __init__(self, name):\n",
    "        self.name = name\n",
    "        \n",
    "my_class = MyClass('Python Bootcamp')\n",
    "print(my_class)"
   ]
  },
  {
   "cell_type": "code",
   "execution_count": null,
   "metadata": {
    "collapsed": false,
    "deletable": true,
    "editable": true,
    "slideshow": {
     "slide_type": "fragment"
    }
   },
   "outputs": [],
   "source": [
    "class MyClass():\n",
    "    def __init__(self):\n",
    "        self.name = 'Python Bootcamp'\n",
    "        \n",
    "    def __repr__(self):\n",
    "        return \"A MyClass object with name : \" + self.name\n",
    "\n",
    "my_class = MyClass()\n",
    "print(my_class)"
   ]
  },
  {
   "cell_type": "markdown",
   "metadata": {
    "collapsed": false,
    "deletable": true,
    "editable": true,
    "slideshow": {
     "slide_type": "subslide"
    }
   },
   "source": [
    "### Self defined methods"
   ]
  },
  {
   "cell_type": "code",
   "execution_count": null,
   "metadata": {
    "collapsed": false,
    "deletable": true,
    "editable": true,
    "slideshow": {
     "slide_type": "fragment"
    }
   },
   "outputs": [],
   "source": [
    "class MyClass(): \n",
    "    def __init__(self, name='Data Science'):\n",
    "        self.name = name\n",
    "        self.questions = []\n",
    "        self.answers = []\n",
    "    \n",
    "    def add_question(self, question):\n",
    "        self.questions.append(question)\n",
    "    \n",
    "    def add_answer(self, answer): \n",
    "        self.answers.append(answer)\n",
    "        \n",
    "my_class = MyClass('Python Bootcamp')"
   ]
  },
  {
   "cell_type": "code",
   "execution_count": null,
   "metadata": {
    "collapsed": false,
    "deletable": true,
    "editable": true,
    "slideshow": {
     "slide_type": "fragment"
    }
   },
   "outputs": [],
   "source": [
    "print(my_class.name)\n",
    "print(my_class.questions)\n",
    "print(my_class.answers)"
   ]
  },
  {
   "cell_type": "code",
   "execution_count": null,
   "metadata": {
    "collapsed": false,
    "deletable": true,
    "editable": true,
    "slideshow": {
     "slide_type": "subslide"
    }
   },
   "outputs": [],
   "source": [
    "my_class.add_question('What question should I ask?')\n",
    "my_class.add_answer('Think of anything!')"
   ]
  },
  {
   "cell_type": "code",
   "execution_count": null,
   "metadata": {
    "collapsed": false,
    "deletable": true,
    "editable": true,
    "slideshow": {
     "slide_type": "fragment"
    }
   },
   "outputs": [],
   "source": [
    "print(my_class.name)\n",
    "print(my_class.questions)\n",
    "print(my_class.answers)"
   ]
  },
  {
   "cell_type": "markdown",
   "metadata": {
    "deletable": true,
    "editable": true,
    "slideshow": {
     "slide_type": "slide"
    }
   },
   "source": [
    "### Using Multiple Objects\n",
    "That's the whole point of them, right?"
   ]
  },
  {
   "cell_type": "code",
   "execution_count": null,
   "metadata": {
    "collapsed": false,
    "deletable": true,
    "editable": true,
    "slideshow": {
     "slide_type": "subslide"
    }
   },
   "outputs": [],
   "source": [
    "class Member():   \n",
    "    def __init__(self, name): \n",
    "        self.name = name\n",
    "        self.questions_asked = []\n",
    "        self.questions_answered = []\n",
    "    \n",
    "    def add_question(self, question): \n",
    "        self.questions_asked.append(question)\n",
    "    \n",
    "    def add_answer(self, question): \n",
    "        self.questions_answered.append(question)"
   ]
  },
  {
   "cell_type": "code",
   "execution_count": null,
   "metadata": {
    "collapsed": false,
    "deletable": true,
    "editable": true,
    "slideshow": {
     "slide_type": "subslide"
    }
   },
   "outputs": [],
   "source": [
    "class MyClass():\n",
    "    def __init__(self, name='Data Science'): \n",
    "        self.name = name\n",
    "        self.members = []\n",
    "    \n",
    "    def num_questions_asked(self): \n",
    "        total_questions = 0\n",
    "        for member in members: \n",
    "            total_questions += len(member.questions_asked)\n",
    "        \n",
    "        return total_questions\n",
    "        \n",
    "    def num_questions_answered(self): \n",
    "        total_questions = 0\n",
    "        for member in members: \n",
    "            total_questions += len(member.questions_answered)\n",
    "        \n",
    "        return total_questions"
   ]
  },
  {
   "cell_type": "code",
   "execution_count": null,
   "metadata": {
    "collapsed": false,
    "deletable": true,
    "editable": true,
    "slideshow": {
     "slide_type": "subslide"
    }
   },
   "outputs": [],
   "source": [
    "# Create some members. \n",
    "josh = Member('Josh')\n",
    "joanna = Member('Joanna')\n",
    "sean = Member('Sean')\n",
    "members = [josh, joanna, sean]\n",
    "\n",
    "# Create a class and add the members to it. \n",
    "my_class = MyClass()\n",
    "my_class.members = members"
   ]
  },
  {
   "cell_type": "code",
   "execution_count": null,
   "metadata": {
    "collapsed": false,
    "deletable": true,
    "editable": true,
    "slideshow": {
     "slide_type": "fragment"
    }
   },
   "outputs": [],
   "source": [
    "print(\"Class name  :\", my_class.name)\n",
    "for member in my_class.members: \n",
    "    print(\"Member name :\", member.name)"
   ]
  },
  {
   "cell_type": "code",
   "execution_count": null,
   "metadata": {
    "collapsed": false,
    "deletable": true,
    "editable": true,
    "slideshow": {
     "slide_type": "fragment"
    }
   },
   "outputs": [],
   "source": [
    "print(\"asked    :\", my_class.num_questions_asked())\n",
    "print(\"answered :\", my_class.num_questions_answered())"
   ]
  },
  {
   "cell_type": "code",
   "execution_count": null,
   "metadata": {
    "collapsed": false,
    "deletable": true,
    "editable": true,
    "slideshow": {
     "slide_type": "subslide"
    }
   },
   "outputs": [],
   "source": [
    "josh.add_question(\"Hello, who's there?\")\n",
    "joanna.add_answer(\"It's me, Joanna\")"
   ]
  },
  {
   "cell_type": "code",
   "execution_count": null,
   "metadata": {
    "collapsed": false,
    "deletable": true,
    "editable": true,
    "slideshow": {
     "slide_type": "fragment"
    }
   },
   "outputs": [],
   "source": [
    "print(\"asked    :\", my_class.num_questions_asked())\n",
    "print(\"answered :\", my_class.num_questions_answered())"
   ]
  },
  {
   "cell_type": "code",
   "execution_count": null,
   "metadata": {
    "collapsed": false,
    "deletable": true,
    "editable": true,
    "slideshow": {
     "slide_type": "fragment"
    }
   },
   "outputs": [],
   "source": [
    "for member in my_class.members:\n",
    "    print(member.name, member.questions_asked)"
   ]
  },
  {
   "cell_type": "code",
   "execution_count": null,
   "metadata": {
    "collapsed": false,
    "deletable": true,
    "editable": true,
    "slideshow": {
     "slide_type": "fragment"
    }
   },
   "outputs": [],
   "source": [
    "for member in my_class.members:\n",
    "    print(member.name, member.questions_answered)"
   ]
  },
  {
   "cell_type": "markdown",
   "metadata": {
    "slideshow": {
     "slide_type": "slide"
    }
   },
   "source": [
    "# Modules"
   ]
  },
  {
   "cell_type": "raw",
   "metadata": {
    "deletable": true,
    "editable": true,
    "slideshow": {
     "slide_type": "notes"
    }
   },
   "source": [
    "%%html\n",
    "<style>\n",
    "body:after {\n",
    "    content: \"07 \\a Classes \\a Modules\";\n",
    "}\n",
    "</style>"
   ]
  }
 ],
 "metadata": {
  "celltoolbar": "Slideshow",
  "kernelspec": {
   "display_name": "Python 3",
   "language": "python",
   "name": "python3"
  },
  "language_info": {
   "codemirror_mode": {
    "name": "ipython",
    "version": 3
   },
   "file_extension": ".py",
   "mimetype": "text/x-python",
   "name": "python",
   "nbconvert_exporter": "python",
   "pygments_lexer": "ipython3",
   "version": "3.5.2"
  }
 },
 "nbformat": 4,
 "nbformat_minor": 0
}
