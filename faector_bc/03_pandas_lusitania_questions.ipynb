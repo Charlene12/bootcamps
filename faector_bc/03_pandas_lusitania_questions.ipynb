{
 "cells": [
  {
   "cell_type": "markdown",
   "metadata": {},
   "source": [
    "### The Lusitania\n",
    "\n",
    "The RMS Lusitania was a British ocean liner that was topedoed near the Irish coast on the afternoon of May 7th 1915 by a German U-boat. The ship sank in 18 minutes and 1198 passengers and crew died in the disaster."
   ]
  },
  {
   "cell_type": "markdown",
   "metadata": {},
   "source": [
    "Q: Try to load the csv file \"lusitania_02.csv\" that is in the data directory in a Pandas dataframe."
   ]
  },
  {
   "cell_type": "markdown",
   "metadata": {},
   "source": [
    "Q: Using some of the built-in Pandas methods get to know the data in the Lusitania file. Compared to what we found out aboyt the Titanic, do you see differences? What is the status of the data? Is it tidy? Are there many missing values?"
   ]
  }
 ],
 "metadata": {
  "kernelspec": {
   "display_name": "Python 3",
   "language": "python",
   "name": "python3"
  },
  "language_info": {
   "codemirror_mode": {
    "name": "ipython",
    "version": 3
   },
   "file_extension": ".py",
   "mimetype": "text/x-python",
   "name": "python",
   "nbconvert_exporter": "python",
   "pygments_lexer": "ipython3",
   "version": "3.6.3"
  }
 },
 "nbformat": 4,
 "nbformat_minor": 2
}
