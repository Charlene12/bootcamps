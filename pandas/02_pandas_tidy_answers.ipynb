{
 "cells": [
  {
   "cell_type": "markdown",
   "metadata": {},
   "source": [
    "#### Global Historical Climatology Network Dataset\n",
    "\n",
    "Problems to solve (variables in rows and columns):\n",
    "\n",
    "  - tmin and tmax variables in one column as data\n",
    "  - actual values somewhere in the day columns"
   ]
  },
  {
   "cell_type": "code",
   "execution_count": null,
   "metadata": {},
   "outputs": [],
   "source": [
    "import pandas as pd\n",
    "\n",
    "messy = pd.read_csv('./data/weather-raw.csv')\n",
    "messy"
   ]
  },
  {
   "cell_type": "markdown",
   "metadata": {},
   "source": [
    "Sparse data; we can not throw away the missing values, because we will loose the 4 rows that contain the information. So, we are going to melt the dataframe first."
   ]
  },
  {
   "cell_type": "code",
   "execution_count": null,
   "metadata": {},
   "outputs": [],
   "source": [
    "molten = pd.melt(messy,\n",
    "                id_vars = ['id', 'year', 'month', 'element',],\n",
    "                var_name = 'day');\n",
    "molten.dropna(inplace = True)\n",
    "molten = molten.reset_index(drop = True)\n",
    "molten"
   ]
  },
  {
   "cell_type": "markdown",
   "metadata": {},
   "source": [
    "The dataframe is not tidy yet. The \"element\" column contains variable names. And, one variable \"date\" is shattered over 3 variables: \"year\", \"month\", and \"day\". We will fix the last problem first."
   ]
  },
  {
   "cell_type": "code",
   "execution_count": null,
   "metadata": {},
   "outputs": [],
   "source": [
    "def f(row):\n",
    "    return \"%d-%02d-%02d\" % (row['year'], row['month'], int(row['day'][1:]))\n",
    "\n",
    "molten['date'] = molten.apply(f, axis = 1)\n",
    "molten = molten[['id', 'element', 'value', 'date']]\n",
    "molten"
   ]
  },
  {
   "cell_type": "markdown",
   "metadata": {},
   "source": [
    "Now we just have to pivot the \"element\" column:"
   ]
  },
  {
   "cell_type": "code",
   "execution_count": null,
   "metadata": {},
   "outputs": [],
   "source": [
    "tidy = molten.pivot(index='date', columns='element', values='value')\n",
    "tidy"
   ]
  },
  {
   "cell_type": "markdown",
   "metadata": {},
   "source": [
    "But now we lost the 'id' column. The trick is to move the 'id' to an index with the groupby() function and apply the pivot() function inside each group."
   ]
  },
  {
   "cell_type": "code",
   "execution_count": null,
   "metadata": {},
   "outputs": [],
   "source": [
    "tidy = molten.groupby('id').apply(pd.DataFrame.pivot,\n",
    "                                 index='date',\n",
    "                                 columns='element',\n",
    "                                 values='value')\n",
    "tidy"
   ]
  },
  {
   "cell_type": "markdown",
   "metadata": {},
   "source": [
    "So, we have 'id' back, but we like to have it as a column:"
   ]
  },
  {
   "cell_type": "code",
   "execution_count": null,
   "metadata": {},
   "outputs": [],
   "source": [
    "tidy.reset_index(inplace=True)\n",
    "tidy"
   ]
  },
  {
   "cell_type": "markdown",
   "metadata": {},
   "source": [
    "#### One type in multiple tables\n",
    "\n",
    "here the problems are the following:\n",
    "\n",
    "  - the data is spread across multiple tables/files\n",
    "  - the \"year\" variable is present, but in the file name"
   ]
  },
  {
   "cell_type": "code",
   "execution_count": null,
   "metadata": {},
   "outputs": [],
   "source": [
    "import sys\n",
    "import glob\n",
    "import re\n",
    "\n",
    "def extract_year(string):\n",
    "    match = re.match(\".+(\\d{4})\", string)\n",
    "    if match != None: return match.group(1)\n",
    "    \n",
    "path = './data'\n",
    "allFiles = glob.glob(path + \"/201*-baby-names-illinois.csv\")\n",
    "frame = pd.DataFrame()\n",
    "df_list = []\n",
    "for file_ in allFiles:\n",
    "    df = pd.read_csv(file_, index_col = None, header = 0)\n",
    "    df.columns = map(str.lower, df.columns)\n",
    "    df[\"year\"] = extract_year(file_)\n",
    "    df_list.append(df)\n",
    "    \n",
    "df = pd.concat(df_list)\n",
    "df.head(10)"
   ]
  }
 ],
 "metadata": {
  "kernelspec": {
   "display_name": "Python 3",
   "language": "python",
   "name": "python3"
  },
  "language_info": {
   "codemirror_mode": {
    "name": "ipython",
    "version": 3
   },
   "file_extension": ".py",
   "mimetype": "text/x-python",
   "name": "python",
   "nbconvert_exporter": "python",
   "pygments_lexer": "ipython3",
   "version": "3.6.0"
  }
 },
 "nbformat": 4,
 "nbformat_minor": 2
}
