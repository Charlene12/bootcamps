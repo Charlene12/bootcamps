{
 "cells": [
  {
   "cell_type": "markdown",
   "metadata": {},
   "source": [
    "The use of axis = 0 or axis = 1 in Pandas has confused a lot of users of the library, including yours truly. So much so, that there is a stackoverflow question dedicated to the topic [What does axis in Pandas mean?](http://stackoverflow.com/questions/22149584/what-does-axis-in-pandas-mean).\n",
    "\n",
    "Read the content of the webpage carefully, and experiment with some code."
   ]
  },
  {
   "cell_type": "markdown",
   "metadata": {},
   "source": [
    "Open up the Pandas documentation on [visualization](http://pandas.pydata.org/pandas-docs/stable/visualization.html) and try out in a notebook some of the plotting functions."
   ]
  },
  {
   "cell_type": "markdown",
   "metadata": {},
   "source": [
    "Dive into the [Seaborn tutorial](http://seaborn.pydata.org/tutorial.html) and follow some of the examples presented there."
   ]
  }
 ],
 "metadata": {
  "kernelspec": {
   "display_name": "Python 3",
   "language": "python",
   "name": "python3"
  },
  "language_info": {
   "codemirror_mode": {
    "name": "ipython",
    "version": 3
   },
   "file_extension": ".py",
   "mimetype": "text/x-python",
   "name": "python",
   "nbconvert_exporter": "python",
   "pygments_lexer": "ipython3",
   "version": "3.6.0"
  }
 },
 "nbformat": 4,
 "nbformat_minor": 2
}
