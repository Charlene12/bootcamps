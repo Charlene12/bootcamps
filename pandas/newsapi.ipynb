{
 "cells": [
  {
   "cell_type": "markdown",
   "metadata": {},
   "source": [
    "This notebook contains a complete example how to use the API of a service provider to get information and process the information. This example touches upon tackling a lot of problems at the same time, but once you got your head around it, it can serve as a framework to address real world issues. The example is based upon a notebook published by Ahmed Besbes: http://ahmedbesbes.com/how-to-mine-newsfeed-data-and-extract-interactive-insights-in-python.html\n",
    "\n",
    "Although we start this example using an API, this first step could also be replaced by web-scraping to get data. We prefer the API route, because web-scraping is a somewhat cumbersome and brittle undertaking."
   ]
  }
 ],
 "metadata": {
  "kernelspec": {
   "display_name": "Python 3",
   "language": "python",
   "name": "python3"
  },
  "language_info": {
   "codemirror_mode": {
    "name": "ipython",
    "version": 3
   },
   "file_extension": ".py",
   "mimetype": "text/x-python",
   "name": "python",
   "nbconvert_exporter": "python",
   "pygments_lexer": "ipython3",
   "version": "3.6.0"
  }
 },
 "nbformat": 4,
 "nbformat_minor": 2
}
