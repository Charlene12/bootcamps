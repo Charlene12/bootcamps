{
 "cells": [
  {
   "cell_type": "markdown",
   "metadata": {},
   "source": [
    "Before we start using Pandas, the Python library that makes working with tabular data much easier, we will try to get some grip on the underlying stuff.\n",
    "\n",
    "First of all we make a directory to store our files. In the terminal run the following commands:\n",
    "\n",
    "cd ~\n",
    "mkdir Projects\n",
    "cd Projects\n",
    "mkdir myproject\n",
    "cd myproject\n",
    "touch foo.py\n",
    "\n",
    "Now open up your editor of choice, open the file \"foo.py\" and type in the following short Python program (we will get to the meaning of the parts of program later on) and save the file."
   ]
  },
  {
   "cell_type": "code",
   "execution_count": null,
   "metadata": {
    "collapsed": true
   },
   "outputs": [],
   "source": [
    "#!/usr/bin/env python\n",
    "import csv\n",
    "\n",
    "def dataset(path):\n",
    "    with open(path, 'rU') as data:\n",
    "        reader = csv.reader(data)\n",
    "        for row in reader:\n",
    "            row[2] = int(row[2])\n",
    "            yield row"
   ]
  },
  {
   "cell_type": "markdown",
   "metadata": {},
   "source": [
    "We open up our editor of choice again and enter some data to work with:\n",
    "\n",
    "butter,tbsp,102\n",
    "cheddar cheese,slice,113\n",
    "whole milk,cup,148\n",
    "hamburger,item,254\n",
    "\n",
    "and save the file in a working directory as \"calories.csv\""
   ]
  },
  {
   "cell_type": "markdown",
   "metadata": {},
   "source": [
    "In your directory (\"~/Projects/myproject\") open up a Python repl with the command:\n",
    "python"
   ]
  },
  {
   "cell_type": "code",
   "execution_count": null,
   "metadata": {
    "collapsed": true
   },
   "outputs": [],
   "source": [
    "# After the prompt (\">>>\") enter the following line:\n",
    "from foo import dataset [return]\n",
    "# And then the following two lines\n",
    "for row in dataset(\"calories.csv\"):\n",
    "    print(row[0])"
   ]
  }
 ],
 "metadata": {
  "kernelspec": {
   "display_name": "Python 3",
   "language": "python",
   "name": "python3"
  },
  "language_info": {
   "codemirror_mode": {
    "name": "ipython",
    "version": 3
   },
   "file_extension": ".py",
   "mimetype": "text/x-python",
   "name": "python",
   "nbconvert_exporter": "python",
   "pygments_lexer": "ipython3",
   "version": "3.6.0"
  }
 },
 "nbformat": 4,
 "nbformat_minor": 2
}
