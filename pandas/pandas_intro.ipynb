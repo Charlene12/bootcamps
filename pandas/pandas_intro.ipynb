{
 "cells": [
  {
   "cell_type": "markdown",
   "metadata": {},
   "source": [
    "In order to get some feeling for the things you can do with the Python Pandas library, we follow a small example that was compiled by Jake Van der Plas.\n",
    "\n",
    "He is the author of the \"Python Data Science Handbook\" published by O'Reilly. The complete book is freely available as a set of Ipython Notebooks at:\n",
    "\n",
    "http://nbviewer.jupyter.org/github/jakevdp/PythonDataScienceHandbook/blob/master/notebooks/Index.ipynb"
   ]
  },
  {
   "cell_type": "markdown",
   "metadata": {},
   "source": [
    "We will using a dataset from Seattle, WA in the USA, the so-called Fremont Bridge Bicycle Counter dataset:\n",
    "\n",
    "http://www.seattle.gov/transportation/bikecounter_fremont.htm\n",
    "\n",
    "The dataset in csv format can be downloaded from here:\n",
    "\n",
    "https://data.seattle.gov/Transportation/Fremont-Bridge-Hourly-Bicycle-Counts-by-Month-Octo/65db-xm6k"
   ]
  },
  {
   "cell_type": "code",
   "execution_count": null,
   "metadata": {
    "collapsed": true
   },
   "outputs": [],
   "source": [
    "# We note the actual URL to download the dataset below\n",
    "# Using the right-click \"copy link address\" from the download pulldown menu on \"csv\"\n",
    "URL = \"https://data.seattle.gov/api/views/65db-xm6k/rows.csv?accessType=DOWNLOAD\""
   ]
  }
 ],
 "metadata": {
  "kernelspec": {
   "display_name": "Python 3",
   "language": "python",
   "name": "python3"
  },
  "language_info": {
   "codemirror_mode": {
    "name": "ipython",
    "version": 3
   },
   "file_extension": ".py",
   "mimetype": "text/x-python",
   "name": "python",
   "nbconvert_exporter": "python",
   "pygments_lexer": "ipython3",
   "version": "3.6.0"
  }
 },
 "nbformat": 4,
 "nbformat_minor": 2
}
