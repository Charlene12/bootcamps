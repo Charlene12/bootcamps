{
 "cells": [
  {
   "cell_type": "markdown",
   "metadata": {},
   "source": [
    "Before we start using Pandas, the Python library that makes working with tabular data much easier, we will try to get some grip on the underlying stuff.\n",
    "First of all we make a directory to store our files. In the terminal run the following commands:\n",
    "\n",
    "  - cd ~\n",
    "  - mkdir Projects\n",
    "  - cd Projects\n",
    "  - mkdir myproject\n",
    "  - cd myproject\n",
    "  \n",
    "In this directory open up an editor and start entering the following lines (without the dots):\n",
    "\n",
    "  food,amount,calories\n",
    "  butter,tbsp,102\n",
    "  cheddar cheese,slice,113\n",
    "  whole milk,cup,148\n",
    "  hamburger,item,254\n",
    "  \n",
    "and save the file as \"calories.csv\""
   ]
  },
  {
   "cell_type": "markdown",
   "metadata": {},
   "source": [
    "Now enter this rather lengthy Python snippet in your editor as \"csv_01.py\":"
   ]
  },
  {
   "cell_type": "code",
   "execution_count": null,
   "metadata": {},
   "outputs": [],
   "source": [
    "#!/usr/bin/env python\n",
    "import sys\n",
    "\n",
    "input_file = sys.argv[1]\n",
    "output_file = sys.argv[2]\n",
    "\n",
    "with open(input_file, 'r', newline='') as filereader:\n",
    "    with open(output_file, 'w', newline='') as filewriter:\n",
    "        header = filereader.readline()\n",
    "        header = header.strip()\n",
    "        header_list = header.split(',')\n",
    "        print(header_list)\n",
    "        filewriter.write(','.join(map(str,header_list))+'\\n')\n",
    "        for row in filereader:\n",
    "            row = row.strip()\n",
    "            row_list = row.split(',')\n",
    "            print(row_list)\n",
    "            filewriter.write(','.join(map(str,row_list))+'\\n')"
   ]
  },
  {
   "cell_type": "markdown",
   "metadata": {},
   "source": [
    "Your project directory should now contain the following two files:\n",
    "\n",
    "  csv_01.py\n",
    "  calories.csv"
   ]
  },
  {
   "cell_type": "markdown",
   "metadata": {},
   "source": [
    "So what does the code do?\n",
    "\n",
    "The first line is a comment line that makes the script usuable on various platforms.\n",
    "On the second line we import the sys (short for system) library, so that we in the next two lines can assign the first two arguments after the program name, when we run the file, to the variables \"input_file\" and \"output_file\".\n",
    "\n",
    "Then, with line 7, we open the file for reading ('r') from the commandline referred to by the variable \"input_file\" as a file object referred to as \"filereader\". In the next line we open a file for writing ('w') as a file object filewriter. Remember that list indexing in Python starts with 0. So argv[0] always refers to the script that one runs, argv[1] is the next argument on the commandline (the input_file) and argv[2] refers to the output_file.\n",
    "\n",
    "Line 9 uses the file_object's readline method to read in the first line of the input file as a string and assigns it to a variable named \"header\". So \"header\" now contains the first line of the input file \"food,amount,calories\". With line 10 we strip all whitespace from the string and line 11 splits the content of header on the  \",\" into a list of strings: ['food', 'amount', 'calories'] referred to by the variable \"header_list\".\n",
    "\n",
    "Then we do two things: Line 12 prints the content of \"header_list\" to standard output (the terminal when running the program) and line 13 writes the contents of \"header list\" to the filewriter object but it does the opposite of the split method: first of all it maps the \"str\" function over all elements of the \"header_list\", then it joins these elements with a ',' and adds a newline at the end.\n",
    "\n",
    "So what it does is: ['food', 'amount', 'calories'] => 'food,amount,calories' and hands it over to filewriter. The rest of the input file is going through the same motion, but we use a for loop here to process all remaining lines of the input file.\n",
    "\n",
    "So we did write a little \"roundtripper\" that touched all elements of the csv file (input), writing intermediate results to screen, and writing the end result to file.\n",
    "\n",
    "Now this might seem like a lot of work for doing \"nothing\", but it served a special purpose here: Showing how to process a csv file *not* using any libraries. But what is more, we could have done all sorts of useful stuff before writing the contents of the input file back to the output file."
   ]
  },
  {
   "cell_type": "markdown",
   "metadata": {},
   "source": [
    "In the following snippet, csv_02.py, we use the Python library \"csv\" to do most of the work for us. We use the reader method of the library to read the contents of the csv file into a reader object.\n",
    "\n",
    "If we use the file csv_02.py to print the contents of the file \"calories.csv\" to screen, we see that the library did the same as our reader function in csv_01.py: splitting the items of a line into a list of strings."
   ]
  },
  {
   "cell_type": "code",
   "execution_count": null,
   "metadata": {},
   "outputs": [],
   "source": [
    "#!/usr/bin/env python\n",
    "import csv\n",
    "\n",
    "def dataset(path):\n",
    "    with open(path, 'rU') as data:\n",
    "        reader = csv.reader(data)\n",
    "        for row in reader:\n",
    "            row[2] = int(row[2])\n",
    "            yield row"
   ]
  },
  {
   "cell_type": "markdown",
   "metadata": {},
   "source": [
    "In your directory (\"~/Projects/myproject\") open up a Python REPL with the command:\n",
    "python or ipython"
   ]
  },
  {
   "cell_type": "code",
   "execution_count": null,
   "metadata": {},
   "outputs": [],
   "source": [
    "# After the prompt (\">>>\") enter the following line:\n",
    "from foo import dataset # and hit [return]\n",
    "# And then the following two lines\n",
    "for row in dataset(\"calories.csv\"):\n",
    "    print(row)"
   ]
  },
  {
   "cell_type": "markdown",
   "metadata": {},
   "source": [
    "![Python REPL commands](./graphics/pandas_intro_01.png)"
   ]
  },
  {
   "cell_type": "markdown",
   "metadata": {},
   "source": [
    "We can add the command we just entered, and which you can see in the image above, to the file foo.py"
   ]
  },
  {
   "cell_type": "code",
   "execution_count": null,
   "metadata": {},
   "outputs": [],
   "source": [
    "#!/usr/bin/env python\n",
    "import csv\n",
    "\n",
    "def dataset(path):\n",
    "    with open(path, 'rU') as data:\n",
    "        reader = csv.reader(data)\n",
    "        for row in reader:\n",
    "            row[2] = int(row[2])\n",
    "            yield row\n",
    "            \n",
    "if __name__ == '__main__':\n",
    "    for row in dataset(\"calories.csv\"):\n",
    "        print(row[0])"
   ]
  },
  {
   "cell_type": "markdown",
   "metadata": {},
   "source": [
    "The trick here is the line beginning with \"if __name__ ==\" which makes that we can run the file as input to Python, from the commandline."
   ]
  },
  {
   "cell_type": "markdown",
   "metadata": {},
   "source": [
    "![Run foo.py from the CLI](./graphics/pandas_intro_02.png)"
   ]
  },
  {
   "cell_type": "markdown",
   "metadata": {},
   "source": [
    "So, now we have a project directory with a data file and a small program. There exist some guidelines how to properly structure a larger Python project.\n",
    "\n",
    "You will find more information on the website of Zed Shaw [Learn Python the hard way](https://learnpythonthehardway.org/book/ex46.html)\n",
    "\n",
    "One uses a standard directory structure, together with virtual environments and everything under version control."
   ]
  },
  {
   "cell_type": "markdown",
   "metadata": {},
   "source": [
    "We have seen how libraries can simplify your work by shielding you off a lot low-level details. On the other hand, when things go wrong, and things will go wrong:-), you are looking at a black box, unless you understand what a library provide under the hood. That is why it always is a good idea to study the documentation and examples a library provides carefully. Start testing the problems you want to solve right away, plug them in, instead of slavely following the tutorial."
   ]
  },
  {
   "cell_type": "markdown",
   "metadata": {},
   "source": [
    "In the first example we read in a csv file line by line and in our second try we saw that using the csv library, we could use its reader method to return an iterator over all rows of the csv file.\n",
    "\n",
    "The Pandas library reads in a csv file and returns a dataframe."
   ]
  },
  {
   "cell_type": "code",
   "execution_count": null,
   "metadata": {
    "collapsed": true
   },
   "outputs": [],
   "source": [
    "import pandas as pd\n",
    "df = pd.read_csv(\"./data/calories.csv\")\n",
    "df.head()"
   ]
  },
  {
   "cell_type": "markdown",
   "metadata": {},
   "source": [
    "Before we dive deeper into Pandas, we present the code for our \"roundtrip\" example."
   ]
  },
  {
   "cell_type": "code",
   "execution_count": null,
   "metadata": {},
   "outputs": [],
   "source": [
    "#!/usr/bin/env python\n",
    "import sys\n",
    "import pandas as pd\n",
    "input_file = sys.argv[1]\n",
    "output_file = sys.argv[2]\n",
    "data_frame = pd.read_csv(input_file) print(data_frame) data_frame.to_csv(output_file, index=False)"
   ]
  },
  {
   "cell_type": "markdown",
   "metadata": {},
   "source": [
    "We can run this file in the project directory as:\n",
    "\n",
    "  python csv_03.py calories.csv out3.csv"
   ]
  }
 ],
 "metadata": {
  "kernelspec": {
   "display_name": "Python 3",
   "language": "python",
   "name": "python3"
  },
  "language_info": {
   "codemirror_mode": {
    "name": "ipython",
    "version": 3
   },
   "file_extension": ".py",
   "mimetype": "text/x-python",
   "name": "python",
   "nbconvert_exporter": "python",
   "pygments_lexer": "ipython3",
   "version": "3.6.0"
  }
 },
 "nbformat": 4,
 "nbformat_minor": 2
}
