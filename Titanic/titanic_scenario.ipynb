{
 "cells": [
  {
   "cell_type": "markdown",
   "metadata": {},
   "source": [
    "### Analyzing Titanic Data: Scenario"
   ]
  },
  {
   "cell_type": "markdown",
   "metadata": {},
   "source": [
    "#### Introduction\n",
    "- Set a working directory\n",
    "- Import the data files we are going to work with"
   ]
  },
  {
   "cell_type": "markdown",
   "metadata": {},
   "source": [
    "#### Slicing and dicing\n",
    "- Get to know your data\n",
    "- Is it tidy? Look at the values, observations (rows) and variables (columns). Data missing?\n",
    "- How is the data structured?\n",
    "- What do you want to know? See any promising paths to get there? Survived?"
   ]
  },
  {
   "cell_type": "markdown",
   "metadata": {},
   "source": [
    "Since we have the luxury to have access to two prepared datasets, a training dataset and a test set, let's try to see if we can \"learn\" from the training set to predict the fate of the persons that are part of the test set. Survived: 1 0?"
   ]
  },
  {
   "cell_type": "markdown",
   "metadata": {},
   "source": [
    "Since a lot of people (almost 62%) died, we can predict that in the test set the majority of people will not survive the disaster. Of course our test file did not contain a column \"Survived\", because we were going to predict that from our training set. So, we add that column, \"Survived\" to our test dataframe. And we fill that column with all zeros (0's) for died.\n",
    "\n",
    "Not bad for a first try. We will have probably around 60% correct predictions."
   ]
  },
  {
   "cell_type": "markdown",
   "metadata": {},
   "source": [
    "What about the old adagium: \"Women and children first\"?"
   ]
  },
  {
   "cell_type": "markdown",
   "metadata": {},
   "source": [
    "Let's have a look at women versus men.\n",
    "Were we to fill in all 1's for women we would have hit around 75% correct predictions."
   ]
  },
  {
   "cell_type": "markdown",
   "metadata": {},
   "source": [
    "And then have a look at the Age variable."
   ]
  },
  {
   "cell_type": "markdown",
   "metadata": {},
   "source": [
    "Then the Pclass variable."
   ]
  },
  {
   "cell_type": "markdown",
   "metadata": {},
   "source": [
    "#### Feature Engineering"
   ]
  },
  {
   "cell_type": "markdown",
   "metadata": {},
   "source": [
    "What we are doing here is called \"Feature Engineering\". This is where humans easily outshine computers. It is an area of creativity, ingenuity, and domain knowledge; of course being able to use computers to aggregate large amounts of data, tidy it and easily prepare visualizations is a big +."
   ]
  },
  {
   "cell_type": "markdown",
   "metadata": {},
   "source": [
    "We can do something with the titles in the name strings of the passengers."
   ]
  },
  {
   "cell_type": "markdown",
   "metadata": {},
   "source": [
    "Or, work on passengers travelling together."
   ]
  },
  {
   "cell_type": "markdown",
   "metadata": {},
   "source": [
    "We can shift our emphasis a bit from analyzing to learning: Training models."
   ]
  }
 ],
 "metadata": {
  "kernelspec": {
   "display_name": "Python 3",
   "language": "python",
   "name": "python3"
  },
  "language_info": {
   "codemirror_mode": {
    "name": "ipython",
    "version": 3
   },
   "file_extension": ".py",
   "mimetype": "text/x-python",
   "name": "python",
   "nbconvert_exporter": "python",
   "pygments_lexer": "ipython3",
   "version": "3.6.3"
  }
 },
 "nbformat": 4,
 "nbformat_minor": 2
}
