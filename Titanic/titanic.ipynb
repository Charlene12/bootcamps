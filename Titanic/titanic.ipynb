{
 "cells": [
  {
   "cell_type": "markdown",
   "metadata": {},
   "source": [
    "### Titanic\n",
    "\n",
    "There are 3 contexts here:\n",
    "   \n",
    "    - Jupyter notebooks. We touched upon this during the introduction. Kind of a playground, especially suited for computing with data, because one is able to bring together data, code and results (visualisations) in one environment, the notebooks.\n",
    "    - so-called \"Big Data\" and data analysis with computers present new possibilities for economic and econometric practice and research.\n",
    "    - and there is the context of the data we are going to work with: The Titanic disaster. There are various technical ways to look at it. Below there is a link to a computer generated simulation of the actual sinking of the Titanic made by the team of James Cameron.\n",
    "    \n",
    "<a href=\"https://www.youtube.com/watch?v=FSGeskFzE0s\">James Cameron: How the Titanic sank</a>\n",
    "\n",
    "We are going to look at the data about the persons on board with the help of the computer an Python as our programming environment."
   ]
  },
  {
   "cell_type": "markdown",
   "metadata": {
    "collapsed": true
   },
   "source": [
    "### What do we know already?\n",
    "\n",
    "You probably have seen the movie Titanic (with Kate Winslet and Leonardo DiCaprio, 1997), one of several movies made about the disaster. So you probably know the following:\n",
    "\n",
    "    - The disaster took place during the night of April 14, 1912 when the ship hit an iceberg\n",
    "      on her maiden voyage;\n",
    "    - The loss of lives was 1501 (out of a total of 2207) passengers;\n",
    "    - There was a shortage of life-boats."
   ]
  },
  {
   "cell_type": "markdown",
   "metadata": {},
   "source": [
    "### What do we want to know?"
   ]
  },
  {
   "cell_type": "markdown",
   "metadata": {},
   "source": [
    "It might well be you have some questions in advance and want to use the data to see if you can find answers, or it could well be you want to play a little bit with the data in order to come up with questions.\n",
    "\n",
    "Both approaches suggest the following steps:\n",
    "\n",
    "    - Explore the data (load it, look at it)\n",
    "    - Clean the data (missing values, splitting columns, etc.)\n",
    "    - Plot (try to visualize correlations, insights, ...)\n",
    "    - Assumptions (try to formulate hypotheses, rinse and repeat)"
   ]
  },
  {
   "cell_type": "markdown",
   "metadata": {},
   "source": [
    "### Explore the data\n",
    "\n",
    "Mind you we are cheating big time here! We start with existing datasets that allow us to quickly load and explore data, as we will see shortly. Suppose you are a data scientist out in the wild, you will probably get assignments *without* any accompanying datasets. A large proportion of your time will be spend on acquiring data (searching, scraping), cleaning data, combining data from various sources (a lot of tweaking and cleaning)."
   ]
  },
  {
   "cell_type": "code",
   "execution_count": 9,
   "metadata": {
    "collapsed": true
   },
   "outputs": [],
   "source": [
    "# Remove warnings\n",
    "import warnings\n",
    "warnings.filterwarnings('ignore')\n",
    "# Set up an environment to be able to explore the data\n",
    "import pandas as pd\n",
    "import matplotlib\n",
    "from matplotlib import pyplot as plt\n",
    "import numpy as np\n",
    "%matplotlib inline\n",
    "matplotlib.style.use('ggplot')\n",
    "#pd.options.display.max_columns = 100\n",
    "#pd.options.display.max_rows = 100"
   ]
  },
  {
   "cell_type": "markdown",
   "metadata": {},
   "source": [
    "Because we have a csv file here, that is a plain text file with each chunk of information separated by a comma, hence csv or \"comma separated value\" file, we can open up the file in a text editor and look at the contents of our source file:"
   ]
  },
  {
   "cell_type": "code",
   "execution_count": 15,
   "metadata": {},
   "outputs": [],
   "source": [
    "!aquamacs /Users/peter/Documents/bootcamps/data/titanic/titanic3.csv"
   ]
  },
  {
   "cell_type": "code",
   "execution_count": 10,
   "metadata": {},
   "outputs": [],
   "source": [
    "df = pd.read_csv('../data/titanic/titanic3.csv', sep=\";\")"
   ]
  },
  {
   "cell_type": "markdown",
   "metadata": {},
   "source": [
    "Now that we have our data in a dataframe (a matrix with columns, variables, that contain various datatypes), we can have a quick look at the contends with the head method of a dataframe: "
   ]
  },
  {
   "cell_type": "code",
   "execution_count": 13,
   "metadata": {},
   "outputs": [
    {
     "data": {
      "text/html": [
       "<div>\n",
       "<style>\n",
       "    .dataframe thead tr:only-child th {\n",
       "        text-align: right;\n",
       "    }\n",
       "\n",
       "    .dataframe thead th {\n",
       "        text-align: left;\n",
       "    }\n",
       "\n",
       "    .dataframe tbody tr th {\n",
       "        vertical-align: top;\n",
       "    }\n",
       "</style>\n",
       "<table border=\"1\" class=\"dataframe\">\n",
       "  <thead>\n",
       "    <tr style=\"text-align: right;\">\n",
       "      <th></th>\n",
       "      <th>pclass</th>\n",
       "      <th>survived</th>\n",
       "      <th>name</th>\n",
       "      <th>sex</th>\n",
       "      <th>age</th>\n",
       "      <th>sibsp</th>\n",
       "      <th>parch</th>\n",
       "      <th>ticket</th>\n",
       "      <th>fare</th>\n",
       "      <th>cabin</th>\n",
       "      <th>embarked</th>\n",
       "      <th>boat</th>\n",
       "      <th>body</th>\n",
       "      <th>home.dest</th>\n",
       "    </tr>\n",
       "  </thead>\n",
       "  <tbody>\n",
       "    <tr>\n",
       "      <th>0</th>\n",
       "      <td>1.0</td>\n",
       "      <td>1.0</td>\n",
       "      <td>Allen, Miss. Elisabeth Walton</td>\n",
       "      <td>female</td>\n",
       "      <td>29</td>\n",
       "      <td>0.0</td>\n",
       "      <td>0.0</td>\n",
       "      <td>24160</td>\n",
       "      <td>211,3375</td>\n",
       "      <td>B5</td>\n",
       "      <td>S</td>\n",
       "      <td>2</td>\n",
       "      <td>NaN</td>\n",
       "      <td>St Louis, MO</td>\n",
       "    </tr>\n",
       "    <tr>\n",
       "      <th>1</th>\n",
       "      <td>1.0</td>\n",
       "      <td>1.0</td>\n",
       "      <td>Allison, Master. Hudson Trevor</td>\n",
       "      <td>male</td>\n",
       "      <td>0,9167</td>\n",
       "      <td>1.0</td>\n",
       "      <td>2.0</td>\n",
       "      <td>113781</td>\n",
       "      <td>151,5500</td>\n",
       "      <td>C22 C26</td>\n",
       "      <td>S</td>\n",
       "      <td>11</td>\n",
       "      <td>NaN</td>\n",
       "      <td>Montreal, PQ / Chesterville, ON</td>\n",
       "    </tr>\n",
       "    <tr>\n",
       "      <th>2</th>\n",
       "      <td>1.0</td>\n",
       "      <td>0.0</td>\n",
       "      <td>Allison, Miss. Helen Loraine</td>\n",
       "      <td>female</td>\n",
       "      <td>2</td>\n",
       "      <td>1.0</td>\n",
       "      <td>2.0</td>\n",
       "      <td>113781</td>\n",
       "      <td>151,5500</td>\n",
       "      <td>C22 C26</td>\n",
       "      <td>S</td>\n",
       "      <td>NaN</td>\n",
       "      <td>NaN</td>\n",
       "      <td>Montreal, PQ / Chesterville, ON</td>\n",
       "    </tr>\n",
       "    <tr>\n",
       "      <th>3</th>\n",
       "      <td>1.0</td>\n",
       "      <td>0.0</td>\n",
       "      <td>Allison, Mr. Hudson Joshua Creighton</td>\n",
       "      <td>male</td>\n",
       "      <td>30</td>\n",
       "      <td>1.0</td>\n",
       "      <td>2.0</td>\n",
       "      <td>113781</td>\n",
       "      <td>151,5500</td>\n",
       "      <td>C22 C26</td>\n",
       "      <td>S</td>\n",
       "      <td>NaN</td>\n",
       "      <td>135.0</td>\n",
       "      <td>Montreal, PQ / Chesterville, ON</td>\n",
       "    </tr>\n",
       "    <tr>\n",
       "      <th>4</th>\n",
       "      <td>1.0</td>\n",
       "      <td>0.0</td>\n",
       "      <td>Allison, Mrs. Hudson J C (Bessie Waldo Daniels)</td>\n",
       "      <td>female</td>\n",
       "      <td>25</td>\n",
       "      <td>1.0</td>\n",
       "      <td>2.0</td>\n",
       "      <td>113781</td>\n",
       "      <td>151,5500</td>\n",
       "      <td>C22 C26</td>\n",
       "      <td>S</td>\n",
       "      <td>NaN</td>\n",
       "      <td>NaN</td>\n",
       "      <td>Montreal, PQ / Chesterville, ON</td>\n",
       "    </tr>\n",
       "  </tbody>\n",
       "</table>\n",
       "</div>"
      ],
      "text/plain": [
       "   pclass  survived                                             name     sex  \\\n",
       "0     1.0       1.0                    Allen, Miss. Elisabeth Walton  female   \n",
       "1     1.0       1.0                   Allison, Master. Hudson Trevor    male   \n",
       "2     1.0       0.0                     Allison, Miss. Helen Loraine  female   \n",
       "3     1.0       0.0             Allison, Mr. Hudson Joshua Creighton    male   \n",
       "4     1.0       0.0  Allison, Mrs. Hudson J C (Bessie Waldo Daniels)  female   \n",
       "\n",
       "      age  sibsp  parch  ticket      fare    cabin embarked boat   body  \\\n",
       "0      29    0.0    0.0   24160  211,3375       B5        S    2    NaN   \n",
       "1  0,9167    1.0    2.0  113781  151,5500  C22 C26        S   11    NaN   \n",
       "2       2    1.0    2.0  113781  151,5500  C22 C26        S  NaN    NaN   \n",
       "3      30    1.0    2.0  113781  151,5500  C22 C26        S  NaN  135.0   \n",
       "4      25    1.0    2.0  113781  151,5500  C22 C26        S  NaN    NaN   \n",
       "\n",
       "                         home.dest  \n",
       "0                     St Louis, MO  \n",
       "1  Montreal, PQ / Chesterville, ON  \n",
       "2  Montreal, PQ / Chesterville, ON  \n",
       "3  Montreal, PQ / Chesterville, ON  \n",
       "4  Montreal, PQ / Chesterville, ON  "
      ]
     },
     "execution_count": 13,
     "metadata": {},
     "output_type": "execute_result"
    }
   ],
   "source": [
    "df.head()"
   ]
  },
  {
   "cell_type": "markdown",
   "metadata": {},
   "source": [
    "### Selected bibliography\n",
    "\n",
    "#### Economics, Machine Learning, and the Titanic\n",
    "\n",
    "- Bruno S. Frey, David A. Savage, and Benno Torgler, Behavior under Extreme Conditions: The Titanic Disaster, in: Journal of Economic Perspectives, vol. 25, number 1, Winter 2011, pp. 209-222, DOI: http://dx.doi.org/10.1257/jep.25.1.209\n",
    "\n",
    "- Hal R. Varian, Big Data: New Tricks for Econometrics, in: Journal of Economic Perspectives, vol. 28, number 2, Spring 2014, pp. 3-28 (Titanic, pp. 7-12), DOI: http://dx.doi.org/10.1257/jep.28.2.3\n",
    "\n",
    "- Sendhil Mullainathan and Jann Spiess, Machine Learning: An Applied Econometric Approach, in: Journal of Economic Perspectives, vol. 31, number 2, Spring 2017, pp. 87-106, DOI: http://dx.doi.org/10.1257/jep.31.2.87\n",
    "\n",
    "- Francis X. Diebold, All of Machine Learning in One Expression, retrieved from the blog \"No Hesitations\" (posted: Monday, January 9, 2017) on 20-09-2017 at: https://fxdiebold.blogspot.nl/2017/01/all-of-machine-learning-in-one.html\n",
    "\n",
    "#### Statistics and computing (R programming language)\n",
    "\n",
    "- "
   ]
  }
 ],
 "metadata": {
  "kernelspec": {
   "display_name": "Python 3",
   "language": "python",
   "name": "python3"
  },
  "language_info": {
   "codemirror_mode": {
    "name": "ipython",
    "version": 3
   },
   "file_extension": ".py",
   "mimetype": "text/x-python",
   "name": "python",
   "nbconvert_exporter": "python",
   "pygments_lexer": "ipython3",
   "version": "3.6.3"
  }
 },
 "nbformat": 4,
 "nbformat_minor": 2
}
