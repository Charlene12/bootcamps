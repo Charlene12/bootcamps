{
 "cells": [
  {
   "cell_type": "markdown",
   "metadata": {},
   "source": [
    "### Titanic\n",
    "\n",
    "There are 3 contexts here:\n",
    "   \n",
    "    - Jupyter notebooks. We touched upon this during the introduction. Kind of a playground, especially suited for computing with data, because one is able to bring together data, code and results (visualisations) in one environment, the notebooks.\n",
    "    - so-called \"Big Data\" and data analysis with computers present new possibilities for econometric practice and research.\n",
    "    - and there is the context of the data we are going to work with: The Titanic disaster. There are various technical ways to look at it. Below there is a link to a computer generated simulation of the actual sinking of the Titanic made by the team of James Cameron.\n",
    "    \n",
    "<a href=\"https://www.youtube.com/watch?v=FSGeskFzE0s\">James Cameron: How the Titanic sank</a>\n",
    "\n",
    "We are going to look at the data about the persons on board with the help of the computer an Python as our programming environment."
   ]
  },
  {
   "cell_type": "code",
   "execution_count": null,
   "metadata": {
    "collapsed": true
   },
   "outputs": [],
   "source": []
  }
 ],
 "metadata": {
  "kernelspec": {
   "display_name": "Python 3",
   "language": "python",
   "name": "python3"
  },
  "language_info": {
   "codemirror_mode": {
    "name": "ipython",
    "version": 3
   },
   "file_extension": ".py",
   "mimetype": "text/x-python",
   "name": "python",
   "nbconvert_exporter": "python",
   "pygments_lexer": "ipython3",
   "version": "3.6.2"
  }
 },
 "nbformat": 4,
 "nbformat_minor": 2
}
