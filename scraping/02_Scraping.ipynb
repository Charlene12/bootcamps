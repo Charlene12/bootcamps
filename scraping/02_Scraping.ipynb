{
 "cells": [
  {
   "cell_type": "markdown",
   "metadata": {
    "deletable": true,
    "editable": true,
    "slideshow": {
     "slide_type": "slide"
    }
   },
   "source": [
    "### Find all the quotes on a page with pagination\n",
    "\n",
    "<a href=\"http://quotes.toscrape.com\">http://quotes.toscrape.com</a>"
   ]
  },
  {
   "cell_type": "markdown",
   "metadata": {
    "deletable": true,
    "editable": true,
    "slideshow": {
     "slide_type": "fragment"
    }
   },
   "source": [
    "If you scroll down, you'll notice the 'Next' button.  \n",
    "This takes us to http://quotes.toscrape.com/page/2/  \n",
    "On the second page there's also a 'Previous' button.  \n",
    "That takes us to http://quotes.toscrape.com/page/1/\n",
    "\n",
    "Apparently page is identified by the path (**page/X/**) after the hostname (**quotes.toscrape.com**)"
   ]
  },
  {
   "cell_type": "markdown",
   "metadata": {
    "deletable": true,
    "editable": true,
    "slideshow": {
     "slide_type": "skip"
    }
   },
   "source": [
    "---"
   ]
  },
  {
   "cell_type": "markdown",
   "metadata": {
    "deletable": true,
    "editable": true,
    "slideshow": {
     "slide_type": "slide"
    }
   },
   "source": [
    "### define a function that print the quotes from a soup object\n",
    "\n",
    "This is explained in [01_Scraping](01_Scraping.ipynb)"
   ]
  },
  {
   "cell_type": "code",
   "execution_count": 1,
   "metadata": {
    "collapsed": false,
    "deletable": true,
    "editable": true,
    "slideshow": {
     "slide_type": "fragment"
    }
   },
   "outputs": [],
   "source": [
    "from bs4 import BeautifulSoup\n",
    "def print_quotes(soup):\n",
    "    for quote in soup.find_all('span', {'itemprop': 'text'}):\n",
    "        author = quote.findNext('small', {'itemprop': 'author'}).text\n",
    "        print(\"%-20s\" % author, quote.text[:50])"
   ]
  },
  {
   "cell_type": "markdown",
   "metadata": {
    "deletable": true,
    "editable": true,
    "slideshow": {
     "slide_type": "fragment"
    }
   },
   "source": [
    "Check if the function works."
   ]
  },
  {
   "cell_type": "code",
   "execution_count": 2,
   "metadata": {
    "collapsed": false,
    "deletable": true,
    "editable": true,
    "slideshow": {
     "slide_type": "fragment"
    }
   },
   "outputs": [
    {
     "name": "stdout",
     "output_type": "stream",
     "text": [
      "Albert Einstein      “The world as we have created it is a process of o\n",
      "J.K. Rowling         “It is our choices, Harry, that show what we truly\n",
      "Albert Einstein      “There are only two ways to live your life. One is\n",
      "Jane Austen          “The person, be it gentleman or lady, who has not \n",
      "Marilyn Monroe       “Imperfection is beauty, madness is genius and it'\n",
      "Albert Einstein      “Try not to become a man of success. Rather become\n",
      "André Gide           “It is better to be hated for what you are than to\n",
      "Thomas A. Edison     “I have not failed. I've just found 10,000 ways th\n",
      "Eleanor Roosevelt    “A woman is like a tea bag; you never know how str\n",
      "Steve Martin         “A day without sunshine is like, you know, night.”\n"
     ]
    }
   ],
   "source": [
    "import requests\n",
    "url = \"http://quotes.toscrape.com\"\n",
    "response = requests.get(url)\n",
    "text = response.text\n",
    "soup = BeautifulSoup(text,'html.parser')\n",
    "print_quotes(soup)"
   ]
  },
  {
   "cell_type": "markdown",
   "metadata": {
    "deletable": true,
    "editable": true,
    "slideshow": {
     "slide_type": "skip"
    }
   },
   "source": [
    "---"
   ]
  },
  {
   "cell_type": "markdown",
   "metadata": {
    "deletable": true,
    "editable": true,
    "slideshow": {
     "slide_type": "slide"
    }
   },
   "source": [
    "### define a function that retrieves and parses a page\n",
    "\n",
    "Take a path as parameter, return a 'soup'"
   ]
  },
  {
   "cell_type": "code",
   "execution_count": 3,
   "metadata": {
    "collapsed": false,
    "deletable": true,
    "editable": true,
    "slideshow": {
     "slide_type": "fragment"
    }
   },
   "outputs": [],
   "source": [
    "def get_page(path):\n",
    "    url = \"http://quotes.toscrape.com%s\" % path\n",
    "    response = requests.get(url)\n",
    "    text = response.text\n",
    "    return BeautifulSoup(text,'html.parser')"
   ]
  },
  {
   "cell_type": "markdown",
   "metadata": {
    "deletable": true,
    "editable": true,
    "slideshow": {
     "slide_type": "fragment"
    }
   },
   "source": [
    "Check if the function works."
   ]
  },
  {
   "cell_type": "code",
   "execution_count": 4,
   "metadata": {
    "collapsed": false,
    "deletable": true,
    "editable": true,
    "slideshow": {
     "slide_type": "fragment"
    }
   },
   "outputs": [
    {
     "name": "stdout",
     "output_type": "stream",
     "text": [
      "Albert Einstein      “The world as we have created it is a process of o\n",
      "J.K. Rowling         “It is our choices, Harry, that show what we truly\n",
      "Albert Einstein      “There are only two ways to live your life. One is\n",
      "Jane Austen          “The person, be it gentleman or lady, who has not \n",
      "Marilyn Monroe       “Imperfection is beauty, madness is genius and it'\n",
      "Albert Einstein      “Try not to become a man of success. Rather become\n",
      "André Gide           “It is better to be hated for what you are than to\n",
      "Thomas A. Edison     “I have not failed. I've just found 10,000 ways th\n",
      "Eleanor Roosevelt    “A woman is like a tea bag; you never know how str\n",
      "Steve Martin         “A day without sunshine is like, you know, night.”\n"
     ]
    }
   ],
   "source": [
    "soup = get_page(\"/page/1/\")\n",
    "print_quotes(soup)"
   ]
  },
  {
   "cell_type": "markdown",
   "metadata": {
    "deletable": true,
    "editable": true,
    "slideshow": {
     "slide_type": "skip"
    }
   },
   "source": [
    "---"
   ]
  },
  {
   "cell_type": "markdown",
   "metadata": {
    "deletable": true,
    "editable": true,
    "slideshow": {
     "slide_type": "slide"
    }
   },
   "source": [
    "### define a function that finds the next page\n",
    "return None if there is no next page"
   ]
  },
  {
   "cell_type": "markdown",
   "metadata": {
    "deletable": true,
    "editable": true,
    "slideshow": {
     "slide_type": "fragment"
    }
   },
   "source": [
    "If we inspect the Next-button, we'll see that next page is in the **href** attribute of the a-tag.  \n",
    "And this contained in a li-tag with a CSS-class **next**.  "
   ]
  },
  {
   "cell_type": "markdown",
   "metadata": {
    "collapsed": false,
    "deletable": true,
    "editable": true,
    "slideshow": {
     "slide_type": "fragment"
    }
   },
   "source": [
    "```<li class=\"next\">\n",
    "    <a href=\"/page/2/\">\n",
    "        Next\n",
    "        <span aria-hidden=\"true\">\n",
    "            →\n",
    "        </span>\n",
    "    </a>\n",
    "</li>```"
   ]
  },
  {
   "cell_type": "markdown",
   "metadata": {
    "deletable": true,
    "editable": true,
    "slideshow": {
     "slide_type": "slide"
    }
   },
   "source": [
    "### define a function that finds the next page\n",
    "return None if there is no next page"
   ]
  },
  {
   "cell_type": "code",
   "execution_count": 6,
   "metadata": {
    "collapsed": false,
    "deletable": true,
    "editable": true,
    "slideshow": {
     "slide_type": "fragment"
    }
   },
   "outputs": [],
   "source": [
    "def get_next_page(soup):\n",
    "    # Find link to the next page\n",
    "    li = soup.find('li', {\"class\": \"next\"})\n",
    "    \n",
    "    if li is None:\n",
    "        # No next page\n",
    "        return None\n",
    "    else:\n",
    "        # Get the path for the next page\n",
    "        return li.findNext('a')['href']"
   ]
  },
  {
   "cell_type": "markdown",
   "metadata": {
    "deletable": true,
    "editable": true,
    "slideshow": {
     "slide_type": "fragment"
    }
   },
   "source": [
    "Again, check if this works."
   ]
  },
  {
   "cell_type": "code",
   "execution_count": 9,
   "metadata": {
    "collapsed": false,
    "deletable": true,
    "editable": true,
    "slideshow": {
     "slide_type": "fragment"
    }
   },
   "outputs": [
    {
     "name": "stdout",
     "output_type": "stream",
     "text": [
      "/page/2/\n",
      "None\n"
     ]
    }
   ],
   "source": [
    "soup = get_page(\"/page/1/\")\n",
    "print(get_next_page(soup))\n",
    "\n",
    "# We happen to know there are only 10 pages.\n",
    "soup = get_page(\"/page/10/\")\n",
    "print(get_next_page(soup))"
   ]
  },
  {
   "cell_type": "markdown",
   "metadata": {
    "deletable": true,
    "editable": true,
    "slideshow": {
     "slide_type": "skip"
    }
   },
   "source": [
    "---"
   ]
  },
  {
   "cell_type": "markdown",
   "metadata": {
    "deletable": true,
    "editable": true,
    "slideshow": {
     "slide_type": "slide"
    }
   },
   "source": [
    "### Putting it all together"
   ]
  },
  {
   "cell_type": "markdown",
   "metadata": {
    "deletable": true,
    "editable": true,
    "slideshow": {
     "slide_type": "fragment"
    }
   },
   "source": [
    "Get a page, print all the quotes.\n",
    "Get the next page, terminate when there's no next page."
   ]
  },
  {
   "cell_type": "markdown",
   "metadata": {
    "deletable": true,
    "editable": true,
    "slideshow": {
     "slide_type": "fragment"
    }
   },
   "source": [
    "<pre>\n",
    "page = \"/page/1/\"\n",
    "\n",
    "while True:\n",
    "    # Get the 'soup'\n",
    "    soup = get_page(page)\n",
    "    \n",
    "    # Print the quotes\n",
    "    print_quotes(soup)\n",
    "    \n",
    "    # Get the next page\n",
    "    page = get_next_page(soup)\n",
    "    \n",
    "    # No new page, we're done\n",
    "    if page is None:\n",
    "        break   \n",
    "        \n",
    "</pre>"
   ]
  },
  {
   "cell_type": "code",
   "execution_count": 10,
   "metadata": {
    "collapsed": false,
    "deletable": true,
    "editable": true,
    "scrolled": true,
    "slideshow": {
     "slide_type": "slide"
    }
   },
   "outputs": [
    {
     "name": "stdout",
     "output_type": "stream",
     "text": [
      "Albert Einstein      “The world as we have created it is a process of o\n",
      "J.K. Rowling         “It is our choices, Harry, that show what we truly\n",
      "Albert Einstein      “There are only two ways to live your life. One is\n",
      "Jane Austen          “The person, be it gentleman or lady, who has not \n",
      "Marilyn Monroe       “Imperfection is beauty, madness is genius and it'\n",
      "Albert Einstein      “Try not to become a man of success. Rather become\n",
      "André Gide           “It is better to be hated for what you are than to\n",
      "Thomas A. Edison     “I have not failed. I've just found 10,000 ways th\n",
      "Eleanor Roosevelt    “A woman is like a tea bag; you never know how str\n",
      "Steve Martin         “A day without sunshine is like, you know, night.”\n",
      "Marilyn Monroe       “This life is what you make it. No matter what, yo\n",
      "J.K. Rowling         “It takes a great deal of bravery to stand up to o\n",
      "Albert Einstein      “If you can't explain it to a six year old, you do\n",
      "Bob Marley           “You may not be her first, her last, or her only. \n",
      "Dr. Seuss            “I like nonsense, it wakes up the brain cells. Fan\n",
      "Douglas Adams        “I may not have gone where I intended to go, but I\n",
      "Elie Wiesel          “The opposite of love is not hate, it's indifferen\n",
      "Friedrich Nietzsche  “It is not a lack of love, but a lack of friendshi\n",
      "Mark Twain           “Good friends, good books, and a sleepy conscience\n",
      "Allen Saunders       “Life is what happens to us while we are making ot\n",
      "Pablo Neruda         “I love you without knowing how, or when, or from \n",
      "Ralph Waldo Emerson  “For every minute you are angry you lose sixty sec\n",
      "Mother Teresa        “If you judge people, you have no time to love the\n",
      "Garrison Keillor     “Anyone who thinks sitting in church can make you \n",
      "Jim Henson           “Beauty is in the eye of the beholder and it may b\n",
      "Dr. Seuss            “Today you are You, that is truer than true. There\n",
      "Albert Einstein      “If you want your children to be intelligent, read\n",
      "J.K. Rowling         “It is impossible to live without failing at somet\n",
      "Albert Einstein      “Logic will get you from A to Z; imagination will \n",
      "Bob Marley           “One good thing about music, when it hits you, you\n",
      "Dr. Seuss            “The more that you read, the more things you will \n",
      "J.K. Rowling         “Of course it is happening inside your head, Harry\n",
      "Bob Marley           “The truth is, everyone is going to hurt you. You \n",
      "Mother Teresa        “Not all of us can do great things. But we can do \n",
      "J.K. Rowling         “To the well-organized mind, death is but the next\n",
      "Charles M. Schulz    “All you need is love. But a little chocolate now \n",
      "William Nicholson    “We read to know we're not alone.”\n",
      "Albert Einstein      “Any fool can know. The point is to understand.”\n",
      "Jorge Luis Borges    “I have always imagined that Paradise will be a ki\n",
      "George Eliot         “It is never too late to be what you might have be\n",
      "George R.R. Martin   “A reader lives a thousand lives before he dies, s\n",
      "C.S. Lewis           “You can never get a cup of tea large enough or a \n",
      "Marilyn Monroe       “You believe lies so you eventually learn to trust\n",
      "Marilyn Monroe       “If you can make a woman laugh, you can make her d\n",
      "Albert Einstein      “Life is like riding a bicycle. To keep your balan\n",
      "Marilyn Monroe       “The real lover is the man who can thrill you by k\n",
      "Marilyn Monroe       “A wise girl kisses but doesn't love, listens but \n",
      "Martin Luther King Jr. “Only in the darkness can you see the stars.”\n",
      "J.K. Rowling         “It matters not what someone is born, but what the\n",
      "James Baldwin        “Love does not begin and end the way we seem to th\n",
      "Jane Austen          “There is nothing I would not do for those who are\n",
      "Eleanor Roosevelt    “Do one thing every day that scares you.”\n",
      "Marilyn Monroe       “I am good, but not an angel. I do sin, but I am n\n",
      "Albert Einstein      “If I were not a physicist, I would probably be a \n",
      "Haruki Murakami      “If you only read the books that everyone else is \n",
      "Alexandre Dumas fils “The difference between genius and stupidity is: g\n",
      "Stephenie Meyer      “He's like a drug for you, Bella.”\n",
      "Ernest Hemingway     “There is no friend as loyal as a book.”\n",
      "Helen Keller         “When one door of happiness closes, another opens;\n",
      "George Bernard Shaw  “Life isn't about finding yourself. Life is about \n",
      "Charles Bukowski     “That's the problem with drinking, I thought, as I\n",
      "Suzanne Collins      “You don’t forget the face of the person who was y\n",
      "Suzanne Collins      “Remember, we're madly in love, so it's all right \n",
      "C.S. Lewis           “To love at all is to be vulnerable. Love anything\n",
      "J.R.R. Tolkien       “Not all those who wander are lost.”\n",
      "J.K. Rowling         “Do not pity the dead, Harry. Pity the living, and\n",
      "Ernest Hemingway     “There is nothing to writing. All you do is sit do\n",
      "Ralph Waldo Emerson  “Finish each day and be done with it. You have don\n",
      "Mark Twain           “I have never let my schooling interfere with my e\n",
      "Dr. Seuss            “I have heard there are troubles of more than one \n",
      "Alfred Tennyson      “If I had a flower for every time I thought of you\n",
      "Charles Bukowski     “Some people never go crazy. What truly horrible l\n",
      "Terry Pratchett      “The trouble with having an open mind, of course, \n",
      "Dr. Seuss            “Think left and think right and think low and thin\n",
      "J.D. Salinger        “What really knocks me out is a book that, when yo\n",
      "George Carlin        “The reason I talk to myself is because I’m the on\n",
      "John Lennon          “You may say I'm a dreamer, but I'm not the only o\n",
      "W.C. Fields          “I am free of all prejudice. I hate everyone equal\n",
      "Ayn Rand             “The question isn't who is going to let me; it's w\n",
      "Mark Twain           “′Classic′ - a book which people praise and don't \n",
      "Albert Einstein      “Anyone who has never made a mistake has never tri\n",
      "Jane Austen          “A lady's imagination is very rapid; it jumps from\n",
      "J.K. Rowling         “Remember, if the time should come when you have t\n",
      "Jane Austen          “I declare after all there is no enjoyment like re\n",
      "Jane Austen          “There are few people whom I really love, and stil\n",
      "C.S. Lewis           “Some day you will be old enough to start reading \n",
      "C.S. Lewis           “We are not necessarily doubting that God will do \n",
      "Mark Twain           “The fear of death follows from the fear of life. \n",
      "Mark Twain           “A lie can travel half way around the world while \n",
      "C.S. Lewis           “I believe in Christianity as I believe that the s\n",
      "J.K. Rowling         “The truth.\" Dumbledore sighed. \"It is a beautiful\n",
      "Jimi Hendrix         “I'm the one that's got to die when it's time for \n",
      "J.M. Barrie          “To die will be an awfully big adventure.”\n",
      "E.E. Cummings        “It takes courage to grow up and become who you re\n",
      "Khaled Hosseini      “But better to get hurt by the truth than comforte\n",
      "Harper Lee           “You never really understand a person until you co\n",
      "Madeleine L'Engle    “You have to write the book that wants to be writt\n",
      "Mark Twain           “Never tell the truth to people who are not worthy\n",
      "Dr. Seuss            “A person's a person, no matter how small.”\n",
      "George R.R. Martin   “... a mind needs books as a sword needs a whetsto\n"
     ]
    }
   ],
   "source": [
    "page = \"/page/1/\"\n",
    "while True:\n",
    "    soup = get_page(page)\n",
    "    print_quotes(soup)\n",
    "    page = get_next_page(soup)\n",
    "    if page is None:\n",
    "        break   "
   ]
  }
 ],
 "metadata": {
  "celltoolbar": "Slideshow",
  "kernelspec": {
   "display_name": "Python [default]",
   "language": "python",
   "name": "python3"
  },
  "language_info": {
   "codemirror_mode": {
    "name": "ipython",
    "version": 3
   },
   "file_extension": ".py",
   "mimetype": "text/x-python",
   "name": "python",
   "nbconvert_exporter": "python",
   "pygments_lexer": "ipython3",
   "version": "3.5.2"
  }
 },
 "nbformat": 4,
 "nbformat_minor": 2
}
