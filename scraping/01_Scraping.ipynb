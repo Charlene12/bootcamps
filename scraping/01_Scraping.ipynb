{
 "cells": [
  {
   "cell_type": "raw",
   "metadata": {
    "deletable": true,
    "editable": true,
    "slideshow": {
     "slide_type": "notes"
    }
   },
   "source": [
    "%%html\n",
    "<style>\n",
    ".output_wrapper, .output {\n",
    "    height:auto !important;\n",
    "    max-height:500px;\n",
    "}\n",
    ".output_scroll {\n",
    "    box-shadow:none !important;\n",
    "    webkit-box-shadow:none !important;\n",
    "}\n",
    "</style>"
   ]
  },
  {
   "cell_type": "markdown",
   "metadata": {
    "deletable": true,
    "editable": true,
    "slideshow": {
     "slide_type": "slide"
    }
   },
   "source": [
    "<a href=\"http://quotes.toscrape.com/tag/humor\">http://quotes.toscrape.com/tag/humor</a>\n",
    "\n",
    "When you open the page, you'll find a list of 'funny' quotes.  \n",
    "Let's see if we can extract these quotes and who they're attributed to."
   ]
  },
  {
   "cell_type": "markdown",
   "metadata": {
    "deletable": true,
    "editable": true,
    "slideshow": {
     "slide_type": "fragment"
    }
   },
   "source": [
    "Define the URL and get the content of the wegpage.  \n",
    "One of the many ways to do this is with the requests module."
   ]
  },
  {
   "cell_type": "code",
   "execution_count": null,
   "metadata": {
    "collapsed": false,
    "deletable": true,
    "editable": true,
    "scrolled": true,
    "slideshow": {
     "slide_type": "fragment"
    }
   },
   "outputs": [],
   "source": [
    "import requests\n",
    "\n",
    "url = \"http://quotes.toscrape.com/tag/humor\"\n",
    "response = requests.get(url)"
   ]
  },
  {
   "cell_type": "markdown",
   "metadata": {
    "deletable": true,
    "editable": true,
    "slideshow": {
     "slide_type": "fragment"
    }
   },
   "source": [
    "The response consists of more the text you see on the screen.  \n",
    "But for now, we're not interested in things like headers."
   ]
  },
  {
   "cell_type": "code",
   "execution_count": null,
   "metadata": {
    "collapsed": false,
    "deletable": true,
    "editable": true,
    "scrolled": true,
    "slideshow": {
     "slide_type": "fragment"
    }
   },
   "outputs": [],
   "source": [
    "text = response.text"
   ]
  },
  {
   "cell_type": "markdown",
   "metadata": {
    "deletable": true,
    "editable": true,
    "slideshow": {
     "slide_type": "fragment"
    }
   },
   "source": [
    "This is what we see with 'View page source' or 'Inspect'"
   ]
  },
  {
   "cell_type": "code",
   "execution_count": null,
   "metadata": {
    "collapsed": false,
    "deletable": true,
    "editable": true,
    "scrolled": true,
    "slideshow": {
     "slide_type": "slide"
    }
   },
   "outputs": [],
   "source": [
    "# Only print the <body>\n",
    "print(text[text.index(\"<body>\"):])"
   ]
  },
  {
   "cell_type": "markdown",
   "metadata": {
    "collapsed": false,
    "deletable": true,
    "editable": true,
    "scrolled": false,
    "slideshow": {
     "slide_type": "slide"
    }
   },
   "source": [
    "```<span class=\"text\" itemprop=\"text\">\n",
    "    “A day without sunshine is like, you know, night.”\n",
    "</span>\n",
    "<span>\n",
    "    by\n",
    "    <small class=\"author\" itemprop=\"author\">\n",
    "        Steve Martin\n",
    "    </small>\n",
    "</span>```"
   ]
  },
  {
   "cell_type": "markdown",
   "metadata": {
    "deletable": true,
    "editable": true,
    "slideshow": {
     "slide_type": "fragment"
    }
   },
   "source": [
    "If we look closely, we can see that each quote is contained in a **span** with the attribute **itemprop** set to **text**.  \n",
    "The author is in a **small** with **itemprop** set to **author**."
   ]
  },
  {
   "cell_type": "markdown",
   "metadata": {
    "deletable": true,
    "editable": true,
    "slideshow": {
     "slide_type": "slide"
    }
   },
   "source": [
    "## Do not try this at home!"
   ]
  },
  {
   "cell_type": "markdown",
   "metadata": {
    "deletable": true,
    "editable": true,
    "slideshow": {
     "slide_type": "fragment"
    }
   },
   "source": [
    "We'll use the **re** module find iterate over the text.\n",
    "\n",
    "Print the first 200 chars after we find an instance of 'itemprop=\"text\"'."
   ]
  },
  {
   "cell_type": "code",
   "execution_count": null,
   "metadata": {
    "collapsed": false,
    "deletable": true,
    "editable": true,
    "scrolled": true,
    "slideshow": {
     "slide_type": "subslide"
    }
   },
   "outputs": [],
   "source": [
    "# Do not try this at home!\n",
    "import re\n",
    "\n",
    "# Find all the quotes on this page\n",
    "for m in re.finditer('itemprop=\"text\"', text):\n",
    "    print()\n",
    "    # Only print first 200 chars\n",
    "    print(text[m.start():m.start()+200])"
   ]
  },
  {
   "cell_type": "markdown",
   "metadata": {
    "deletable": true,
    "editable": true,
    "slideshow": {
     "slide_type": "slide"
    }
   },
   "source": [
    "## Do not try this at home!\n",
    "\n",
    "This works because the quotes are the only items marked by the 'text' item-property.  \n",
    "It's also very error-prone, 'itemprop = \"text\"' are missed (extra spaces, valid HTML)."
   ]
  },
  {
   "cell_type": "markdown",
   "metadata": {
    "deletable": true,
    "editable": true,
    "slideshow": {
     "slide_type": "fragment"
    }
   },
   "source": [
    "We need to find the end of the quote, and do some cleaning."
   ]
  },
  {
   "cell_type": "code",
   "execution_count": null,
   "metadata": {
    "collapsed": false,
    "deletable": true,
    "editable": true,
    "scrolled": false,
    "slideshow": {
     "slide_type": "subslide"
    }
   },
   "outputs": [],
   "source": [
    "# Do not try this at home!\n",
    "\n",
    "# We need some cleaning\n",
    "for m in re.finditer('itemprop=\"text\"', text):\n",
    "    # Find the marker\n",
    "    quote = text[m.start():]\n",
    "    \n",
    "    # Cleanup of the quote\n",
    "    # Cut off start marker\n",
    "    quote = quote[quote.find(\">\")+1:]\n",
    "    # Cut off end marker\n",
    "    quote = quote[:quote.find(\"</span>\")]\n",
    "    # Replace the \"&#39;\" with \"'\"\n",
    "    quote = quote.replace(\"&#39;\", \"'\")\n",
    "    \n",
    "    print()\n",
    "    print(quote)"
   ]
  },
  {
   "cell_type": "markdown",
   "metadata": {
    "deletable": true,
    "editable": true,
    "slideshow": {
     "slide_type": "slide"
    }
   },
   "source": [
    "## Do not try this at home!"
   ]
  },
  {
   "cell_type": "markdown",
   "metadata": {
    "deletable": true,
    "editable": true,
    "slideshow": {
     "slide_type": "fragment"
    }
   },
   "source": [
    "But we also wanted to get the authors of the quote.\n",
    "\n",
    "Remember, the name of the author was inside a tag **small** with **itemprop** set to **author**.\n",
    "\n",
    "Once we find the quote look for the author marker, and do a similar cleaning."
   ]
  },
  {
   "cell_type": "code",
   "execution_count": null,
   "metadata": {
    "collapsed": false,
    "deletable": true,
    "editable": true,
    "scrolled": false,
    "slideshow": {
     "slide_type": "subslide"
    }
   },
   "outputs": [],
   "source": [
    "# Do not try this at home!\n",
    "\n",
    "# Also find the author of the quote\n",
    "for m in re.finditer('itemprop=\"text\"', text):\n",
    "    # Find the marker\n",
    "    quote = text[m.start():]\n",
    "\n",
    "    # Find the marker for the author\n",
    "    author = quote[quote.find('itemprop=\"author\"'):]\n",
    "    \n",
    "    # Cleanup of the quote\n",
    "    # Cut off start marker\n",
    "    quote = quote[quote.find(\">\")+1:]\n",
    "    # Cut off end marker\n",
    "    quote = quote[:quote.find(\"</span>\")]\n",
    "    # Replace the \"&#39;\" with \"'\"\n",
    "    quote = quote.replace(\"&#39;\", \"'\")\n",
    "   \n",
    "    # Cleanup of the author\n",
    "    # Cut off start marker\n",
    "    author = author[author.find(\">\")+1:]\n",
    "    # Cut off end marker\n",
    "    author = author[:author.find(\"</small>\")]\n",
    "    \n",
    "    print()\n",
    "    print(author, \"-\", quote)"
   ]
  },
  {
   "cell_type": "markdown",
   "metadata": {
    "deletable": true,
    "editable": true,
    "slideshow": {
     "slide_type": "skip"
    }
   },
   "source": [
    "---"
   ]
  },
  {
   "cell_type": "markdown",
   "metadata": {
    "deletable": true,
    "editable": true,
    "slideshow": {
     "slide_type": "slide"
    }
   },
   "source": [
    "## Do try this at home! Or here!\n",
    "\n",
    "Let's see if we can do this a bit more elegant."
   ]
  },
  {
   "cell_type": "code",
   "execution_count": null,
   "metadata": {
    "collapsed": false,
    "deletable": true,
    "editable": true,
    "scrolled": true,
    "slideshow": {
     "slide_type": "fragment"
    }
   },
   "outputs": [],
   "source": [
    "from bs4 import BeautifulSoup\n",
    "\n",
    "# Parse the document\n",
    "soup = BeautifulSoup(text,'html.parser')"
   ]
  },
  {
   "cell_type": "code",
   "execution_count": null,
   "metadata": {
    "collapsed": false,
    "deletable": true,
    "editable": true,
    "scrolled": false,
    "slideshow": {
     "slide_type": "fragment"
    }
   },
   "outputs": [],
   "source": [
    "for quote in soup.find_all('span', {'itemprop': 'text'}):\n",
    "    author = quote.findNext('small', {'itemprop': 'author'}).text\n",
    "    \n",
    "    print()\n",
    "    print(author, \"-\", quote.text)"
   ]
  }
 ],
 "metadata": {
  "celltoolbar": "Slideshow",
  "kernelspec": {
   "display_name": "Python [default]",
   "language": "python",
   "name": "python3"
  },
  "language_info": {
   "codemirror_mode": {
    "name": "ipython",
    "version": 3
   },
   "file_extension": ".py",
   "mimetype": "text/x-python",
   "name": "python",
   "nbconvert_exporter": "python",
   "pygments_lexer": "ipython3",
   "version": "3.5.2"
  }
 },
 "nbformat": 4,
 "nbformat_minor": 2
}
