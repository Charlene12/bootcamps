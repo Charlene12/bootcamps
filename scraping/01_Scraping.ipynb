{
 "cells": [
  {
   "cell_type": "raw",
   "metadata": {
    "deletable": true,
    "editable": true,
    "slideshow": {
     "slide_type": "notes"
    }
   },
   "source": [
    "%%html\n",
    "<style>\n",
    ".output_wrapper, .output {\n",
    "    height:auto !important;\n",
    "    max-height:500px;\n",
    "}\n",
    ".output_scroll {\n",
    "    box-shadow:none !important;\n",
    "    webkit-box-shadow:none !important;\n",
    "}\n",
    "</style>"
   ]
  },
  {
   "cell_type": "markdown",
   "metadata": {
    "deletable": true,
    "editable": true,
    "slideshow": {
     "slide_type": "slide"
    }
   },
   "source": [
    "<a href=\"http://quotes.toscrape.com/tag/humor\">http://quotes.toscrape.com/tag/humor</a>\n",
    "\n",
    "When you open the page, you'll find a list of 'funny' quotes.  \n",
    "Let's see if we can extract these quotes and who they're attributed to."
   ]
  },
  {
   "cell_type": "markdown",
   "metadata": {
    "deletable": true,
    "editable": true,
    "slideshow": {
     "slide_type": "fragment"
    }
   },
   "source": [
    "Define the URL and get the content of the wegpage.  \n",
    "One of the many ways to do this is with the requests module."
   ]
  },
  {
   "cell_type": "code",
   "execution_count": 26,
   "metadata": {
    "collapsed": false,
    "deletable": true,
    "editable": true,
    "scrolled": true,
    "slideshow": {
     "slide_type": "fragment"
    }
   },
   "outputs": [],
   "source": [
    "import requests\n",
    "\n",
    "url = \"http://quotes.toscrape.com/tag/humor\"\n",
    "response = requests.get(url)"
   ]
  },
  {
   "cell_type": "markdown",
   "metadata": {
    "deletable": true,
    "editable": true,
    "slideshow": {
     "slide_type": "fragment"
    }
   },
   "source": [
    "The response consists of more the text you see on the screen.  \n",
    "But for now, we're not interested in things like headers."
   ]
  },
  {
   "cell_type": "code",
   "execution_count": 27,
   "metadata": {
    "collapsed": false,
    "deletable": true,
    "editable": true,
    "scrolled": true,
    "slideshow": {
     "slide_type": "fragment"
    }
   },
   "outputs": [],
   "source": [
    "text = response.text"
   ]
  },
  {
   "cell_type": "markdown",
   "metadata": {
    "deletable": true,
    "editable": true,
    "slideshow": {
     "slide_type": "fragment"
    }
   },
   "source": [
    "This is what we see with 'View page source' or 'Inspect'"
   ]
  },
  {
   "cell_type": "code",
   "execution_count": 28,
   "metadata": {
    "collapsed": false,
    "deletable": true,
    "editable": true,
    "scrolled": true,
    "slideshow": {
     "slide_type": "slide"
    }
   },
   "outputs": [
    {
     "name": "stdout",
     "output_type": "stream",
     "text": [
      "<body>\n",
      "    <div class=\"container\">\n",
      "        <div class=\"row header-box\">\n",
      "            <div class=\"col-md-8\">\n",
      "                <h1>\n",
      "                    <a href=\"/\" style=\"text-decoration: none\">Quotes to Scrape</a>\n",
      "                </h1>\n",
      "            </div>\n",
      "            <div class=\"col-md-4\">\n",
      "                <p>\n",
      "                \n",
      "                    <a href=\"/login\">Login</a>\n",
      "                \n",
      "                </p>\n",
      "            </div>\n",
      "        </div>\n",
      "    \n",
      "\n",
      "<h3>Viewing tag: <a href=\"/tag/humor/page/1/\">humor</a></h3>\n",
      "\n",
      "<div class=\"row\">\n",
      "    <div class=\"col-md-8\">\n",
      "\n",
      "    <div class=\"quote\" itemscope itemtype=\"http://schema.org/CreativeWork\">\n",
      "        <span class=\"text\" itemprop=\"text\">“The person, be it gentleman or lady, who has not pleasure in a good novel, must be intolerably stupid.”</span>\n",
      "        <span>by <small class=\"author\" itemprop=\"author\">Jane Austen</small>\n",
      "        <a href=\"/author/Jane-Austen\">(about)</a>\n",
      "        </span>\n",
      "        <div class=\"tags\">\n",
      "            Tags:\n",
      "            <meta class=\"keywords\" itemprop=\"keywords\" content=\"aliteracy,books,classic,humor\" /    > \n",
      "            \n",
      "            <a class=\"tag\" href=\"/tag/aliteracy/page/1/\">aliteracy</a>\n",
      "            \n",
      "            <a class=\"tag\" href=\"/tag/books/page/1/\">books</a>\n",
      "            \n",
      "            <a class=\"tag\" href=\"/tag/classic/page/1/\">classic</a>\n",
      "            \n",
      "            <a class=\"tag\" href=\"/tag/humor/page/1/\">humor</a>\n",
      "            \n",
      "        </div>\n",
      "    </div>\n",
      "\n",
      "    <div class=\"quote\" itemscope itemtype=\"http://schema.org/CreativeWork\">\n",
      "        <span class=\"text\" itemprop=\"text\">“A day without sunshine is like, you know, night.”</span>\n",
      "        <span>by <small class=\"author\" itemprop=\"author\">Steve Martin</small>\n",
      "        <a href=\"/author/Steve-Martin\">(about)</a>\n",
      "        </span>\n",
      "        <div class=\"tags\">\n",
      "            Tags:\n",
      "            <meta class=\"keywords\" itemprop=\"keywords\" content=\"humor,obvious,simile\" /    > \n",
      "            \n",
      "            <a class=\"tag\" href=\"/tag/humor/page/1/\">humor</a>\n",
      "            \n",
      "            <a class=\"tag\" href=\"/tag/obvious/page/1/\">obvious</a>\n",
      "            \n",
      "            <a class=\"tag\" href=\"/tag/simile/page/1/\">simile</a>\n",
      "            \n",
      "        </div>\n",
      "    </div>\n",
      "\n",
      "    <div class=\"quote\" itemscope itemtype=\"http://schema.org/CreativeWork\">\n",
      "        <span class=\"text\" itemprop=\"text\">“Anyone who thinks sitting in church can make you a Christian must also think that sitting in a garage can make you a car.”</span>\n",
      "        <span>by <small class=\"author\" itemprop=\"author\">Garrison Keillor</small>\n",
      "        <a href=\"/author/Garrison-Keillor\">(about)</a>\n",
      "        </span>\n",
      "        <div class=\"tags\">\n",
      "            Tags:\n",
      "            <meta class=\"keywords\" itemprop=\"keywords\" content=\"humor,religion\" /    > \n",
      "            \n",
      "            <a class=\"tag\" href=\"/tag/humor/page/1/\">humor</a>\n",
      "            \n",
      "            <a class=\"tag\" href=\"/tag/religion/page/1/\">religion</a>\n",
      "            \n",
      "        </div>\n",
      "    </div>\n",
      "\n",
      "    <div class=\"quote\" itemscope itemtype=\"http://schema.org/CreativeWork\">\n",
      "        <span class=\"text\" itemprop=\"text\">“Beauty is in the eye of the beholder and it may be necessary from time to time to give a stupid or misinformed beholder a black eye.”</span>\n",
      "        <span>by <small class=\"author\" itemprop=\"author\">Jim Henson</small>\n",
      "        <a href=\"/author/Jim-Henson\">(about)</a>\n",
      "        </span>\n",
      "        <div class=\"tags\">\n",
      "            Tags:\n",
      "            <meta class=\"keywords\" itemprop=\"keywords\" content=\"humor\" /    > \n",
      "            \n",
      "            <a class=\"tag\" href=\"/tag/humor/page/1/\">humor</a>\n",
      "            \n",
      "        </div>\n",
      "    </div>\n",
      "\n",
      "    <div class=\"quote\" itemscope itemtype=\"http://schema.org/CreativeWork\">\n",
      "        <span class=\"text\" itemprop=\"text\">“All you need is love. But a little chocolate now and then doesn&#39;t hurt.”</span>\n",
      "        <span>by <small class=\"author\" itemprop=\"author\">Charles M. Schulz</small>\n",
      "        <a href=\"/author/Charles-M-Schulz\">(about)</a>\n",
      "        </span>\n",
      "        <div class=\"tags\">\n",
      "            Tags:\n",
      "            <meta class=\"keywords\" itemprop=\"keywords\" content=\"chocolate,food,humor\" /    > \n",
      "            \n",
      "            <a class=\"tag\" href=\"/tag/chocolate/page/1/\">chocolate</a>\n",
      "            \n",
      "            <a class=\"tag\" href=\"/tag/food/page/1/\">food</a>\n",
      "            \n",
      "            <a class=\"tag\" href=\"/tag/humor/page/1/\">humor</a>\n",
      "            \n",
      "        </div>\n",
      "    </div>\n",
      "\n",
      "    <div class=\"quote\" itemscope itemtype=\"http://schema.org/CreativeWork\">\n",
      "        <span class=\"text\" itemprop=\"text\">“Remember, we&#39;re madly in love, so it&#39;s all right to kiss me anytime you feel like it.”</span>\n",
      "        <span>by <small class=\"author\" itemprop=\"author\">Suzanne Collins</small>\n",
      "        <a href=\"/author/Suzanne-Collins\">(about)</a>\n",
      "        </span>\n",
      "        <div class=\"tags\">\n",
      "            Tags:\n",
      "            <meta class=\"keywords\" itemprop=\"keywords\" content=\"humor\" /    > \n",
      "            \n",
      "            <a class=\"tag\" href=\"/tag/humor/page/1/\">humor</a>\n",
      "            \n",
      "        </div>\n",
      "    </div>\n",
      "\n",
      "    <div class=\"quote\" itemscope itemtype=\"http://schema.org/CreativeWork\">\n",
      "        <span class=\"text\" itemprop=\"text\">“Some people never go crazy. What truly horrible lives they must lead.”</span>\n",
      "        <span>by <small class=\"author\" itemprop=\"author\">Charles Bukowski</small>\n",
      "        <a href=\"/author/Charles-Bukowski\">(about)</a>\n",
      "        </span>\n",
      "        <div class=\"tags\">\n",
      "            Tags:\n",
      "            <meta class=\"keywords\" itemprop=\"keywords\" content=\"humor\" /    > \n",
      "            \n",
      "            <a class=\"tag\" href=\"/tag/humor/page/1/\">humor</a>\n",
      "            \n",
      "        </div>\n",
      "    </div>\n",
      "\n",
      "    <div class=\"quote\" itemscope itemtype=\"http://schema.org/CreativeWork\">\n",
      "        <span class=\"text\" itemprop=\"text\">“The trouble with having an open mind, of course, is that people will insist on coming along and trying to put things in it.”</span>\n",
      "        <span>by <small class=\"author\" itemprop=\"author\">Terry Pratchett</small>\n",
      "        <a href=\"/author/Terry-Pratchett\">(about)</a>\n",
      "        </span>\n",
      "        <div class=\"tags\">\n",
      "            Tags:\n",
      "            <meta class=\"keywords\" itemprop=\"keywords\" content=\"humor,open-mind,thinking\" /    > \n",
      "            \n",
      "            <a class=\"tag\" href=\"/tag/humor/page/1/\">humor</a>\n",
      "            \n",
      "            <a class=\"tag\" href=\"/tag/open-mind/page/1/\">open-mind</a>\n",
      "            \n",
      "            <a class=\"tag\" href=\"/tag/thinking/page/1/\">thinking</a>\n",
      "            \n",
      "        </div>\n",
      "    </div>\n",
      "\n",
      "    <div class=\"quote\" itemscope itemtype=\"http://schema.org/CreativeWork\">\n",
      "        <span class=\"text\" itemprop=\"text\">“Think left and think right and think low and think high. Oh, the thinks you can think up if only you try!”</span>\n",
      "        <span>by <small class=\"author\" itemprop=\"author\">Dr. Seuss</small>\n",
      "        <a href=\"/author/Dr-Seuss\">(about)</a>\n",
      "        </span>\n",
      "        <div class=\"tags\">\n",
      "            Tags:\n",
      "            <meta class=\"keywords\" itemprop=\"keywords\" content=\"humor,philosophy\" /    > \n",
      "            \n",
      "            <a class=\"tag\" href=\"/tag/humor/page/1/\">humor</a>\n",
      "            \n",
      "            <a class=\"tag\" href=\"/tag/philosophy/page/1/\">philosophy</a>\n",
      "            \n",
      "        </div>\n",
      "    </div>\n",
      "\n",
      "    <div class=\"quote\" itemscope itemtype=\"http://schema.org/CreativeWork\">\n",
      "        <span class=\"text\" itemprop=\"text\">“The reason I talk to myself is because I’m the only one whose answers I accept.”</span>\n",
      "        <span>by <small class=\"author\" itemprop=\"author\">George Carlin</small>\n",
      "        <a href=\"/author/George-Carlin\">(about)</a>\n",
      "        </span>\n",
      "        <div class=\"tags\">\n",
      "            Tags:\n",
      "            <meta class=\"keywords\" itemprop=\"keywords\" content=\"humor,insanity,lies,lying,self-indulgence,truth\" /    > \n",
      "            \n",
      "            <a class=\"tag\" href=\"/tag/humor/page/1/\">humor</a>\n",
      "            \n",
      "            <a class=\"tag\" href=\"/tag/insanity/page/1/\">insanity</a>\n",
      "            \n",
      "            <a class=\"tag\" href=\"/tag/lies/page/1/\">lies</a>\n",
      "            \n",
      "            <a class=\"tag\" href=\"/tag/lying/page/1/\">lying</a>\n",
      "            \n",
      "            <a class=\"tag\" href=\"/tag/self-indulgence/page/1/\">self-indulgence</a>\n",
      "            \n",
      "            <a class=\"tag\" href=\"/tag/truth/page/1/\">truth</a>\n",
      "            \n",
      "        </div>\n",
      "    </div>\n",
      "\n",
      "    <nav>\n",
      "        <ul class=\"pager\">\n",
      "            \n",
      "            \n",
      "            <li class=\"next\">\n",
      "                <a href=\"/tag/humor/page/2/\">Next <span aria-hidden=\"true\">&rarr;</span></a>\n",
      "            </li>\n",
      "            \n",
      "        </ul>\n",
      "    </nav>\n",
      "    </div>\n",
      "    <div class=\"col-md-4 tags-box\">\n",
      "        \n",
      "            <h2>Top Ten tags</h2>\n",
      "            \n",
      "            <span class=\"tag-item\">\n",
      "            <a class=\"tag\" style=\"font-size: 28px\" href=\"/tag/love/\">love</a>\n",
      "            </span>\n",
      "            \n",
      "            <span class=\"tag-item\">\n",
      "            <a class=\"tag\" style=\"font-size: 26px\" href=\"/tag/inspirational/\">inspirational</a>\n",
      "            </span>\n",
      "            \n",
      "            <span class=\"tag-item\">\n",
      "            <a class=\"tag\" style=\"font-size: 26px\" href=\"/tag/life/\">life</a>\n",
      "            </span>\n",
      "            \n",
      "            <span class=\"tag-item\">\n",
      "            <a class=\"tag\" style=\"font-size: 24px\" href=\"/tag/humor/\">humor</a>\n",
      "            </span>\n",
      "            \n",
      "            <span class=\"tag-item\">\n",
      "            <a class=\"tag\" style=\"font-size: 22px\" href=\"/tag/books/\">books</a>\n",
      "            </span>\n",
      "            \n",
      "            <span class=\"tag-item\">\n",
      "            <a class=\"tag\" style=\"font-size: 14px\" href=\"/tag/reading/\">reading</a>\n",
      "            </span>\n",
      "            \n",
      "            <span class=\"tag-item\">\n",
      "            <a class=\"tag\" style=\"font-size: 10px\" href=\"/tag/friendship/\">friendship</a>\n",
      "            </span>\n",
      "            \n",
      "            <span class=\"tag-item\">\n",
      "            <a class=\"tag\" style=\"font-size: 8px\" href=\"/tag/truth/\">truth</a>\n",
      "            </span>\n",
      "            \n",
      "            <span class=\"tag-item\">\n",
      "            <a class=\"tag\" style=\"font-size: 8px\" href=\"/tag/friends/\">friends</a>\n",
      "            </span>\n",
      "            \n",
      "            <span class=\"tag-item\">\n",
      "            <a class=\"tag\" style=\"font-size: 6px\" href=\"/tag/death/\">death</a>\n",
      "            </span>\n",
      "            \n",
      "        \n",
      "    </div>\n",
      "</div>\n",
      "\n",
      "    </div>\n",
      "    <footer class=\"footer\">\n",
      "        <div class=\"container\">\n",
      "            <p class=\"text-muted\">\n",
      "                Quotes by: <a href=\"https://www.goodreads.com/quotes\">GoodReads.com</a>\n",
      "            </p>\n",
      "            <p class=\"copyright\">\n",
      "                Made with <span class='sh-red'>❤</span> by <a href=\"https://scrapinghub.com\">Scrapinghub</a>\n",
      "            </p>\n",
      "        </div>\n",
      "    </footer>\n",
      "</body>\n",
      "</html>\n"
     ]
    }
   ],
   "source": [
    "# Only print the <body>\n",
    "print(text[text.index(\"<body>\"):])"
   ]
  },
  {
   "cell_type": "markdown",
   "metadata": {
    "collapsed": false,
    "deletable": true,
    "editable": true,
    "scrolled": false,
    "slideshow": {
     "slide_type": "slide"
    }
   },
   "source": [
    "```<span class=\"text\" itemprop=\"text\">\n",
    "    “A day without sunshine is like, you know, night.”\n",
    "</span>\n",
    "<span>\n",
    "    by\n",
    "    <small class=\"author\" itemprop=\"author\">\n",
    "        Steve Martin\n",
    "    </small>\n",
    "</span>```"
   ]
  },
  {
   "cell_type": "markdown",
   "metadata": {
    "deletable": true,
    "editable": true,
    "slideshow": {
     "slide_type": "fragment"
    }
   },
   "source": [
    "If we look closely, we can see that each quote is contained in a **span** with the attribute **itemprop** set to **text**.  \n",
    "The author is in a **small** with **itemprop** set to **author**."
   ]
  },
  {
   "cell_type": "markdown",
   "metadata": {
    "deletable": true,
    "editable": true,
    "slideshow": {
     "slide_type": "slide"
    }
   },
   "source": [
    "## Do not try this at home!"
   ]
  },
  {
   "cell_type": "markdown",
   "metadata": {
    "deletable": true,
    "editable": true,
    "slideshow": {
     "slide_type": "fragment"
    }
   },
   "source": [
    "We'll use the **re** module find iterate over the text.\n",
    "\n",
    "Print the first 200 chars after we find an instance of 'itemprop=\"text\"'."
   ]
  },
  {
   "cell_type": "code",
   "execution_count": 6,
   "metadata": {
    "collapsed": false,
    "deletable": true,
    "editable": true,
    "scrolled": true,
    "slideshow": {
     "slide_type": "subslide"
    }
   },
   "outputs": [
    {
     "name": "stdout",
     "output_type": "stream",
     "text": [
      "\n",
      "itemprop=\"text\">“The person, be it gentleman or lady, who has not pleasure in a good novel, must be intolerably stupid.”</span>\n",
      "        <span>by <small class=\"author\" itemprop=\"author\">Jane Austen</sm\n",
      "\n",
      "itemprop=\"text\">“A day without sunshine is like, you know, night.”</span>\n",
      "        <span>by <small class=\"author\" itemprop=\"author\">Steve Martin</small>\n",
      "        <a href=\"/author/Steve-Martin\">(about)</\n",
      "\n",
      "itemprop=\"text\">“Anyone who thinks sitting in church can make you a Christian must also think that sitting in a garage can make you a car.”</span>\n",
      "        <span>by <small class=\"author\" itemprop=\"auth\n",
      "\n",
      "itemprop=\"text\">“Beauty is in the eye of the beholder and it may be necessary from time to time to give a stupid or misinformed beholder a black eye.”</span>\n",
      "        <span>by <small class=\"author\" ite\n",
      "\n",
      "itemprop=\"text\">“All you need is love. But a little chocolate now and then doesn&#39;t hurt.”</span>\n",
      "        <span>by <small class=\"author\" itemprop=\"author\">Charles M. Schulz</small>\n",
      "        <a href=\n",
      "\n",
      "itemprop=\"text\">“Remember, we&#39;re madly in love, so it&#39;s all right to kiss me anytime you feel like it.”</span>\n",
      "        <span>by <small class=\"author\" itemprop=\"author\">Suzanne Collins</small>\n",
      "\n",
      "\n",
      "itemprop=\"text\">“Some people never go crazy. What truly horrible lives they must lead.”</span>\n",
      "        <span>by <small class=\"author\" itemprop=\"author\">Charles Bukowski</small>\n",
      "        <a href=\"/autho\n",
      "\n",
      "itemprop=\"text\">“The trouble with having an open mind, of course, is that people will insist on coming along and trying to put things in it.”</span>\n",
      "        <span>by <small class=\"author\" itemprop=\"au\n",
      "\n",
      "itemprop=\"text\">“Think left and think right and think low and think high. Oh, the thinks you can think up if only you try!”</span>\n",
      "        <span>by <small class=\"author\" itemprop=\"author\">Dr. Seuss</s\n",
      "\n",
      "itemprop=\"text\">“The reason I talk to myself is because I’m the only one whose answers I accept.”</span>\n",
      "        <span>by <small class=\"author\" itemprop=\"author\">George Carlin</small>\n",
      "        <a href=\n"
     ]
    }
   ],
   "source": [
    "# Do not try this at home!\n",
    "import re\n",
    "\n",
    "# Find all the quotes on this page\n",
    "for m in re.finditer('itemprop=\"text\"', text):\n",
    "    print()\n",
    "    # Only print first 200 chars\n",
    "    print(text[m.start():m.start()+200])"
   ]
  },
  {
   "cell_type": "markdown",
   "metadata": {
    "deletable": true,
    "editable": true,
    "slideshow": {
     "slide_type": "slide"
    }
   },
   "source": [
    "## Do not try this at home!\n",
    "\n",
    "This works because the quotes are the only items marked by the 'text' item-property.  \n",
    "It's also very error-prone, 'itemprop = \"text\"' are missed (extra spaces, valid HTML)."
   ]
  },
  {
   "cell_type": "markdown",
   "metadata": {
    "deletable": true,
    "editable": true,
    "slideshow": {
     "slide_type": "fragment"
    }
   },
   "source": [
    "We need to find the end of the quote, and do some cleaning."
   ]
  },
  {
   "cell_type": "code",
   "execution_count": 7,
   "metadata": {
    "collapsed": false,
    "deletable": true,
    "editable": true,
    "scrolled": false,
    "slideshow": {
     "slide_type": "subslide"
    }
   },
   "outputs": [
    {
     "name": "stdout",
     "output_type": "stream",
     "text": [
      "\n",
      "“The person, be it gentleman or lady, who has not pleasure in a good novel, must be intolerably stupid.”\n",
      "\n",
      "“A day without sunshine is like, you know, night.”\n",
      "\n",
      "“Anyone who thinks sitting in church can make you a Christian must also think that sitting in a garage can make you a car.”\n",
      "\n",
      "“Beauty is in the eye of the beholder and it may be necessary from time to time to give a stupid or misinformed beholder a black eye.”\n",
      "\n",
      "“All you need is love. But a little chocolate now and then doesn't hurt.”\n",
      "\n",
      "“Remember, we're madly in love, so it's all right to kiss me anytime you feel like it.”\n",
      "\n",
      "“Some people never go crazy. What truly horrible lives they must lead.”\n",
      "\n",
      "“The trouble with having an open mind, of course, is that people will insist on coming along and trying to put things in it.”\n",
      "\n",
      "“Think left and think right and think low and think high. Oh, the thinks you can think up if only you try!”\n",
      "\n",
      "“The reason I talk to myself is because I’m the only one whose answers I accept.”\n"
     ]
    }
   ],
   "source": [
    "# Do not try this at home!\n",
    "\n",
    "# We need some cleaning\n",
    "for m in re.finditer('itemprop=\"text\"', text):\n",
    "    # Find the marker\n",
    "    quote = text[m.start():]\n",
    "    \n",
    "    # Cleanup of the quote\n",
    "    # Cut off start marker\n",
    "    quote = quote[quote.find(\">\")+1:]\n",
    "    # Cut off end marker\n",
    "    quote = quote[:quote.find(\"</span>\")]\n",
    "    # Replace the \"&#39;\" with \"'\"\n",
    "    quote = quote.replace(\"&#39;\", \"'\")\n",
    "    \n",
    "    print()\n",
    "    print(quote)"
   ]
  },
  {
   "cell_type": "markdown",
   "metadata": {
    "deletable": true,
    "editable": true,
    "slideshow": {
     "slide_type": "slide"
    }
   },
   "source": [
    "## Do not try this at home!"
   ]
  },
  {
   "cell_type": "markdown",
   "metadata": {
    "deletable": true,
    "editable": true,
    "slideshow": {
     "slide_type": "fragment"
    }
   },
   "source": [
    "But we also wanted to get the authors of the quote.\n",
    "\n",
    "Remember, the name of the author was inside a tag **small** with **itemprop** set to **author**.\n",
    "\n",
    "Once we find the quote look for the author marker, and do a similar cleaning."
   ]
  },
  {
   "cell_type": "code",
   "execution_count": 8,
   "metadata": {
    "collapsed": false,
    "deletable": true,
    "editable": true,
    "scrolled": false,
    "slideshow": {
     "slide_type": "subslide"
    }
   },
   "outputs": [
    {
     "name": "stdout",
     "output_type": "stream",
     "text": [
      "\n",
      "Jane Austen - “The person, be it gentleman or lady, who has not pleasure in a good novel, must be intolerably stupid.”\n",
      "\n",
      "Steve Martin - “A day without sunshine is like, you know, night.”\n",
      "\n",
      "Garrison Keillor - “Anyone who thinks sitting in church can make you a Christian must also think that sitting in a garage can make you a car.”\n",
      "\n",
      "Jim Henson - “Beauty is in the eye of the beholder and it may be necessary from time to time to give a stupid or misinformed beholder a black eye.”\n",
      "\n",
      "Charles M. Schulz - “All you need is love. But a little chocolate now and then doesn't hurt.”\n",
      "\n",
      "Suzanne Collins - “Remember, we're madly in love, so it's all right to kiss me anytime you feel like it.”\n",
      "\n",
      "Charles Bukowski - “Some people never go crazy. What truly horrible lives they must lead.”\n",
      "\n",
      "Terry Pratchett - “The trouble with having an open mind, of course, is that people will insist on coming along and trying to put things in it.”\n",
      "\n",
      "Dr. Seuss - “Think left and think right and think low and think high. Oh, the thinks you can think up if only you try!”\n",
      "\n",
      "George Carlin - “The reason I talk to myself is because I’m the only one whose answers I accept.”\n"
     ]
    }
   ],
   "source": [
    "# Do not try this at home!\n",
    "\n",
    "# Also find the author of the quote\n",
    "for m in re.finditer('itemprop=\"text\"', text):\n",
    "    # Find the marker\n",
    "    quote = text[m.start():]\n",
    "\n",
    "    # Find the marker for the author\n",
    "    author = quote[quote.find('itemprop=\"author\"'):]\n",
    "    \n",
    "    # Cleanup of the quote\n",
    "    # Cut off start marker\n",
    "    quote = quote[quote.find(\">\")+1:]\n",
    "    # Cut off end marker\n",
    "    quote = quote[:quote.find(\"</span>\")]\n",
    "    # Replace the \"&#39;\" with \"'\"\n",
    "    quote = quote.replace(\"&#39;\", \"'\")\n",
    "   \n",
    "    # Cleanup of the author\n",
    "    # Cut off start marker\n",
    "    author = author[author.find(\">\")+1:]\n",
    "    # Cut off end marker\n",
    "    author = author[:author.find(\"</small>\")]\n",
    "    \n",
    "    print()\n",
    "    print(author, \"-\", quote)"
   ]
  },
  {
   "cell_type": "markdown",
   "metadata": {
    "deletable": true,
    "editable": true,
    "slideshow": {
     "slide_type": "skip"
    }
   },
   "source": [
    "---"
   ]
  },
  {
   "cell_type": "markdown",
   "metadata": {
    "deletable": true,
    "editable": true,
    "slideshow": {
     "slide_type": "slide"
    }
   },
   "source": [
    "## Do try this at home! Or here!\n",
    "\n",
    "Let's see if we can do this a bit more elegant."
   ]
  },
  {
   "cell_type": "code",
   "execution_count": 9,
   "metadata": {
    "collapsed": false,
    "deletable": true,
    "editable": true,
    "scrolled": true,
    "slideshow": {
     "slide_type": "fragment"
    }
   },
   "outputs": [],
   "source": [
    "from bs4 import BeautifulSoup\n",
    "\n",
    "# Parse the document\n",
    "soup = BeautifulSoup(text,'html.parser')"
   ]
  },
  {
   "cell_type": "code",
   "execution_count": 10,
   "metadata": {
    "collapsed": false,
    "deletable": true,
    "editable": true,
    "scrolled": false,
    "slideshow": {
     "slide_type": "fragment"
    }
   },
   "outputs": [
    {
     "name": "stdout",
     "output_type": "stream",
     "text": [
      "\n",
      "Jane Austen - “The person, be it gentleman or lady, who has not pleasure in a good novel, must be intolerably stupid.”\n",
      "\n",
      "Steve Martin - “A day without sunshine is like, you know, night.”\n",
      "\n",
      "Garrison Keillor - “Anyone who thinks sitting in church can make you a Christian must also think that sitting in a garage can make you a car.”\n",
      "\n",
      "Jim Henson - “Beauty is in the eye of the beholder and it may be necessary from time to time to give a stupid or misinformed beholder a black eye.”\n",
      "\n",
      "Charles M. Schulz - “All you need is love. But a little chocolate now and then doesn't hurt.”\n",
      "\n",
      "Suzanne Collins - “Remember, we're madly in love, so it's all right to kiss me anytime you feel like it.”\n",
      "\n",
      "Charles Bukowski - “Some people never go crazy. What truly horrible lives they must lead.”\n",
      "\n",
      "Terry Pratchett - “The trouble with having an open mind, of course, is that people will insist on coming along and trying to put things in it.”\n",
      "\n",
      "Dr. Seuss - “Think left and think right and think low and think high. Oh, the thinks you can think up if only you try!”\n",
      "\n",
      "George Carlin - “The reason I talk to myself is because I’m the only one whose answers I accept.”\n"
     ]
    }
   ],
   "source": [
    "for quote in soup.find_all('span', {'itemprop': 'text'}):\n",
    "    author = quote.findNext('small', {'itemprop': 'author'}).text\n",
    "    \n",
    "    print()\n",
    "    print(author, \"-\", quote.text)"
   ]
  }
 ],
 "metadata": {
  "celltoolbar": "Slideshow",
  "kernelspec": {
   "display_name": "Python 3",
   "language": "python",
   "name": "python3"
  },
  "language_info": {
   "codemirror_mode": {
    "name": "ipython",
    "version": 3
   },
   "file_extension": ".py",
   "mimetype": "text/x-python",
   "name": "python",
   "nbconvert_exporter": "python",
   "pygments_lexer": "ipython3",
   "version": "3.5.2"
  }
 },
 "nbformat": 4,
 "nbformat_minor": 2
}
