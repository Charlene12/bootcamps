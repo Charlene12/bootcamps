{
 "cells": [
  {
   "cell_type": "markdown",
   "metadata": {},
   "source": [
    "### UKB Innovatiemiddag: The Jupyter Notebook"
   ]
  },
  {
   "cell_type": "markdown",
   "metadata": {},
   "source": [
    "#### History\n",
    "\n",
    "[Literate Programming](https://en.wikipedia.org/wiki/Literate_programming)\n",
    "\n",
    "[Reproducible Research](https://www.coursera.org/learn/reproducible-research)"
   ]
  },
  {
   "cell_type": "markdown",
   "metadata": {},
   "source": [
    "#### The University Library\n",
    "\n",
    "- Bootcamps for students (PhD's and Master)\n",
    "- Programming with data\n",
    "- Complete datascience pipeline\n",
    "\n",
    "![Complete Datascience Pipeline](tidy1.png)\n",
    "\n",
    "- New ways of learning\n",
    "- New ways of working together"
   ]
  },
  {
   "cell_type": "markdown",
   "metadata": {},
   "source": [
    "#### Bootcamp example\n",
    "\n",
    "[The Titanic](http://localhost:8888/notebooks/Documents/bootcamps/Titanic/titanic_scenario.ipynb)\n",
    "\n",
    "The goal is *NOT* to learn them program. The goal is to show them what there is possible and to try to establish a datascience community.\n",
    "\n",
    "[The Titanic Bibliography](http://localhost:8888/notebooks/Documents/bootcamps/Titanic/titanic.ipynb)"
   ]
  },
  {
   "cell_type": "markdown",
   "metadata": {},
   "source": [
    "#### New possibilities\n",
    "\n",
    "[Jupyter Notebook Viewer: MathBox2](https://nbviewer.jupyter.org/github/znah/mathbox/blob/jupyter/examples/notebooks/mathbox.ipynb)\n",
    "\n",
    "[Microsoft Azure Jupyter Notebooks](https://notebooks.azure.com/)\n",
    "\n",
    "[Google Colaboratory](https://colab.research.google.com/notebook#fileId=/v2/external/notebooks/welcome.ipynb&forceEdit=true&sandboxMode=true&scrollTo=9J7p406abzgl)\n",
    "\n",
    "[Google Colaboratory & BigQuery](https://colab.research.google.com/notebook#fileId=/v2/external/notebooks/bigquery.ipynb&scrollTo=KcAZ2RHCg_Ze)"
   ]
  }
 ],
 "metadata": {
  "kernelspec": {
   "display_name": "Python 3",
   "language": "python",
   "name": "python3"
  },
  "language_info": {
   "codemirror_mode": {
    "name": "ipython",
    "version": 3
   },
   "file_extension": ".py",
   "mimetype": "text/x-python",
   "name": "python",
   "nbconvert_exporter": "python",
   "pygments_lexer": "ipython3",
   "version": "3.6.3"
  }
 },
 "nbformat": 4,
 "nbformat_minor": 2
}
