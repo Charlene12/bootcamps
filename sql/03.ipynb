{
 "cells": [
  {
   "cell_type": "markdown",
   "metadata": {
    "slideshow": {
     "slide_type": "slide"
    }
   },
   "source": [
    "# Introduction to SQL with Python\n",
    "\n",
    "## Combining tables"
   ]
  },
  {
   "cell_type": "code",
   "execution_count": null,
   "metadata": {
    "slideshow": {
     "slide_type": "skip"
    }
   },
   "outputs": [],
   "source": [
    "# !pip install --user ipython-sql\n",
    "%load_ext sql\n",
    "\n",
    "# Connect to the Chinook database\n",
    "%sql sqlite:///Chinook.sqlite"
   ]
  },
  {
   "cell_type": "markdown",
   "metadata": {
    "slideshow": {
     "slide_type": "slide"
    }
   },
   "source": [
    "Suppose we want to list the name and the composers for all Deep Purple tracks in our database.<br />\n",
    "We've seen that this kind of information is available, but it's fragmented across several tables.\n"
   ]
  },
  {
   "cell_type": "markdown",
   "metadata": {
    "slideshow": {
     "slide_type": "fragment"
    }
   },
   "source": [
    "First, we'll do this step by step."
   ]
  },
  {
   "cell_type": "code",
   "execution_count": null,
   "metadata": {
    "slideshow": {
     "slide_type": "fragment"
    }
   },
   "outputs": [],
   "source": [
    "%%sql\n",
    "\n",
    "-- Find the ArtistId for 'Deep Purple'\n",
    "SELECT *\n",
    "FROM Artist\n",
    "WHERE Name = 'Deep Purple';"
   ]
  },
  {
   "cell_type": "markdown",
   "metadata": {
    "slideshow": {
     "slide_type": "slide"
    }
   },
   "source": [
    "Now find all their albums that are in the database, using the ArtistId we just found."
   ]
  },
  {
   "cell_type": "code",
   "execution_count": null,
   "metadata": {
    "slideshow": {
     "slide_type": "fragment"
    }
   },
   "outputs": [],
   "source": [
    "%%sql\n",
    "SELECT *\n",
    "FROM Album\n",
    "WHERE ArtistId = 58;"
   ]
  },
  {
   "cell_type": "markdown",
   "metadata": {
    "slideshow": {
     "slide_type": "slide"
    }
   },
   "source": [
    "Now we can find the Name and Composers of the tracks on these albums, but we have to plug in AlbumIds one at a time..."
   ]
  },
  {
   "cell_type": "code",
   "execution_count": null,
   "metadata": {
    "slideshow": {
     "slide_type": "fragment"
    }
   },
   "outputs": [],
   "source": [
    "%%sql\n",
    "\n",
    "SELECT Name, Composer\n",
    "FROM Track\n",
    "WHERE AlbumId = 50;"
   ]
  },
  {
   "cell_type": "markdown",
   "metadata": {
    "slideshow": {
     "slide_type": "slide"
    }
   },
   "source": [
    "This is fairly annoying if we have to do it for 11 albums!<br/>\n",
    "Fortunately, we won't have to."
   ]
  },
  {
   "cell_type": "markdown",
   "metadata": {
    "slideshow": {
     "slide_type": "fragment"
    }
   },
   "source": [
    "Instead of sequentially looking up values in one table to plug them into the query on another table, we can __JOIN__ tables together and query them at once."
   ]
  },
  {
   "cell_type": "code",
   "execution_count": null,
   "metadata": {
    "slideshow": {
     "slide_type": "fragment"
    }
   },
   "outputs": [],
   "source": [
    "%%sql\n",
    "\n",
    "SELECT *\n",
    "FROM Artist, Album\n",
    "WHERE Artist.ArtistId = Album.ArtistId\n",
    "AND Artist.NAME = 'Deep Purple';"
   ]
  },
  {
   "cell_type": "markdown",
   "metadata": {
    "slideshow": {
     "slide_type": "fragment"
    }
   },
   "source": [
    "When joining tables it is wise, and often necessary, to prefix column names with table names, e.g. \"Artist.ArtistId\". This is because there are several tables with a column called ArtistId and our query would be ambiguous without the prefix."
   ]
  },
  {
   "cell_type": "code",
   "execution_count": null,
   "metadata": {
    "slideshow": {
     "slide_type": "fragment"
    }
   },
   "outputs": [],
   "source": [
    "%%sql\n",
    "\n",
    "SELECT Track.Name, Track.Composer \n",
    "FROM Artist, Album, Track\n",
    "WHERE Album.ArtistId = Artist.ArtistId\n",
    "AND Track.AlbumId = Album.AlbumId\n",
    "AND Artist.Name = 'Deep Purple';"
   ]
  }
 ],
 "metadata": {
  "anaconda-cloud": {},
  "celltoolbar": "Slideshow",
  "kernelspec": {
   "display_name": "Python 3",
   "language": "python",
   "name": "python3"
  },
  "language_info": {
   "codemirror_mode": {
    "name": "ipython",
    "version": 3
   },
   "file_extension": ".py",
   "mimetype": "text/x-python",
   "name": "python",
   "nbconvert_exporter": "python",
   "pygments_lexer": "ipython3",
   "version": "3.5.2"
  }
 },
 "nbformat": 4,
 "nbformat_minor": 1
}
