{
 "cells": [
  {
   "cell_type": "markdown",
   "metadata": {},
   "source": [
    "# Introduction to SQL with Python\n",
    "\n",
    "## Content\n",
    "\n",
    "* [01](01.ipynb) Introduction and basic syntax\n",
    "* [02](02.ipynb) Functions and types\n",
    "* [03](03.ipynb) Combining tables\n",
    "\n",
    "## Exercises / answers\n",
    "\n",
    "* [01](exercises/01.exercises.ipynb) / [01](exercises/01.answers.ipynb)\n",
    "* [02](exercises/02.exercises.ipynb) / [02](exercises/02.answers.ipynb)\n",
    "* [03](exercises/03.exercises.ipynb) / [03](exercises/03.answers.ipynb)\n",
    "* [extra](extra/extra.exercises.ipynb) / [extra](extra/extra.answers.ipynb)\n",
    "\n",
    "## Extra content\n",
    "\n",
    "* [Pure Python](extra/Pure_python.ipynb)\n",
    "\n"
   ]
  }
 ],
 "metadata": {
  "kernelspec": {
   "display_name": "Python 3",
   "language": "python",
   "name": "python3"
  },
  "language_info": {
   "codemirror_mode": {
    "name": "ipython",
    "version": 3
   },
   "file_extension": ".py",
   "mimetype": "text/x-python",
   "name": "python",
   "nbconvert_exporter": "python",
   "pygments_lexer": "ipython3",
   "version": "3.5.2"
  }
 },
 "nbformat": 4,
 "nbformat_minor": 1
}
