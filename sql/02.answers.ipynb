{
 "cells": [
  {
   "cell_type": "code",
   "execution_count": null,
   "metadata": {
    "collapsed": false
   },
   "outputs": [],
   "source": [
    "# Install, if needed\n",
    "# !pip install --user ipython-sql\n",
    "\n",
    "# Load the SQL module (ignore the warning)\n",
    "%load_ext sql\n",
    "\n",
    "# Connect to the Chinook database\n",
    "%sql sqlite:///Chinook.sqlite"
   ]
  },
  {
   "cell_type": "markdown",
   "metadata": {},
   "source": [
    "<hr style=\"height: 3px; margin: 0\" />\n",
    "### 2 A"
   ]
  },
  {
   "cell_type": "code",
   "execution_count": null,
   "metadata": {
    "collapsed": false
   },
   "outputs": [],
   "source": [
    "%%sql\n",
    "\n",
    "-- How many artists are in the database?\n",
    "SELECT COUNT(*)\n",
    "FROM Artist;"
   ]
  },
  {
   "cell_type": "markdown",
   "metadata": {},
   "source": [
    "<hr style=\"height: 3px; margin: 0\" />\n",
    "### 2 B"
   ]
  },
  {
   "cell_type": "code",
   "execution_count": null,
   "metadata": {
    "collapsed": false
   },
   "outputs": [],
   "source": [
    "%%sql\n",
    "\n",
    "-- How many albums are there with ArtistId 22?\n",
    "SELECT COUNT(*)\n",
    "FROM Album\n",
    "WHERE ArtistId = 22;"
   ]
  },
  {
   "cell_type": "markdown",
   "metadata": {},
   "source": [
    "<hr style=\"height: 3px; margin: 0\" />\n",
    "### 2 C"
   ]
  },
  {
   "cell_type": "code",
   "execution_count": null,
   "metadata": {
    "collapsed": false
   },
   "outputs": [],
   "source": [
    "%%sql\n",
    "\n",
    "-- How many genres have 'Rock' in their name?\n",
    "SELECT COUNT(*)\n",
    "FROM Genre\n",
    "WHERE Name LIKE '%Rock%';"
   ]
  },
  {
   "cell_type": "markdown",
   "metadata": {},
   "source": [
    "<hr style=\"height: 3px; margin: 0\" />\n",
    "### 2 D"
   ]
  },
  {
   "cell_type": "code",
   "execution_count": null,
   "metadata": {
    "collapsed": false
   },
   "outputs": [],
   "source": [
    "%%sql\n",
    "\n",
    "-- How many tracks are there with either GenreId = 1 or GenreId = 5?\n",
    "SELECT COUNT(*)\n",
    "FROM Track\n",
    "WHERE GenreId = 1 OR GenreId = 5;"
   ]
  },
  {
   "cell_type": "markdown",
   "metadata": {},
   "source": [
    "<hr style=\"height: 3px; margin: 0\" />\n",
    "### 2 E"
   ]
  },
  {
   "cell_type": "code",
   "execution_count": null,
   "metadata": {
    "collapsed": false
   },
   "outputs": [],
   "source": [
    "%%sql\n",
    "\n",
    "-- What is the average track length in the database?\n",
    "SELECT AVG(Milliseconds)\n",
    "FROM Track;"
   ]
  },
  {
   "cell_type": "markdown",
   "metadata": {},
   "source": [
    "<hr style=\"height: 3px; margin: 0\" />\n",
    "### 2 F"
   ]
  },
  {
   "cell_type": "code",
   "execution_count": null,
   "metadata": {
    "collapsed": false
   },
   "outputs": [],
   "source": [
    "%%sql\n",
    "\n",
    "-- Can you express this average length in minutes, instead of milliseconds?\n",
    "SELECT AVG(Milliseconds) / 60000 As Minutes\n",
    "FROM Track;"
   ]
  },
  {
   "cell_type": "markdown",
   "metadata": {},
   "source": [
    "<hr style=\"height: 3px; margin: 0\" />\n",
    "### 2 G"
   ]
  },
  {
   "cell_type": "code",
   "execution_count": null,
   "metadata": {
    "collapsed": false
   },
   "outputs": [],
   "source": [
    "%%sql\n",
    "\n",
    "-- What is the number of bytes in the largest track in the 'Blues' genre (GenreId = 6)\n",
    "\n",
    "SELECT MAX(Bytes)\n",
    "FROM Track\n",
    "WHERE GenreId = 6;"
   ]
  },
  {
   "cell_type": "markdown",
   "metadata": {},
   "source": [
    "<hr style=\"height: 3px; margin: 0\" />\n",
    "### 2 H"
   ]
  },
  {
   "cell_type": "code",
   "execution_count": null,
   "metadata": {
    "collapsed": false
   },
   "outputs": [],
   "source": [
    "%%sql\n",
    "\n",
    "-- Can you express this number in Megabytes, for convenience? (1 megabyte is 1048576 bytes)\n",
    "SELECT MAX(Bytes) / 1048576 AS Megabytes\n",
    "FROM Track\n",
    "WHERE GenreId = 6;"
   ]
  },
  {
   "cell_type": "markdown",
   "metadata": {},
   "source": [
    "<hr style=\"height: 3px; margin: 0\" />\n",
    "### 2 I"
   ]
  },
  {
   "cell_type": "code",
   "execution_count": null,
   "metadata": {
    "collapsed": false
   },
   "outputs": [],
   "source": [
    "%%sql\n",
    "\n",
    "-- What would be the total price to buy all tracks of the 'Reggae' genre (GenreId = 8)\n",
    "SELECT SUM(UnitPrice)\n",
    "FROM Track\n",
    "WHERE GenreId = 8;"
   ]
  },
  {
   "cell_type": "markdown",
   "metadata": {},
   "source": [
    "<hr style=\"height: 3px; margin: 0\" />\n",
    "### 2 J"
   ]
  },
  {
   "cell_type": "code",
   "execution_count": null,
   "metadata": {
    "collapsed": false
   },
   "outputs": [],
   "source": [
    "%%sql\n",
    "\n",
    "-- What is the Name of the track with the largest number of characters?\n",
    "SELECT Name\n",
    "FROM Track\n",
    "ORDER BY LENGTH(Name) DESC\n",
    "LIMIT 1;"
   ]
  }
 ],
 "metadata": {
  "kernelspec": {
   "display_name": "Python 3",
   "language": "python",
   "name": "python3"
  },
  "language_info": {
   "codemirror_mode": {
    "name": "ipython",
    "version": 3
   },
   "file_extension": ".py",
   "mimetype": "text/x-python",
   "name": "python",
   "nbconvert_exporter": "python",
   "pygments_lexer": "ipython3",
   "version": "3.5.2"
  }
 },
 "nbformat": 4,
 "nbformat_minor": 1
}
