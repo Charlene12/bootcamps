{
 "cells": [
  {
   "cell_type": "code",
   "execution_count": null,
   "metadata": {
    "collapsed": false
   },
   "outputs": [],
   "source": [
    "# Install, if needed\n",
    "# !pip install --user ipython-sql\n",
    "\n",
    "# Load the SQL module (ignore the warning)\n",
    "%load_ext sql\n",
    "\n",
    "# Connect to the Chinook database\n",
    "%sql sqlite:///Chinook.sqlite"
   ]
  },
  {
   "cell_type": "markdown",
   "metadata": {},
   "source": [
    "<hr style=\"height: 3px; margin: 0\" />\n",
    "### 3 A"
   ]
  },
  {
   "cell_type": "code",
   "execution_count": null,
   "metadata": {
    "collapsed": false
   },
   "outputs": [],
   "source": [
    "%%sql\n",
    "\n",
    "-- In a single query, get the number of albums by 'Led Zeppelin'?\n",
    "SELECT COUNT(*)\n",
    "FROM Album, Artist\n",
    "WHERE Album.ArtistId = Artist.ArtistId\n",
    "AND Artist.Name = 'Led Zeppelin';"
   ]
  },
  {
   "cell_type": "markdown",
   "metadata": {},
   "source": [
    "<hr style=\"height: 3px; margin: 0\" />\n",
    "### 3 B"
   ]
  },
  {
   "cell_type": "code",
   "execution_count": null,
   "metadata": {
    "collapsed": false
   },
   "outputs": [],
   "source": [
    "%%sql\n",
    "\n",
    "-- In a single query, get the number of tracks of genres having 'Rock' in their name?\n",
    "SELECT COUNT(*)\n",
    "FROM Track, Genre\n",
    "WHERE Track.GenreId = Genre.GenreId\n",
    "AND Genre.Name LIKE '%Rock%';"
   ]
  },
  {
   "cell_type": "markdown",
   "metadata": {},
   "source": [
    "<hr style=\"height: 3px; margin: 0\" />\n",
    "### 3 C"
   ]
  },
  {
   "cell_type": "code",
   "execution_count": null,
   "metadata": {
    "collapsed": false
   },
   "outputs": [],
   "source": [
    "%%sql\n",
    "\n",
    "-- What is the average number of bytes of all tracks in the 'Metal' genre?\n",
    "SELECT AVG(Track.Bytes)\n",
    "FROM Track, Genre\n",
    "WHERE Track.GenreId = Genre.GenreId\n",
    "AND Genre.Name LIKE 'Metal';"
   ]
  },
  {
   "cell_type": "markdown",
   "metadata": {},
   "source": [
    "<hr style=\"height: 3px; margin: 0\" />\n",
    "### 3 D"
   ]
  },
  {
   "cell_type": "code",
   "execution_count": null,
   "metadata": {
    "collapsed": false
   },
   "outputs": [],
   "source": [
    "%%sql\n",
    "\n",
    "-- What is the TrackId of the track with the largest Millisecond length in the database?\n",
    "SELECT TrackId\n",
    "FROM Track\n",
    "ORDER BY Milliseconds DESC\n",
    "LIMIT 1;"
   ]
  },
  {
   "cell_type": "markdown",
   "metadata": {},
   "source": [
    "<hr style=\"height: 3px; margin: 0\" />\n",
    "### 3 E"
   ]
  },
  {
   "cell_type": "code",
   "execution_count": null,
   "metadata": {
    "collapsed": false
   },
   "outputs": [],
   "source": [
    "%%sql\n",
    "\n",
    "-- What is the Title of the album on which this longest track appears?\n",
    "SELECT Album.Title\n",
    "FROM Track, Album\n",
    "WHERE Track.AlbumId = Album.AlbumId\n",
    "AND Track.TrackId = 2820;"
   ]
  },
  {
   "cell_type": "markdown",
   "metadata": {},
   "source": [
    "<hr style=\"height: 3px; margin: 0\" />\n",
    "### 3 F"
   ]
  },
  {
   "cell_type": "code",
   "execution_count": null,
   "metadata": {
    "collapsed": false
   },
   "outputs": [],
   "source": [
    "%%sql\n",
    "\n",
    "-- What is the TrackId of the track with the shortest Millisecond length in the database?\n",
    "SELECT TrackId\n",
    "FROM Track\n",
    "ORDER BY Milliseconds ASC\n",
    "LIMIT 1;"
   ]
  },
  {
   "cell_type": "markdown",
   "metadata": {},
   "source": [
    "<hr style=\"height: 3px; margin: 0\" />\n",
    "### 3 G"
   ]
  },
  {
   "cell_type": "code",
   "execution_count": null,
   "metadata": {
    "collapsed": false
   },
   "outputs": [],
   "source": [
    "%%sql\n",
    "\n",
    "-- What is the Name of artist that performed the shortest track?\n",
    "SELECT Artist.Name\n",
    "FROM Track, Album, Artist\n",
    "WHERE Track.AlbumId = Album.AlbumId\n",
    "AND Album.ArtistId = Artist.ArtistId\n",
    "AND TrackId = 2461;"
   ]
  },
  {
   "cell_type": "markdown",
   "metadata": {},
   "source": [
    "<hr style=\"height: 3px; margin: 0\" />\n",
    "### 3 H"
   ]
  },
  {
   "cell_type": "code",
   "execution_count": null,
   "metadata": {
    "collapsed": false
   },
   "outputs": [],
   "source": [
    "%%sql\n",
    "\n",
    "-- What would be the total length, in minutes, of all tracks in the 'Jazz' genre?\n",
    "SELECT SUM(Milliseconds) / 60000 AS Minutes\n",
    "FROM Track, Genre\n",
    "WHERE Track.GenreId = Genre.GenreId\n",
    "AND Genre.Name = 'Jazz';"
   ]
  }
 ],
 "metadata": {
  "kernelspec": {
   "display_name": "Python 3",
   "language": "python",
   "name": "python3"
  },
  "language_info": {
   "codemirror_mode": {
    "name": "ipython",
    "version": 3
   },
   "file_extension": ".py",
   "mimetype": "text/x-python",
   "name": "python",
   "nbconvert_exporter": "python",
   "pygments_lexer": "ipython3",
   "version": "3.5.2"
  }
 },
 "nbformat": 4,
 "nbformat_minor": 1
}
