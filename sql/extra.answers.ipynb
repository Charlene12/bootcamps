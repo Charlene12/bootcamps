{
 "cells": [
  {
   "cell_type": "code",
   "execution_count": null,
   "metadata": {
    "collapsed": false
   },
   "outputs": [],
   "source": [
    "# Install, if needed\n",
    "# !pip install --user ipython-sql\n",
    "\n",
    "# Load the SQL module (ignore the warning)\n",
    "%load_ext sql\n",
    "\n",
    "# Create a database in memory\n",
    "%sql sqlite:///Chinook.sqlite"
   ]
  },
  {
   "cell_type": "markdown",
   "metadata": {},
   "source": [
    "<hr style=\"height: 3px; margin: 0\" />\n",
    "### Extra A"
   ]
  },
  {
   "cell_type": "code",
   "execution_count": null,
   "metadata": {
    "collapsed": false
   },
   "outputs": [],
   "source": [
    "%%sql\n",
    "\n",
    "-- Select, for each artist, their name and the number of albums they performed?\n",
    "SELECT Artist.Name, COUNT(*) AS NumAlbums \n",
    "FROM Artist, Album\n",
    "WHERE Artist.ArtistId = Album.ArtistId\n",
    "GROUP BY Artist.ArtistId"
   ]
  },
  {
   "cell_type": "markdown",
   "metadata": {},
   "source": [
    "<hr style=\"height: 3px; margin: 0\" />\n",
    "### Extra B"
   ]
  },
  {
   "cell_type": "code",
   "execution_count": null,
   "metadata": {
    "collapsed": false
   },
   "outputs": [],
   "source": [
    "%%sql\n",
    "\n",
    "-- Select the title and the average number of characters in track Name (AvgLen) of the album with the highest AvgLen\n",
    "SELECT Album.Title, AVG(LENGTH(Track.Name)) AS AvgLen\n",
    "FROM Track, Album\n",
    "WHERE Track.AlbumId = Album.AlbumId\n",
    "GROUP BY Album.AlbumId\n",
    "ORDER BY AvgLen DESC\n",
    "LIMIT 1;"
   ]
  },
  {
   "cell_type": "markdown",
   "metadata": {},
   "source": [
    "<hr style=\"height: 3px; margin: 0\" />\n",
    "### Extra C"
   ]
  },
  {
   "cell_type": "code",
   "execution_count": null,
   "metadata": {
    "collapsed": false
   },
   "outputs": [],
   "source": [
    "%%sql\n",
    "\n",
    "-- What is the name of the genre that has the lowest number of tracks?\n",
    "\n",
    "SELECT Genre.Name, COUNT(*) AS NumTracks\n",
    "FROM Genre, Track\n",
    "WHERE Genre.GenreId = Track.GenreId\n",
    "GROUP BY Genre.GenreId\n",
    "ORDER BY NumTracks ASC\n",
    "LIMIT 1;"
   ]
  },
  {
   "cell_type": "markdown",
   "metadata": {},
   "source": [
    "<hr style=\"height: 3px; margin: 0\" />\n",
    "### Extra D"
   ]
  },
  {
   "cell_type": "code",
   "execution_count": null,
   "metadata": {
    "collapsed": false
   },
   "outputs": [],
   "source": [
    "%%sql\n",
    "\n",
    "-- Select, for each genre, the average length in minutes (AvgMin) per track, in order of increasing AvgMin?\n",
    "SELECT Genre.Name, AVG(track.Milliseconds)/60000 AS AvgMin\n",
    "FROM Track, Genre\n",
    "WHERE Track.GenreId = Genre.GenreId\n",
    "GROUP BY Genre.GenreId \n",
    "ORDER BY AvgMin ASC;"
   ]
  },
  {
   "cell_type": "markdown",
   "metadata": {},
   "source": [
    "<hr style=\"height: 3px; margin: 0\" />\n",
    "### Extra E"
   ]
  },
  {
   "cell_type": "code",
   "execution_count": null,
   "metadata": {
    "collapsed": false
   },
   "outputs": [],
   "source": [
    "%%sql\n",
    "\n",
    "-- Select per album the number of distinct genres of tracks (NumGen) in order of decreasing NumGen\n",
    "SELECT Album.Title, COUNT(DISTINCT(GenreId)) AS NumGen\n",
    "FROM Track, Album\n",
    "WHERE Track.AlbumId = Album.AlbumId\n",
    "GROUP BY Album.AlbumId\n",
    "ORDER BY NumGen DESC"
   ]
  },
  {
   "cell_type": "markdown",
   "metadata": {},
   "source": [
    "<hr style=\"height: 3px; margin: 0\" />\n",
    "### Extra F"
   ]
  },
  {
   "cell_type": "code",
   "execution_count": null,
   "metadata": {
    "collapsed": false
   },
   "outputs": [],
   "source": [
    "%%sql\n",
    "\n",
    "-- What is the sum total length (in minutes) of the ten shortest tracks\n",
    "SELECT SUM(Milliseconds) / 60000 AS Minutes\n",
    "FROM (\n",
    "    SELECT *\n",
    "    FROM Track\n",
    "    ORDER BY Milliseconds ASC\n",
    "    LIMIT 10\n",
    ");"
   ]
  },
  {
   "cell_type": "markdown",
   "metadata": {},
   "source": [
    "<hr style=\"height: 3px; margin: 0\" />\n",
    "### Extra G"
   ]
  },
  {
   "cell_type": "code",
   "execution_count": null,
   "metadata": {
    "collapsed": false
   },
   "outputs": [],
   "source": [
    "%%sql\n",
    "\n",
    "-- What is the sum total size of the ten largest tracks (in megabytes)\n",
    "SELECT SUM(Bytes) / 1048576 AS Megabytes\n",
    "FROM (\n",
    "    SELECT * FROM Track\n",
    "    ORDER BY Bytes DESC\n",
    "    LIMIT 10\n",
    ");"
   ]
  }
 ],
 "metadata": {
  "kernelspec": {
   "display_name": "Python 3",
   "language": "python",
   "name": "python3"
  },
  "language_info": {
   "codemirror_mode": {
    "name": "ipython",
    "version": 3
   },
   "file_extension": ".py",
   "mimetype": "text/x-python",
   "name": "python",
   "nbconvert_exporter": "python",
   "pygments_lexer": "ipython3",
   "version": "3.5.2"
  }
 },
 "nbformat": 4,
 "nbformat_minor": 1
}
