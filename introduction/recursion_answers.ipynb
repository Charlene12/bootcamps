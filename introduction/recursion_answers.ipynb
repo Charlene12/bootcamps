{
 "cells": [
  {
   "cell_type": "markdown",
   "metadata": {},
   "source": [
    "<b>Question 1</b>: What could be a big problem related to the use of recursive functions?\n",
    "<b>Possible answers</b>: Friedman & Felleisen again: \"Recursion is the act of defining an object or solving a problem in terms of itself. A careless recursion can lead to an infinite regress.\"\n",
    "Or, because Python is not dealing with recursion very efficiently (due to the lack of tail-call optimization) your computer might run out of available memory before the computation is finished."
   ]
  },
  {
   "cell_type": "markdown",
   "metadata": {},
   "source": [
    "<b>Question 2</b>: So, given our list \"lst = [1, -5, 100]\" as a test, and the task to recursively add all elements of a list, try to solve a simpler problem first.\n",
    "<b>Answer</b>: lst == [] return 0"
   ]
  },
  {
   "cell_type": "markdown",
   "metadata": {},
   "source": [
    "<b>Question 3</b>: Try to explain why testing for the length of a list is not a very sensible solution in this context.\n",
    "<b>Answer</b>: We want our solution to be applicable for lists of integers of ANY length."
   ]
  }
 ],
 "metadata": {
  "kernelspec": {
   "display_name": "Python 3",
   "language": "python",
   "name": "python3"
  },
  "language_info": {
   "codemirror_mode": {
    "name": "ipython",
    "version": 3
   },
   "file_extension": ".py",
   "mimetype": "text/x-python",
   "name": "python",
   "nbconvert_exporter": "python",
   "pygments_lexer": "ipython3",
   "version": "3.6.1"
  }
 },
 "nbformat": 4,
 "nbformat_minor": 2
}
