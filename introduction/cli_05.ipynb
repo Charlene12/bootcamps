{
 "cells": [
  {
   "cell_type": "markdown",
   "metadata": {},
   "source": [
    "#### Scrubbing data\n",
    "\n",
    "Once we got our hands at the data, we often want to change the format of the data in order to be able to process it further. Filtering, replacing and merging data often is referred to as \"scrubbing\" data.\n",
    "\n",
    "Later on we will look at a recent development concerning \"scrubbing\" data that got a lot of attention: Tidy data.\n",
    "\n",
    "First, we will have look at:\n",
    "\n",
    "    - converting data from one format to another;\n",
    "    - Apply SQL queries to CSV files\n",
    "    - Filter lines\n",
    "    - Extract and replace values (missing values)\n",
    "    - Split, merge, and extract columns\n",
    "\n",
    "We will use a very simple file at first: lines"
   ]
  },
  {
   "cell_type": "code",
   "execution_count": 1,
   "metadata": {},
   "outputs": [
    {
     "name": "stdout",
     "output_type": "stream",
     "text": [
      "Line 1\r\n",
      "Line 2\r\n",
      "Line 3\r\n",
      "Line 4\r\n",
      "Line 5\r\n",
      "Line 6\r\n",
      "Line 7\r\n",
      "Line 8\r\n",
      "Line 9\r\n",
      "Line 10\r\n"
     ]
    }
   ],
   "source": [
    "! cat data/lines"
   ]
  },
  {
   "cell_type": "markdown",
   "metadata": {},
   "source": [
    "There exist a number of ways to filter or select the first 3 lines form this file:\n",
    "\n",
    "    < data/lines head -n 3\n",
    "    < data/lines sed -n '1,3p'\n",
    "    < data/lines awk 'NR<=3'\n",
    "    \n",
    "We will explore the duo: head & tail.\n",
    "\n",
    "Filtering the last 3 lines, using the tail command:"
   ]
  },
  {
   "cell_type": "code",
   "execution_count": 2,
   "metadata": {},
   "outputs": [
    {
     "name": "stdout",
     "output_type": "stream",
     "text": [
      "Line 8\r\n",
      "Line 9\r\n",
      "Line 10\r\n"
     ]
    }
   ],
   "source": [
    "! < data/lines tail -n 3"
   ]
  },
  {
   "cell_type": "markdown",
   "metadata": {},
   "source": [
    "Removing the first 3 lines:"
   ]
  },
  {
   "cell_type": "code",
   "execution_count": 3,
   "metadata": {},
   "outputs": [
    {
     "name": "stdout",
     "output_type": "stream",
     "text": [
      "Line 4\r\n",
      "Line 5\r\n",
      "Line 6\r\n",
      "Line 7\r\n",
      "Line 8\r\n",
      "Line 9\r\n",
      "Line 10\r\n"
     ]
    }
   ],
   "source": [
    "! < data/lines tail -n +4"
   ]
  },
  {
   "cell_type": "markdown",
   "metadata": {},
   "source": [
    "Likewise, one can use head to remove the last 3 lines:"
   ]
  },
  {
   "cell_type": "code",
   "execution_count": 4,
   "metadata": {},
   "outputs": [
    {
     "name": "stdout",
     "output_type": "stream",
     "text": [
      "Line 1\r\n",
      "Line 2\r\n",
      "Line 3\r\n",
      "Line 4\r\n",
      "Line 5\r\n",
      "Line 6\r\n",
      "Line 7\r\n"
     ]
    }
   ],
   "source": [
    "! < data/lines head -n -3"
   ]
  },
  {
   "cell_type": "markdown",
   "metadata": {},
   "source": [
    "We can use the duo to get a slice out of the data:"
   ]
  },
  {
   "cell_type": "code",
   "execution_count": 5,
   "metadata": {},
   "outputs": [
    {
     "name": "stdout",
     "output_type": "stream",
     "text": [
      "Line 4\r\n",
      "Line 5\r\n",
      "Line 6\r\n",
      "Line 7\r\n"
     ]
    }
   ],
   "source": [
    "! < data/lines head -n -3 | tail -n +4"
   ]
  },
  {
   "cell_type": "markdown",
   "metadata": {},
   "source": [
    "If we want to filter on the content of lines of a file, we usually make use of the awesome \"grep\":"
   ]
  },
  {
   "cell_type": "code",
   "execution_count": null,
   "metadata": {
    "collapsed": true
   },
   "outputs": [],
   "source": []
  }
 ],
 "metadata": {
  "kernelspec": {
   "display_name": "Python 3",
   "language": "python",
   "name": "python3"
  },
  "language_info": {
   "codemirror_mode": {
    "name": "ipython",
    "version": 3
   },
   "file_extension": ".py",
   "mimetype": "text/x-python",
   "name": "python",
   "nbconvert_exporter": "python",
   "pygments_lexer": "ipython3",
   "version": "3.6.1"
  }
 },
 "nbformat": 4,
 "nbformat_minor": 2
}
