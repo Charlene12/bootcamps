{
 "cells": [
  {
   "cell_type": "code",
   "execution_count": null,
   "metadata": {
    "collapsed": true
   },
   "outputs": [],
   "source": []
  },
  {
   "cell_type": "markdown",
   "metadata": {},
   "source": [
    "#### Data science is OSEMI:\n",
    "\n",
    "    - obtaining data (download, query, extract, or generate)\n",
    "    - scrubbing (filtering, extracting, replacing, handling missing values, converting formats)\n",
    "    - exploring (view, derive statistics, create visualizations)\n",
    "    - modelling (clustering, classification, regression, dimensionality reduction)\n",
    "    - interpreting (conclusions, evaluations, publishing)\n",
    "    \n",
    "Example derived from: Janssens, J. H. M. (2014). Data Science Toolbox. Retrieved May 10, 2014, from [Data Science Toolbox](http://datasciencetoolbox.org)."
   ]
  },
  {
   "cell_type": "code",
   "execution_count": 1,
   "metadata": {},
   "outputs": [
    {
     "name": "stdout",
     "output_type": "stream",
     "text": [
      " ____________________________ \r\n",
      "< The commandline is awesome >\r\n",
      " ---------------------------- \r\n",
      "        \\   ^__^\r\n",
      "         \\  (oo)\\_______\r\n",
      "            (__)\\       )\\/\\\r\n",
      "                ||----w |\r\n",
      "                ||     ||\r\n"
     ]
    }
   ],
   "source": [
    "! echo 'The commandline is awesome' | cowsay"
   ]
  },
  {
   "cell_type": "markdown",
   "metadata": {},
   "source": [
    "Suppose we want to know when actually the \"New York Fashion Week\" takes place. We download data from the New York Times using their API (for which we registered and in return got a so-called API-KEY). We used the following command, searching for articles mentioning \"New York Fashion Week\" in the period 2009-2013:\n",
    "\n",
    "    parallel -j1 --progress --delay 0.1 --results results \"curl -sL \"\\\n",
    "    > \"'http://api.nytimes.com/svc/search/v2/articlesearch.json?q=New+York+'\"\\\n",
    "    > \"'Fashion+Week&begin_date={1}0101&end_date={1}1231&page={2}&api-key='\"\\\n",
    "    > \"'<your-api-key>'\" ::: {2009..2013} ::: {0..99} > /dev/null\n",
    "\n",
    "The premiss being here that the majority of articles about the New York Fashion Week would be written when it was going on. This query got us a bunch of articles which we stored in the results subdirectory under the data directory."
   ]
  },
  {
   "cell_type": "code",
   "execution_count": 2,
   "metadata": {},
   "outputs": [
    {
     "name": "stdout",
     "output_type": "stream",
     "text": [
      "data/results\r\n",
      "└── 1\r\n",
      "    ├── 2009\r\n",
      "    │   └── 2\r\n",
      "    │       ├── 0\r\n",
      "    │       │   ├── stderr\r\n",
      "    │       │   └── stdout\r\n",
      "    │       ├── 1\r\n",
      "    │       │   ├── stderr\r\n",
      "    │       │   └── stdout\r\n"
     ]
    }
   ],
   "source": [
    "# Let's have a look\n",
    "! tree data/results | head"
   ]
  },
  {
   "cell_type": "markdown",
   "metadata": {},
   "source": [
    "Now that we have some data, let's follow the usual steps."
   ]
  },
  {
   "cell_type": "code",
   "execution_count": 3,
   "metadata": {},
   "outputs": [
    {
     "name": "stdout",
     "output_type": "stream",
     "text": [
      "4850 fashion.csv\r\n"
     ]
    }
   ],
   "source": [
    "# Next is an important step, for which we need a cl pipeline containing: cat, jq, json2csv\n",
    "! cat data/results/1/*/2/*/stdout | jq -c '.response.docs[] | {date: .pub_date, type: .document_type, title: .headline.main}' | json2csv -p -k date,type,title > data/fashion.csv\n",
    "! wc -l fashion.csv"
   ]
  },
  {
   "cell_type": "code",
   "execution_count": 4,
   "metadata": {
    "scrolled": true
   },
   "outputs": [
    {
     "name": "stdout",
     "output_type": "stream",
     "text": [
      "paste: write error: Broken pipe\n",
      "paste: write error\n",
      "|-------------+------------+-----------------------------------------|\n",
      "|  date       | type       | title                                   |\n",
      "|-------------+------------+-----------------------------------------|\n",
      "|  2009-02-20 | multimedia | Recap: Fall Fashion Week, New York      |\n",
      "|  2009-02-15 | multimedia | Michael Kors                            |\n",
      "|  2009-09-17 | multimedia | UrbanEye: Backstage at Marc Jacobs      |\n",
      "|  2009-02-16 | multimedia | Bill Cunningham on N.Y. Fashion Week    |\n",
      "|  2009-09-17 | multimedia | Fashion Week Spring 2010                |\n",
      "|  2009-02-12 | multimedia | Alexander Wang                          |\n",
      "|  2009-09-11 | multimedia | Of Color | Diversity Beyond the Runway  |\n",
      "|  2009-09-18 | multimedia | On the Street | The Look                |\n",
      "|  2009-09-14 | multimedia | A Designer Reinvents Himself            |\n",
      "|-------------+------------+-----------------------------------------|\n",
      "cut: write error: Broken pipe\n"
     ]
    }
   ],
   "source": [
    "! < fashion.csv cols -c date cut -dT -f1 | head | csvlook"
   ]
  },
  {
   "cell_type": "code",
   "execution_count": 5,
   "metadata": {},
   "outputs": [
    {
     "data": {
      "text/plain": [
       "<matplotlib.axes._subplots.AxesSubplot at 0x11a1cea20>"
      ]
     },
     "execution_count": 5,
     "metadata": {},
     "output_type": "execute_result"
    },
    {
     "data": {
      "image/png": "[encoded data removed]",
      "text/plain": [
       "<matplotlib.figure.Figure at 0x11a1ce048>"
      ]
     },
     "metadata": {},
     "output_type": "display_data"
    }
   ],
   "source": [
    "import pandas as pd\n",
    "%matplotlib inline\n",
    "df = pd.read_csv(\"fashion.csv\")\n",
    "df[\"date\"] = df[\"date\"].astype(\"datetime64[ns]\")\n",
    "df.groupby(df[\"date\"].dt.month).count().plot(kind=\"bar\")"
   ]
  },
  {
   "cell_type": "markdown",
   "metadata": {},
   "source": [
    "So there we have our answer: Twice a year in February and September. There are simpler ways of getting this answer. We could have consulted the New York Fashion Week website or placed a phone call directly to the fashion editor of the New York Times, or we could have just used a Google search. Things we would have certainly done, if we were journalists or policemen. But in the context of scientific research we don't pick up the phone to get a quote that we can present as the outcome of our research. There we explore things (perhaps in curious ways) and use arguments to present a convincing case of what we have found. In this context, data and ways to manipulate and present data with the help of the computer are important assets."
   ]
  },
  {
   "cell_type": "markdown",
   "metadata": {},
   "source": [
    "![New York Fashion Week Google search](nyfw.png)"
   ]
  }
 ],
 "metadata": {
  "kernelspec": {
   "display_name": "Python 3",
   "language": "python",
   "name": "python3"
  },
  "language_info": {
   "codemirror_mode": {
    "name": "ipython",
    "version": 3
   },
   "file_extension": ".py",
   "mimetype": "text/x-python",
   "name": "python",
   "nbconvert_exporter": "python",
   "pygments_lexer": "ipython3",
   "version": "3.6.1"
  }
 },
 "nbformat": 4,
 "nbformat_minor": 2
}
