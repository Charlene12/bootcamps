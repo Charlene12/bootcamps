{
 "cells": [
  {
   "cell_type": "markdown",
   "metadata": {},
   "source": [
    "#### Obtaining data\n",
    "\n",
    "There are various ways of obtaining data:\n",
    "    - download data from the web (includes \"scraping\");\n",
    "    - query databases;\n",
    "    - connect to web API's;\n",
    "    - roll your own or use Excel or csv from others."
   ]
  },
  {
   "cell_type": "markdown",
   "metadata": {},
   "source": [
    "Let's start with an Excel file that contains data about movies: imdb-250.xlsx. We like to work with data in csv format, so let's convert this xlsx file."
   ]
  },
  {
   "cell_type": "code",
   "execution_count": 1,
   "metadata": {
    "collapsed": true
   },
   "outputs": [],
   "source": [
    "# ! in2csv data/imdb-250.xlsx > data/imdb-250.csv would be the command to produce the csv-file and it does,\n",
    "# but is also dump an enormous stack trace, so we run the command in the terminal and carry on with the\n",
    "# generated csv file."
   ]
  },
  {
   "cell_type": "code",
   "execution_count": 2,
   "metadata": {},
   "outputs": [
    {
     "name": "stdout",
     "output_type": "stream",
     "text": [
      "Title,title trim,Year,Rank,Rank (desc),Rating,New in 2011 from 2010?,2010 rank,Rank Difference,j\r\n",
      "Sherlock Jr. (1924),SherlockJr.(1924),1924,221,30,8,True,,,\r\n",
      "The Passion of Joan of Arc (1928),ThePassionofJoanofArc(1928),1928,212,39,8,True,,,\r\n",
      "His Girl Friday (1940),HisGirlFriday(1940),1940,250,1,8,True,,,\r\n",
      "Tokyo Story (1953),TokyoStory(1953),1953,248,3,8,True,,,\r\n",
      "The Man Who Shot Liberty Valance (1962),TheManWhoShotLibertyValance(1962),1962,237,14,8,True,,,\r\n",
      "Persona (1966),Persona(1966),1966,200,51,8,True,,,\r\n",
      "Stalker (1979),Stalker(1979),1979,243,8,8,True,,,\r\n",
      "Fanny and Alexander (1982),FannyandAlexander(1982),1982,210,41,8,True,,,\r\n",
      "Beauty and the Beast (1991),BeautyandtheBeast(1991),1991,249,2,8,True,,,\r\n"
     ]
    }
   ],
   "source": [
    "! < data/imdb-250.csv head"
   ]
  },
  {
   "cell_type": "code",
   "execution_count": 4,
   "metadata": {},
   "outputs": [
    {
     "name": "stdout",
     "output_type": "stream",
     "text": [
      "| Title                                   | Rank | Rating |\r\n",
      "| --------------------------------------- | ---- | ------ |\r\n",
      "| Sherlock Jr. (1924)                     |  221 |      8 |\r\n",
      "| The Passion of Joan of Arc (1928)       |  212 |      8 |\r\n",
      "| His Girl Friday (1940)                  |  250 |      8 |\r\n",
      "| Tokyo Story (1953)                      |  248 |      8 |\r\n",
      "| The Man Who Shot Liberty Valance (1962) |  237 |      8 |\r\n",
      "| Persona (1966)                          |  200 |      8 |\r\n",
      "| Stalker (1979)                          |  243 |      8 |\r\n",
      "| Fanny and Alexander (1982)              |  210 |      8 |\r\n",
      "| Beauty and the Beast (1991)             |  249 |      8 |\r\n"
     ]
    }
   ],
   "source": [
    "# or, somewhat prettier:\n",
    "! < data/imdb-250.csv head | csvcut -c Title,Rank,Rating | csvlook"
   ]
  },
  {
   "cell_type": "code",
   "execution_count": 11,
   "metadata": {},
   "outputs": [
    {
     "name": "stdout",
     "output_type": "stream",
     "text": [
      "sepal_length,sepal_width,petal_length,petal_width,species\r\n",
      "7.1,3.0,5.9,2.1,Iris-virginica\r\n",
      "7.6,3.0,6.6,2.1,Iris-virginica\r\n",
      "7.3,2.9,6.3,1.8,Iris-virginica\r\n",
      "7.2,3.6,6.1,2.5,Iris-virginica\r\n",
      "7.7,3.8,6.7,2.2,Iris-virginica\r\n",
      "7.7,2.6,6.9,2.3,Iris-virginica\r\n",
      "7.7,2.8,6.7,2.0,Iris-virginica\r\n",
      "7.2,3.2,6.0,1.8,Iris-virginica\r\n",
      "7.2,3.0,5.8,1.6,Iris-virginica\r\n",
      "7.4,2.8,6.1,1.9,Iris-virginica\r\n",
      "7.9,3.8,6.4,2.0,Iris-virginica\r\n",
      "7.7,3.0,6.1,2.3,Iris-virginica\r\n"
     ]
    }
   ],
   "source": [
    "# We can get data by querying databases. Here we use the world famous Iris database\n",
    "! sql2csv --db 'sqlite:///data/iris.db' --query  'SELECT * FROM iris WHERE sepal_length > 7.0'"
   ]
  },
  {
   "cell_type": "markdown",
   "metadata": {},
   "source": [
    "We will deal with databases and SQL in a separate notebook."
   ]
  },
  {
   "cell_type": "code",
   "execution_count": 37,
   "metadata": {
    "collapsed": true
   },
   "outputs": [],
   "source": [
    "# We can download stuff from the internet. Like complete books from Project Gutenberg\n",
    "# ! curl -s http://www.gutenberg.org/cache/epub/76/pg76.txt | head -n 20\n",
    "# Ah, bummer, the file is zipped\n",
    "! curl -s http://www.gutenberg.org/cache/epub/76/pg76.txt > data/pg76.gz"
   ]
  },
  {
   "cell_type": "code",
   "execution_count": 39,
   "metadata": {},
   "outputs": [
    {
     "name": "stdout",
     "output_type": "stream",
     "text": [
      "﻿\r",
      "\r\n",
      "\r",
      "\r\n",
      "The Project Gutenberg EBook of Adventures of Huckleberry Finn, Complete\r",
      "\r\n",
      "by Mark Twain (Samuel Clemens)\r",
      "\r\n",
      "\r",
      "\r\n",
      "This eBook is for the use of anyone anywhere at no cost and with almost\r",
      "\r\n",
      "no restrictions whatsoever. You may copy it, give it away or re-use\r",
      "\r\n",
      "it under the terms of the Project Gutenberg License included with this\r",
      "\r\n",
      "eBook or online at www.gutenberg.net\r",
      "\r\n",
      "\r",
      "\r\n",
      "Title: Adventures of Huckleberry Finn, Complete\r",
      "\r\n",
      "\r",
      "\r\n",
      "Author: Mark Twain (Samuel Clemens)\r",
      "\r\n",
      "\r",
      "\r\n",
      "Release Date: August 20, 2006 [EBook #76]\r",
      "\r\n",
      "\r",
      "\r\n",
      "Last Updated: April 18, 2015]\r",
      "\r\n",
      "\r",
      "\r\n",
      "Language: English\r",
      "\r\n",
      "\r",
      "\r\n",
      "gunzip: error writing to output: Broken pipe\r\n"
     ]
    }
   ],
   "source": [
    "! < data/pg76.gz gunzip -c | head -n 20"
   ]
  },
  {
   "cell_type": "markdown",
   "metadata": {},
   "source": [
    "We already saw calling web API's. So that leaves us with either rolling our own and \"scraping\". Of which \"scraping\" deserves a Jupyter notebook of itself."
   ]
  },
  {
   "cell_type": "markdown",
   "metadata": {},
   "source": [
    "In the next notebook we do some more work on texts."
   ]
  }
 ],
 "metadata": {
  "kernelspec": {
   "display_name": "Python 3",
   "language": "python",
   "name": "python3"
  },
  "language_info": {
   "codemirror_mode": {
    "name": "ipython",
    "version": 3
   },
   "file_extension": ".py",
   "mimetype": "text/x-python",
   "name": "python",
   "nbconvert_exporter": "python",
   "pygments_lexer": "ipython3",
   "version": "3.6.1"
  }
 },
 "nbformat": 4,
 "nbformat_minor": 2
}
