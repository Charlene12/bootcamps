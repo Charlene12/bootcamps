{
 "cells": [
  {
   "cell_type": "markdown",
   "metadata": {},
   "source": [
    "#### Recursion\n",
    "\n",
    "There is this old joke about recursion: You have to know recursion in order to \"get a grip on\" recursion. Now, Python is not the most natural language to solve problems recursively, but recursion is a beautiful way of thinking about solutions to certain kinds of problems, so we will tackle it here anyway.\n",
    "\n",
    "In the words of Friedman & Felleisen: \"Recursion is the act of defining an object or solving a problem in terms of itself.\"\n",
    "\n",
    "Recursive functions are functions that call themselves (they recur) in the body of the function. So, you can recognize them when you see a pattern like:\n",
    "\n",
    "    def rsum():\n",
    "        if ...\n",
    "        else ... rsum()"
   ]
  },
  {
   "cell_type": "markdown",
   "metadata": {},
   "source": [
    "Think about recursion and try to imagine the biggest problem of recursion. Write down you hunch in the next cell:"
   ]
  },
  {
   "cell_type": "markdown",
   "metadata": {},
   "source": [
    " #### 1 Your answer here ...\n",
    " What could be a big problem related to the use of recursive functions?"
   ]
  },
  {
   "cell_type": "markdown",
   "metadata": {},
   "source": [
    "We start with a simple list of integers, just to have something to work with as a kind of a test, and the problem we want to solve, using recursion, is that we want to the sum of all the numbers in a list"
   ]
  },
  {
   "cell_type": "code",
   "execution_count": 3,
   "metadata": {},
   "outputs": [],
   "source": [
    "lst = [1, -5, 100]\n",
    "# nested_lst = [1,[11,42,[8,1],4,[22,21]]]\n",
    "# make a function, using recursion, that returns the sum of all elements of lst\n",
    "# 1 + -5 + 100 => result should be 96\n",
    "# 1+11+42+8+1+4+22+21 => result should be 110"
   ]
  },
  {
   "cell_type": "markdown",
   "metadata": {},
   "source": [
    "To begin with Python comes with a sum function (batteries included)."
   ]
  },
  {
   "cell_type": "code",
   "execution_count": 4,
   "metadata": {},
   "outputs": [
    {
     "data": {
      "text/plain": [
       "96"
      ]
     },
     "execution_count": 4,
     "metadata": {},
     "output_type": "execute_result"
    }
   ],
   "source": [
    "sum(lst)"
   ]
  },
  {
   "cell_type": "markdown",
   "metadata": {},
   "source": [
    "How is the Python sum() implemented?"
   ]
  },
  {
   "cell_type": "markdown",
   "metadata": {},
   "source": [
    "We are looking for a recursive solution of the problem. What we try to accomplish is making the problem simpler by trying to solve the most simple case first and then tackle the more complicated, remaining problems."
   ]
  },
  {
   "cell_type": "markdown",
   "metadata": {},
   "source": [
    "#### 2 Your answer here ...\n",
    "So, given our list \"lst = [1, -5, 100]\" as a test, and the task to recursively add all elements of a list, try to solve a simpler problem first."
   ]
  },
  {
   "cell_type": "markdown",
   "metadata": {},
   "source": [
    "So we arrived at a partial solution of our problem. If we sum \"all elements\" of an empty list, we return 0. Let's try to cast this idea in code:"
   ]
  },
  {
   "cell_type": "code",
   "execution_count": null,
   "metadata": {
    "collapsed": true
   },
   "outputs": [],
   "source": [
    "def rsum(l):\n",
    "    if l == []:\n",
    "        return 0\n",
    "    ..."
   ]
  },
  {
   "cell_type": "markdown",
   "metadata": {},
   "source": [
    "With this part under the belt, let's tackle a problem that is a bit more difficult: What is the sum of a list with one element? That's simple: It is that element."
   ]
  },
  {
   "cell_type": "markdown",
   "metadata": {},
   "source": [
    "Now, in order to return that element of a list in Python, we need to know a little bit more about Python lists. Open up the slicing and dicing Jupyter notebook we have prepared for you and work your way through it whilst keeping our present problem in the back of your head."
   ]
  },
  {
   "cell_type": "markdown",
   "metadata": {},
   "source": [
    "But we can't use sum() on a nested list because sum does not know how to use addition on int's and lists.\n",
    "sum(lst) prudes the following error:\n",
    "\n",
    "    TypeError                                 Traceback (most recent call last)\n",
    "    <ipython-input-3-1ea59fdb349c> in <module>()\n",
    "      1 a = [1, -5, 100]\n",
    "      2 sum(a) # built-in sum function\n",
    "      ----> 3 sum(lst)\n",
    "     TypeError: unsupported operand type(s) for +: 'int' and 'list'"
   ]
  },
  {
   "cell_type": "markdown",
   "metadata": {},
   "source": [
    "Right this one blows up in our face, because Python's operator + does not know how to add an integer to a list. Which makes sense, because what could it do: Add the integer to all elements of the list?, to the first or just to the last"
   ]
  },
  {
   "cell_type": "code",
   "execution_count": null,
   "metadata": {
    "collapsed": true
   },
   "outputs": [],
   "source": [
    "# But we can try the first pass on a recursive sum function on a flat list of numbers\n",
    "def rsum(L):\n",
    "    if L == []:\n",
    "        return 0\n",
    "    return L[0] + rsum(L[1:])\n",
    "\n",
    "rsum([1, -5, 100])"
   ]
  },
  {
   "cell_type": "code",
   "execution_count": null,
   "metadata": {
    "collapsed": true
   },
   "outputs": [],
   "source": [
    "# This function also fails when it encounters a list instead of an integer\n",
    "rsum(lst)"
   ]
  },
  {
   "cell_type": "markdown",
   "metadata": {},
   "source": [
    "In his unendless wisdom Yogi Berra described our present situation in the following way: \"When you reach a fork, take it!\"."
   ]
  },
  {
   "cell_type": "markdown",
   "metadata": {},
   "source": [
    "We solved the simple problem (summing all integers of a flat list) with recursion, but now we need to solve the harder one: What if we encounter a list instead of a integer? The simple answer is: We just take that list and feed it to rsum -- so we need to test for the \"listiness\" of the things we come across in the list and if we encounter a list we return that list as the input to rsum, thus flattening out the list of lists.\n",
    "\n",
    "Another way to get around this complication is to define a \"flatten function\" as a helper function, in order to be able to always start with a flattened out list, which makes the principle of recursion much easier to grasp: Get an item of a list and do something and do a similar thing with the rest of the items of the list."
   ]
  },
  {
   "cell_type": "code",
   "execution_count": null,
   "metadata": {
    "collapsed": true
   },
   "outputs": [],
   "source": [
    "def rsum(L):\n",
    "    if type(L) != list:\n",
    "        return L\n",
    "    if L == []:\n",
    "        return 0\n",
    "    return rsum(L[0]) + rsum(L[1:])\n",
    "\n",
    "rsum(lst)"
   ]
  },
  {
   "cell_type": "markdown",
   "metadata": {},
   "source": [
    "Now, Python is not the best language to use for recursion, because it has no tail-call optimization, but the example shows how one can proceed from solving the easy case first to elegantly solving the difficult case without being overwhelmed by the complexity of the problem.\n",
    "\n",
    "In fact what we did was:\n",
    "\n",
    "i) define a base case to stop the recursion when we recurred to the end of a list (the empty list or [] is equal to 0 (because we are adding things: Identity: 8 + 0 = 8)\n",
    "\n",
    "    if L == []:\n",
    "        return 0\n",
    "        \n",
    "ii) then we defined the recursion for the simple case (a flat list):\n",
    "\n",
    "    def rsum(L):\n",
    "    if L == []:\n",
    "        return 0\n",
    "    return L[0] + rsum(L[1:])\n",
    "    \n",
    "Now this works fine for flat lists like our test-list: [1, -5, 100]\n",
    "1 + rsum([-5, 100])\n",
    "1 + -5 + resum([100])\n",
    "1 + -5 + 100 + rsum[]\n",
    "1 + -5 + 100 + 0\n",
    "96\n",
    "\n",
    "iii) but it fails for the compliacted, nested list because + can add two integers AND it can add two lists, but it can not add an integer AND a list."
   ]
  },
  {
   "cell_type": "code",
   "execution_count": null,
   "metadata": {
    "collapsed": true
   },
   "outputs": [],
   "source": [
    "1 + -5 # => -4\n",
    "[1, 2] + [3, 4] # => [1, 2, 3, 4]\n",
    "1 + [3, 4] # => TypeError: unsupported operand type(s) for +: 'int' and 'list'"
   ]
  },
  {
   "cell_type": "markdown",
   "metadata": {},
   "source": [
    "Now we are getting somewhere: We need to do something special when we encounter a list instead of an integer when traversing a list.\n",
    "How do we know we come across a list? We can simply ask Python for the type of the thing we encounter:"
   ]
  },
  {
   "cell_type": "code",
   "execution_count": null,
   "metadata": {
    "collapsed": true
   },
   "outputs": [],
   "source": [
    "type([0,[1]]) # => list\n",
    "type([0,[1]][0]) # => int\n",
    "type([0,[1]][1]) # => list"
   ]
  },
  {
   "cell_type": "markdown",
   "metadata": {},
   "source": [
    "When traversing our list \"lst\" we either encounter an int or another list. What do we do when we encounter a list: type(lst) == list? We process it too. And when it is not a list, it must be an integer and we can use it  as-is to add to the total.\n",
    "\n",
    "if type(L) != list: # we have an int and we just return it\n",
    "    return L\n",
    "\n",
    "We keep our base-case:\n",
    "\n",
    "if L == []:\n",
    "    return 0\n",
    "    \n",
    "Otherwise we are dealing with a list which we can treat recursively\n",
    "\n",
    "So our recursive function becomes one that elegantly flattens out ANY nested list with integers:\n",
    "\n",
    "    def rsum(L):\n",
    "    if type(L) != list:\n",
    "        return L\n",
    "    if L == []:\n",
    "        return 0\n",
    "    return rsum(L[0]) + rsum(L[1:])\n",
    "    \n",
    "rsum([1,[11,42,[8,1],4,[22,21]]]\n",
    "rsum(1) + rsum([11,42,[8,1],4[22,21]]\n",
    "rsum(1) + rsum(11) + rsum([42,[8,1],4,[22,21]] ...\n",
    "\n",
    "Conclusion: Python is not very well suited to recursively solve problems (it is not a functional programming language (like Haskell or Lisp?), on the other hand using lists one very well can do functional programming in Python. But more importantly, recursion is a beautiful problem solving technique: base-case, simple problem solved, which makes solving the hard problem simpler. And one can re-use solutions easily.\n",
    "\n",
    "For example, our final solution (rsum working on summing the contents of nested lists of any depth (depends on  the memory of your computer) can be easily adapted for multiplying all items of a nested list. We need another operator ('\\*') and a new base-case (1 instead of 0)."
   ]
  },
  {
   "cell_type": "code",
   "execution_count": 4,
   "metadata": {},
   "outputs": [
    {
     "data": {
      "text/plain": [
       "6830208"
      ]
     },
     "execution_count": 4,
     "metadata": {},
     "output_type": "execute_result"
    }
   ],
   "source": [
    "def rmult(L):\n",
    "    if type(L) != list:\n",
    "        return L\n",
    "    if L == []:\n",
    "        return 1\n",
    "    return rmult(L[0]) * rmult(L[1:])\n",
    "\n",
    "rmult(lst)"
   ]
  },
  {
   "cell_type": "markdown",
   "metadata": {},
   "source": [
    "Apart from the new name we gave to the function there are just two small adjustments we made. In other words both functions share common implementations:\n",
    "\n",
    "    - An initial value or 'base-case' (0 for addition, 1 for multiplication);\n",
    "    - A mapping of the values of the list (in both cases we use an identity mapping; we take the items of the       list \"as-is\"\n",
    "    - A combination operator (+ for addition, * for multiplication)\n",
    "    \n",
    "Knowing this we can generalize our recursive functions into \"a recursive transform\". But before this a short function, based on a list comprehension to flatten a nested list, in order to get that complication out of the recursion (in a recursive way):"
   ]
  },
  {
   "cell_type": "code",
   "execution_count": 24,
   "metadata": {
    "collapsed": true
   },
   "outputs": [],
   "source": [
    "def flatten(L):\n",
    "    for item in L:\n",
    "        try:\n",
    "            yield from flatten(item)\n",
    "        except TypeError:\n",
    "            yield item"
   ]
  },
  {
   "cell_type": "code",
   "execution_count": 26,
   "metadata": {},
   "outputs": [
    {
     "data": {
      "text/plain": [
       "[1, 1, 2, 3, 4, 1]"
      ]
     },
     "execution_count": 26,
     "metadata": {},
     "output_type": "execute_result"
    }
   ],
   "source": [
    "list(flatten([1,[1,2],[3,4,[1]]]))"
   ]
  }
 ],
 "metadata": {
  "kernelspec": {
   "display_name": "Python 3",
   "language": "python",
   "name": "python3"
  },
  "language_info": {
   "codemirror_mode": {
    "name": "ipython",
    "version": 3
   },
   "file_extension": ".py",
   "mimetype": "text/x-python",
   "name": "python",
   "nbconvert_exporter": "python",
   "pygments_lexer": "ipython3",
   "version": "3.6.1"
  }
 },
 "nbformat": 4,
 "nbformat_minor": 2
}
