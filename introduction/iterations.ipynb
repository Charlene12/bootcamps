{
 "cells": [
  {
   "cell_type": "markdown",
   "metadata": {},
   "source": [
    "Iteration is everywhere, be direct, write more abstractions"
   ]
  },
  {
   "cell_type": "code",
   "execution_count": 1,
   "metadata": {
    "collapsed": true
   },
   "outputs": [],
   "source": [
    "my_list = [1,2,3]"
   ]
  },
  {
   "cell_type": "code",
   "execution_count": 2,
   "metadata": {},
   "outputs": [
    {
     "name": "stdout",
     "output_type": "stream",
     "text": [
      "1\n",
      "2\n",
      "3\n"
     ]
    }
   ],
   "source": [
    "i = 0\n",
    "while i < len(my_list):\n",
    "    v = my_list[i]\n",
    "    print(v)\n",
    "    i = i + 1"
   ]
  },
  {
   "cell_type": "code",
   "execution_count": 3,
   "metadata": {},
   "outputs": [
    {
     "name": "stdout",
     "output_type": "stream",
     "text": [
      "1\n",
      "2\n",
      "3\n"
     ]
    }
   ],
   "source": [
    "for i in range(len(my_list)): # range(3) or (0,3) contains [0,1,2]; up to but *not* including!\n",
    "    v = my_list[i]\n",
    "    print(v)"
   ]
  },
  {
   "cell_type": "code",
   "execution_count": 4,
   "metadata": {},
   "outputs": [
    {
     "name": "stdout",
     "output_type": "stream",
     "text": [
      "1\n",
      "2\n",
      "3\n"
     ]
    }
   ],
   "source": [
    "'''\n",
    "for name in iterable:\n",
    "    statements\n",
    "'''\n",
    "for v in my_list:\n",
    "    print(v)"
   ]
  },
  {
   "cell_type": "code",
   "execution_count": 5,
   "metadata": {},
   "outputs": [
    {
     "name": "stdout",
     "output_type": "stream",
     "text": [
      "H\n",
      "e\n",
      "l\n",
      "l\n",
      "o\n"
     ]
    }
   ],
   "source": [
    "for c in \"Hello\":\n",
    "    print(c)"
   ]
  },
  {
   "cell_type": "code",
   "execution_count": 6,
   "metadata": {},
   "outputs": [
    {
     "name": "stdout",
     "output_type": "stream",
     "text": [
      "a\n",
      "b\n",
      "c\n"
     ]
    }
   ],
   "source": [
    "d = {'a': 1, 'b': 2, 'c': 3}\n",
    "for k in d:\n",
    "    print(k) # order can be a surprise; dicts are unordered"
   ]
  },
  {
   "cell_type": "code",
   "execution_count": 7,
   "metadata": {},
   "outputs": [
    {
     "name": "stdout",
     "output_type": "stream",
     "text": [
      "a\n",
      "b\n",
      "c\n",
      "1\n",
      "2\n",
      "3\n",
      "('a', 1)\n",
      "('b', 2)\n",
      "('c', 3)\n"
     ]
    }
   ],
   "source": [
    "for k in d.keys():\n",
    "    print(k)\n",
    "\n",
    "for v in d.values():\n",
    "    print(v)\n",
    "    \n",
    "for item in d.items():\n",
    "    print(item)"
   ]
  },
  {
   "cell_type": "code",
   "execution_count": 8,
   "metadata": {},
   "outputs": [
    {
     "name": "stdout",
     "output_type": "stream",
     "text": [
      "'Four score and seven years ago our fathers brought forth on this continent, a new nation, conceived in Liberty, and dedicated to the proposition that all men are created equal.\\n'\n",
      "'\\n'\n",
      "'Now we are engaged in a great civil war, testing whether that nation, or any nation so conceived and so dedicated, can long endure. We are met on a great battle-field of that war. We have come to dedicate a portion of that field, as a final resting place for those who here gave their lives that that nation might live. It is altogether fitting and proper that we should do this.\\n'\n",
      "'\\n'\n",
      "'But, in a larger sense, we can not dedicate -- we can not consecrate -- we can not hallow -- this ground. The brave men, living and dead, who struggled here, have consecrated it, far above our poor power to add or detract. The world will little note, nor long remember what we say here, but it can never forget what they did here. It is for us the living, rather, to be dedicated here to the unfinished work which they who fought here have thus far so nobly advanced. It is rather for us to be here dedicated to the great task remaining before us -- that from these honored dead we take increased devotion to that cause for which they gave the last full measure of devotion -- that we here highly resolve that these dead shall not have died in vain -- that this nation, under God, shall have a new birth of freedom -- and that government of the people, by the people, for the people, shall not perish from the earth.\\n'\n"
     ]
    }
   ],
   "source": [
    "with open(\"gettysburg.txt\") as f: # an open file is iterable\n",
    "    for line in f:\n",
    "        print(repr(line))"
   ]
  },
  {
   "cell_type": "markdown",
   "metadata": {},
   "source": [
    "Standard libs provide interesting examples of iterable values:\n",
    "  - re module: for match in re.finditer(pattern, string):\n",
    "  - os.walk: for root, dirs, files in os.walk('/some/dir'):\n",
    "  - itertools module (see: itertools.ipynb)"
   ]
  },
  {
   "cell_type": "markdown",
   "metadata": {},
   "source": [
    "Other uses for iterables (streams of values that can be passed on to functions, coputed with, etc.):\n",
    "  - new_list = list(iterable)\n",
    "  - results = [f(x) for x in iterable]\n",
    "  - total = sum(iterable)\n",
    "  - smallest - min(iterable)\n",
    "  - combined = \"\".join(iterable)"
   ]
  },
  {
   "cell_type": "code",
   "execution_count": 9,
   "metadata": {},
   "outputs": [
    {
     "name": "stdout",
     "output_type": "stream",
     "text": [
      "1\n"
     ]
    }
   ],
   "source": [
    "sum([True, False, True])\n",
    "results = [True, False, True]\n",
    "falsies = len(results) - sum(results)\n",
    "print(falsies)"
   ]
  },
  {
   "cell_type": "code",
   "execution_count": 10,
   "metadata": {},
   "outputs": [
    {
     "name": "stdout",
     "output_type": "stream",
     "text": [
      "0 1\n",
      "1 2\n",
      "2 3\n"
     ]
    }
   ],
   "source": [
    "# How do I get the index?\n",
    "for i, v in enumerate(my_list):\n",
    "    print(i, v)"
   ]
  },
  {
   "cell_type": "code",
   "execution_count": 11,
   "metadata": {},
   "outputs": [
    {
     "data": {
      "text/plain": [
       "[(0, 'Eiffel tower'), (1, 'Empire State Building'), (2, 'Sears Tower')]"
      ]
     },
     "execution_count": 11,
     "metadata": {},
     "output_type": "execute_result"
    }
   ],
   "source": [
    "# enumerate() makes useful pairs\n",
    "# Iterate over values in a stream while also using their index\n",
    "names = [\"Eiffel tower\", \"Empire State Building\", \"Sears Tower\"]\n",
    "list(enumerate(names))"
   ]
  },
  {
   "cell_type": "code",
   "execution_count": 12,
   "metadata": {},
   "outputs": [
    {
     "name": "stdout",
     "output_type": "stream",
     "text": [
      "0 Eiffel tower\n",
      "1 Empire State Building\n",
      "2 Sears Tower\n"
     ]
    }
   ],
   "source": [
    "for num, name in enumerate(names):\n",
    "    print(num, name)"
   ]
  },
  {
   "cell_type": "code",
   "execution_count": 15,
   "metadata": {},
   "outputs": [
    {
     "name": "stdout",
     "output_type": "stream",
     "text": [
      "Eiffel tower: 324 meters\n",
      "Empire State Building: 381 meters\n",
      "Sears Tower: 442 meters\n"
     ]
    }
   ],
   "source": [
    "# How do I loop over two lists?\n",
    "# We use names and define heights\n",
    "# And we use the integer way\n",
    "heights = [324, 381, 442]\n",
    "\n",
    "for i in range(len(names)):\n",
    "    name = names[i]\n",
    "    height = heights[i]\n",
    "    print(\"%s: %s meters\" % (name, height))"
   ]
  },
  {
   "cell_type": "code",
   "execution_count": 16,
   "metadata": {},
   "outputs": [
    {
     "name": "stdout",
     "output_type": "stream",
     "text": [
      "Eiffel tower: 324 meters\n",
      "Empire State Building: 381 meters\n",
      "Sears Tower: 442 meters\n"
     ]
    }
   ],
   "source": [
    "# Better use zip() which makes pair-wise loops\n",
    "for name, height in zip(names, heights):\n",
    "    print(\"%s: %s meters\" % (name, height))"
   ]
  },
  {
   "cell_type": "code",
   "execution_count": 17,
   "metadata": {},
   "outputs": [
    {
     "data": {
      "text/plain": [
       "{'Eiffel tower': 324, 'Empire State Building': 381, 'Sears Tower': 442}"
      ]
     },
     "execution_count": 17,
     "metadata": {},
     "output_type": "execute_result"
    }
   ],
   "source": [
    "# dict() accepts a stream op pairs\n",
    "dict(zip(names, heights))"
   ]
  },
  {
   "cell_type": "code",
   "execution_count": 20,
   "metadata": {},
   "outputs": [
    {
     "name": "stdout",
     "output_type": "stream",
     "text": [
      "828\n"
     ]
    }
   ],
   "source": [
    "# Powerful manipulations of dicts\n",
    "tall_buildings = {\n",
    "    \"Empire State Building\": 381,\n",
    "    \"Sears Tower\": 442,\n",
    "    \"Burj Khalifa\": 828,\n",
    "    \"Taipei 101\": 509\n",
    "}\n",
    "print(max(tall_buildings.values()))"
   ]
  },
  {
   "cell_type": "code",
   "execution_count": 21,
   "metadata": {},
   "outputs": [
    {
     "name": "stdout",
     "output_type": "stream",
     "text": [
      "Burj Khalifa\n"
     ]
    }
   ],
   "source": [
    "print(max(tall_buildings, key=tall_buildings.get))"
   ]
  },
  {
   "cell_type": "code",
   "execution_count": 22,
   "metadata": {},
   "outputs": [
    {
     "name": "stdout",
     "output_type": "stream",
     "text": [
      "('Burj Khalifa', 828)\n"
     ]
    }
   ],
   "source": [
    "print(max(tall_buildings.items(), key=lambda b: b[1]))"
   ]
  },
  {
   "cell_type": "markdown",
   "metadata": {},
   "source": [
    "#### Roll your own: Iterators and generators"
   ]
  },
  {
   "cell_type": "code",
   "execution_count": 34,
   "metadata": {},
   "outputs": [
    {
     "name": "stdout",
     "output_type": "stream",
     "text": [
      "88\n",
      "92\n",
      "72\n",
      "40\n",
      "38\n",
      "20\n",
      "90\n",
      "72\n"
     ]
    }
   ],
   "source": [
    "nums = [88, 73, 92, 72, 40, 38, 25, 20, 90, 72]\n",
    "for n in nums:\n",
    "    if n % 2 == 0:\n",
    "        print(n) # do something"
   ]
  },
  {
   "cell_type": "code",
   "execution_count": 35,
   "metadata": {},
   "outputs": [
    {
     "name": "stdout",
     "output_type": "stream",
     "text": [
      "88\n",
      "92\n",
      "72\n",
      "40\n",
      "38\n",
      "20\n",
      "90\n",
      "72\n"
     ]
    }
   ],
   "source": [
    "# Or factor out the for loop\n",
    "def evens(stream):\n",
    "    them = []\n",
    "    for n in stream:\n",
    "        if n % 2 == 0:\n",
    "            them.append(n)\n",
    "    return them\n",
    "\n",
    "for n in evens(nums):\n",
    "    print(n)"
   ]
  },
  {
   "cell_type": "code",
   "execution_count": 36,
   "metadata": {},
   "outputs": [
    {
     "name": "stdout",
     "output_type": "stream",
     "text": [
      "Hello\n",
      "world\n",
      "!\n"
     ]
    }
   ],
   "source": [
    "# Functions return one value -- Generators produce a stream\n",
    "# Generators have one or more yield statements\n",
    "def hello_world():\n",
    "    yield \"Hello\"\n",
    "    yield \"world\"\n",
    "    yield \"!\"\n",
    "\n",
    "for x in hello_world():\n",
    "    print(x)"
   ]
  },
  {
   "cell_type": "code",
   "execution_count": 39,
   "metadata": {},
   "outputs": [
    {
     "name": "stdout",
     "output_type": "stream",
     "text": [
      "88\n",
      "92\n",
      "72\n",
      "40\n",
      "38\n",
      "20\n",
      "90\n",
      "72\n"
     ]
    }
   ],
   "source": [
    "# Now we can re-write our evens function (that produces a list) with a generator\n",
    "def evens2(stream):\n",
    "    for n in stream:\n",
    "        if n % 2 == 0:\n",
    "            yield n\n",
    "\n",
    "for n in evens2(nums):\n",
    "    print(n)"
   ]
  },
  {
   "cell_type": "code",
   "execution_count": 43,
   "metadata": {},
   "outputs": [
    {
     "name": "stdout",
     "output_type": "stream",
     "text": [
      "Four score and seven years ago our fathers brought forth on this continent, a new nation, conceived in Liberty, and dedicated to the proposition that all men are created equal.\n",
      "Now we are engaged in a great civil war, testing whether that nation, or any nation so conceived and so dedicated, can long endure. We are met on a great battle-field of that war. We have come to dedicate a portion of that field, as a final resting place for those who here gave their lives that that nation might live. It is altogether fitting and proper that we should do this.\n"
     ]
    }
   ],
   "source": [
    "# Abstracting your iteration\n",
    "f = open(\"gettysburg.txt\")\n",
    "for line in f:\n",
    "    line = line.strip()\n",
    "    if line.startswith('#'):\n",
    "        # A comment line, skip it.\n",
    "        continue\n",
    "    if not line:\n",
    "        # A blank line, skip it.\n",
    "        continue\n",
    "        \n",
    "    # An interesting line\n",
    "    print(line)"
   ]
  },
  {
   "cell_type": "code",
   "execution_count": 44,
   "metadata": {},
   "outputs": [
    {
     "name": "stdout",
     "output_type": "stream",
     "text": [
      "Four score and seven years ago our fathers brought forth on this continent, a new nation, conceived in Liberty, and dedicated to the proposition that all men are created equal.\n",
      "Now we are engaged in a great civil war, testing whether that nation, or any nation so conceived and so dedicated, can long endure. We are met on a great battle-field of that war. We have come to dedicate a portion of that field, as a final resting place for those who here gave their lives that that nation might live. It is altogether fitting and proper that we should do this.\n"
     ]
    }
   ],
   "source": [
    "# Your own generator\n",
    "def interesting_lines(f):\n",
    "    for line in f:\n",
    "        line = line.strip()\n",
    "        if line.startswith('#'):\n",
    "            continue\n",
    "        if not line:\n",
    "            continue\n",
    "        yield line\n",
    "        \n",
    "with open(\"gettysburg.txt\") as f:\n",
    "    for line in interesting_lines(f):\n",
    "        print(line)"
   ]
  }
 ],
 "metadata": {
  "kernelspec": {
   "display_name": "Python 3",
   "language": "python",
   "name": "python3"
  },
  "language_info": {
   "codemirror_mode": {
    "name": "ipython",
    "version": 3
   },
   "file_extension": ".py",
   "mimetype": "text/x-python",
   "name": "python",
   "nbconvert_exporter": "python",
   "pygments_lexer": "ipython3",
   "version": "3.6.1"
  }
 },
 "nbformat": 4,
 "nbformat_minor": 2
}
