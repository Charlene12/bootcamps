{
 "cells": [
  {
   "cell_type": "markdown",
   "metadata": {},
   "source": [
    "#### Python: Introduction\n",
    "\n",
    "Python development began in 1989 at the CWI in Amsterdam by Guido van Rossum (BDFL).\n",
    "\n",
    "![Guido van Rossum](images/gvr.jpeg)\n",
    "\n",
    "![Python logo](images/python_logo.png)\n",
    "\n",
    "Initially amed after \"something completely different\": Monty Python's Flying Circus, the language is now identified with snakes of different kinds: Pythons and Anaconda's.\n",
    "\n",
    "![Monty Python](images/mp.jpg)\n"
   ]
  },
  {
   "cell_type": "code",
   "execution_count": 1,
   "metadata": {
    "collapsed": false
   },
   "outputs": [
    {
     "name": "stdout",
     "output_type": "stream",
     "text": [
      "The Zen of Python, by Tim Peters\n",
      "\n",
      "Beautiful is better than ugly.\n",
      "Explicit is better than implicit.\n",
      "Simple is better than complex.\n",
      "Complex is better than complicated.\n",
      "Flat is better than nested.\n",
      "Sparse is better than dense.\n",
      "Readability counts.\n",
      "Special cases aren't special enough to break the rules.\n",
      "Although practicality beats purity.\n",
      "Errors should never pass silently.\n",
      "Unless explicitly silenced.\n",
      "In the face of ambiguity, refuse the temptation to guess.\n",
      "There should be one-- and preferably only one --obvious way to do it.\n",
      "Although that way may not be obvious at first unless you're Dutch.\n",
      "Now is better than never.\n",
      "Although never is often better than *right* now.\n",
      "If the implementation is hard to explain, it's a bad idea.\n",
      "If the implementation is easy to explain, it may be a good idea.\n",
      "Namespaces are one honking great idea -- let's do more of those!\n"
     ]
    }
   ],
   "source": [
    "import this"
   ]
  },
  {
   "cell_type": "markdown",
   "metadata": {},
   "source": [
    "Why Python?\n",
    "\n",
    "- available on most platforms (Linux, Mac OS X, Windows, ...)\n",
    "- large (scientific) and helpful community; hence help, great libraries, interesting conferences, ...\n",
    "- readable code (+/+ \"Pythonic\": a simple, elegant and easy-to-grasp solution to a programming problem)\n",
    "- great resources (including learning resources)\n",
    "- Python has a repl (Yay!)"
   ]
  },
  {
   "cell_type": "code",
   "execution_count": 2,
   "metadata": {
    "collapsed": false,
    "scrolled": true
   },
   "outputs": [
    {
     "name": "stdout",
     "output_type": "stream",
     "text": [
      "Hello World!\n"
     ]
    }
   ],
   "source": [
    "print(\"Hello World!\")"
   ]
  },
  {
   "cell_type": "markdown",
   "metadata": {},
   "source": [
    "Compare that with it's Java equivalent"
   ]
  },
  {
   "cell_type": "code",
   "execution_count": null,
   "metadata": {
    "collapsed": true
   },
   "outputs": [],
   "source": [
    "public class java { <= About object-oriented programming\n",
    "    public static void main(String[] args) { <= Java method definition, String arrays\n",
    "        System.out.println(Hello World!\"); <= Reference the standard library\n",
    "        }\n",
    "    }\n"
   ]
  },
  {
   "cell_type": "markdown",
   "metadata": {},
   "source": [
    "About readability.\n",
    "\n",
    "![Indentation](images/indent.jpeg)\n",
    "\n",
    "It will trip you up occasionally, but indentation matters, or in other words: whitespace is significant. The convention is to use 4 spaces for the indentation level.\n",
    "\n",
    "It is all about readability, breaking up a problem in smaller (sub-)tasks:"
   ]
  },
  {
   "cell_type": "code",
   "execution_count": 5,
   "metadata": {
    "collapsed": false
   },
   "outputs": [
    {
     "name": "stdout",
     "output_type": "stream",
     "text": [
      "What is your name? Peter\n",
      "Hello, Peter\n"
     ]
    }
   ],
   "source": [
    "def say_hello():\n",
    "    name = input(\"What is your name? \")\n",
    "    print(\"Hello, \" + name)\n",
    "\n",
    "say_hello()"
   ]
  },
  {
   "cell_type": "markdown",
   "metadata": {},
   "source": []
  }
 ],
 "metadata": {
  "anaconda-cloud": {},
  "kernelspec": {
   "display_name": "Python [default]",
   "language": "python",
   "name": "python3"
  },
  "language_info": {
   "codemirror_mode": {
    "name": "ipython",
    "version": 3
   },
   "file_extension": ".py",
   "mimetype": "text/x-python",
   "name": "python",
   "nbconvert_exporter": "python",
   "pygments_lexer": "ipython3",
   "version": "3.5.2"
  }
 },
 "nbformat": 4,
 "nbformat_minor": 1
}
