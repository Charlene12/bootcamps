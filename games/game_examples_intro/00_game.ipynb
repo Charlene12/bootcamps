{
 "cells": [
  {
   "cell_type": "markdown",
   "metadata": {},
   "source": [
    "This notebook contains snippets from Phillip Johnson: Make your own text adventure with Python.\n",
    "I have assembled these here. Perhaps we can use use some of these snippets for our intro notebooks."
   ]
  },
  {
   "cell_type": "markdown",
   "metadata": {},
   "source": [
    "#### For starters: Let's check our workspace"
   ]
  },
  {
   "cell_type": "code",
   "execution_count": 3,
   "metadata": {},
   "outputs": [
    {
     "data": {
      "text/plain": [
       "2"
      ]
     },
     "execution_count": 3,
     "metadata": {},
     "output_type": "execute_result"
    }
   ],
   "source": [
    "1+1"
   ]
  },
  {
   "cell_type": "markdown",
   "metadata": {},
   "source": [
    "#### Our first program: The game\n",
    "\n",
    "In the old days, not so long ago actually, one would enter commands for the computer to execute on punchcards. Feed them into the computer in the afternoon and then come back next morning to see the results (if your instructions were executed). If your instructions contained a bug: Repeat the process!\n",
    "\n",
    "![Punch Card](../graphics/026-card-700.jpg)"
   ]
  },
  {
   "cell_type": "markdown",
   "metadata": {},
   "source": [
    "Nowadays, with the iPython REPL (ReadEvalPrintLoop), we can loop quickly and test things out while we are coding.\n",
    "\n",
    "![REPL](../graphics/ipython_repl.png)"
   ]
  },
  {
   "cell_type": "markdown",
   "metadata": {},
   "source": [
    "Python code is organized in files called **modules**. Each file contains a significant amount of code that is logically related.\n",
    "\n",
    "For our game project we will use 3 modules:\n",
    "\n",
    "  - a module that runs the game (game.py)\n",
    "  - a module that contains \"the world\" (world.py)\n",
    "  - a module that contains \"the enemies\" that live in \"the world\" (enemies.py)\n",
    "  \n",
    "So, let's create our first module. Fire up your favourite editor and in a new buffer enter the following line:\n",
    "\n",
    "print('Escape from Cave Terror!')\n",
    "\n",
    "Save the file as game.py\n",
    "\n",
    "In the terminal, in the directory where you save the file, game.py, run the following command: python game.py\n",
    "\n",
    "Perfect, we're in the game business!"
   ]
  },
  {
   "cell_type": "code",
   "execution_count": 2,
   "metadata": {},
   "outputs": [
    {
     "name": "stdout",
     "output_type": "stream",
     "text": [
      "Escape from Cave Terror!\n"
     ]
    }
   ],
   "source": [
    "print('Escape from Cave Terror!')"
   ]
  },
  {
   "cell_type": "markdown",
   "metadata": {},
   "source": [
    "print is a function that prints strings. Strings are one of Python's basic data types (the other of course being numbers. Strings are deliminated by either single ('This is a string') or double quotes (\"This is string number 2\").\n",
    "\n",
    "You can do an awful lot with strings: From interacting with the users of your program to analyzing the content of text files."
   ]
  },
  {
   "cell_type": "markdown",
   "metadata": {},
   "source": [
    "Suppose we want to learn what we can do with the print function, then we can use the help function."
   ]
  },
  {
   "cell_type": "code",
   "execution_count": 3,
   "metadata": {},
   "outputs": [
    {
     "name": "stdout",
     "output_type": "stream",
     "text": [
      "Help on built-in function print in module builtins:\n",
      "\n",
      "print(...)\n",
      "    print(value, ..., sep=' ', end='\\n', file=sys.stdout, flush=False)\n",
      "    \n",
      "    Prints the values to a stream, or to sys.stdout by default.\n",
      "    Optional keyword arguments:\n",
      "    file:  a file-like object (stream); defaults to the current sys.stdout.\n",
      "    sep:   string inserted between values, default a space.\n",
      "    end:   string appended after the last value, default a newline.\n",
      "    flush: whether to forcibly flush the stream.\n",
      "\n"
     ]
    }
   ],
   "source": [
    "help(print)"
   ]
  },
  {
   "cell_type": "markdown",
   "metadata": {},
   "source": [
    "Print prints values.\n",
    "Try out the following print statements:\n",
    "\n",
    "print(5)\n",
    "print('5')\n",
    "\n",
    "They return the same output, although the type of the input values is different"
   ]
  },
  {
   "cell_type": "code",
   "execution_count": 4,
   "metadata": {},
   "outputs": [
    {
     "data": {
      "text/plain": [
       "int"
      ]
     },
     "execution_count": 4,
     "metadata": {},
     "output_type": "execute_result"
    }
   ],
   "source": [
    "type(5)"
   ]
  },
  {
   "cell_type": "code",
   "execution_count": 4,
   "metadata": {},
   "outputs": [
    {
     "ename": "SyntaxError",
     "evalue": "invalid syntax (<ipython-input-4-90a37e2fcf63>, line 1)",
     "output_type": "error",
     "traceback": [
      "\u001b[0;36m  File \u001b[0;32m\"<ipython-input-4-90a37e2fcf63>\"\u001b[0;36m, line \u001b[0;32m1\u001b[0m\n\u001b[0;31m    type('5') dfgd\u001b[0m\n\u001b[0m                 ^\u001b[0m\n\u001b[0;31mSyntaxError\u001b[0m\u001b[0;31m:\u001b[0m invalid syntax\n"
     ]
    }
   ],
   "source": [
    "type('5') dfgd"
   ]
  },
  {
   "cell_type": "markdown",
   "metadata": {},
   "source": [
    "It is considered good practice to comment your code.\n",
    "\n",
    "    # Simple comment on one line\n",
    "    \n",
    "    \"\"\"\n",
    "    Elaborate comment, runs\n",
    "    over various lines\n",
    "    \"\"\""
   ]
  },
  {
   "cell_type": "markdown",
   "metadata": {},
   "source": [
    "#### 00_game_ex1\n",
    "\n",
    "1. "
   ]
  },
  {
   "cell_type": "markdown",
   "metadata": {},
   "source": [
    "#### Decisions"
   ]
  },
  {
   "cell_type": "markdown",
   "metadata": {},
   "source": [
    "To be able to write an interesting game, we need to be able to express decisions in software (just as in real life \"it is all about decisions\")\n",
    "\n",
    "    If it rains (true | false):\n",
    "      then I will take the bus (true)\n",
    "      else I walk (false)\n",
    "  \n",
    "![George Boole](../graphics/boole.jpeg)"
   ]
  },
  {
   "cell_type": "markdown",
   "metadata": {},
   "source": [
    "Boolean expressions are statements that are either true or false:\n",
    "\n",
    "  - My age in years is 30\n",
    "  - I have two siblings\n",
    "  - 1 > 100\n",
    "  - 1 < 100"
   ]
  },
  {
   "cell_type": "code",
   "execution_count": 6,
   "metadata": {},
   "outputs": [
    {
     "data": {
      "text/plain": [
       "True"
      ]
     },
     "execution_count": 6,
     "metadata": {},
     "output_type": "execute_result"
    }
   ],
   "source": [
    "# In Python we might write these expressions as:\n",
    "\n",
    "age = 30 # Here = is the assignment operator\n",
    "siblings = 2\n",
    "age == 30 # True; == is the equality operator\n",
    "siblings == 2 # True\n",
    "1 > 100 # False\n",
    "1 < 100"
   ]
  },
  {
   "cell_type": "markdown",
   "metadata": {},
   "source": [
    "Operators we know sofar:\n",
    "\n",
    "    = Assignment: Assigns a value to a variable\n",
    "    == Comparison: Checks if two values are equal\n",
    "    != Comparison: Checks if two values or *not* equal\n",
    "    > Comparison: Left is greater than right\n",
    "    >= Comparison: Left is greater than or equal to right\n",
    "    < Comparison: Left is less than right\n",
    "    <= Comparison: Left is less than or equal to right"
   ]
  },
  {
   "cell_type": "markdown",
   "metadata": {},
   "source": [
    "Now that we know of data types and boolean expressions, we can start adding conditions with **if-statements** to our code. An if-statement must have a condition (some statement that is either true or false) and an action **if** the statement is *true* and *optionally* an action to take if the condition is *not true*."
   ]
  },
  {
   "cell_type": "code",
   "execution_count": 5,
   "metadata": {},
   "outputs": [
    {
     "name": "stdout",
     "output_type": "stream",
     "text": [
      "The condition is false!\n"
     ]
    }
   ],
   "source": [
    "n = 150\n",
    "if n < 100:\n",
    "    print('The condition is true!')\n",
    "else:\n",
    "    print('The condition is false!')"
   ]
  },
  {
   "cell_type": "code",
   "execution_count": 8,
   "metadata": {},
   "outputs": [
    {
     "name": "stdout",
     "output_type": "stream",
     "text": [
      "n is less than 1000.\n"
     ]
    }
   ],
   "source": [
    "# We can stack actions using the keyword elif, short for else if\n",
    "n = 150\n",
    "if n < 100:\n",
    "    print('n is less than 100.')\n",
    "elif n < 1000:\n",
    "    print('n is less than 1000.')\n",
    "else:\n",
    "    print('n is a pretty big number!')"
   ]
  },
  {
   "cell_type": "markdown",
   "metadata": {},
   "source": [
    "With this small example, we can set our game in action: Find the magic number and try to escape from \"the cave of terror\"!"
   ]
  },
  {
   "cell_type": "markdown",
   "metadata": {},
   "source": [
    "We learned a lot, now we can add some actions to our game project: game.py"
   ]
  },
  {
   "cell_type": "markdown",
   "metadata": {},
   "source": [
    "After we changed game.py, we now are prompted for an action when we run the file. We can choose one of the options \"n\", \"s\", \"e\", or \"w\". And the code will take that branch. If we enter any other option, we get a warning that the action is invalid (our fallback clause with the else statement)."
   ]
  },
  {
   "cell_type": "code",
   "execution_count": 1,
   "metadata": {},
   "outputs": [
    {
     "name": "stdout",
     "output_type": "stream",
     "text": [
      "Escape from Cave Terror!\n",
      "Action: w\n",
      "Go West\n"
     ]
    }
   ],
   "source": [
    "print('Escape from Cave Terror!')\n",
    "action_input = input('Action: ')\n",
    "if action_input == 'n':\n",
    "    print(\"Go North!\")\n",
    "elif action_input == 's':\n",
    "    print(\"Go South!\")\n",
    "elif action_input == 'e':\n",
    "    print(\"Go East\")\n",
    "elif action_input == 'w':\n",
    "    print(\"Go West\")\n",
    "else:\n",
    "    print(\"Invalid option; Choose one from n,s,e,w!\")"
   ]
  },
  {
   "cell_type": "code",
   "execution_count": null,
   "metadata": {
    "collapsed": true
   },
   "outputs": [],
   "source": []
  }
 ],
 "metadata": {
  "kernelspec": {
   "display_name": "Python 3",
   "language": "python",
   "name": "python3"
  },
  "language_info": {
   "codemirror_mode": {
    "name": "ipython",
    "version": 3
   },
   "file_extension": ".py",
   "mimetype": "text/x-python",
   "name": "python",
   "nbconvert_exporter": "python",
   "pygments_lexer": "ipython3",
   "version": "3.6.1"
  }
 },
 "nbformat": 4,
 "nbformat_minor": 2
}
