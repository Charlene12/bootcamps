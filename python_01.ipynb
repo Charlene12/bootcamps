{
 "cells": [
  {
   "cell_type": "markdown",
   "metadata": {},
   "source": [
    "### Before we start\n",
    "\n",
    "Did you install the Anaconda distribution (http://continuum.io/downloads)? No success? Try Wakari (https://wakari.io) by signing up to their free plan.\n",
    "\n",
    "This morning: Python introduction\n",
    "This afternoon: Python more in depth\n",
    "\n",
    "Tomorrow morning: Intro Pandas\n",
    "Tomorrow afternoon: More Pandas, visualisations, SQL, (BigQuery)"
   ]
  },
  {
   "cell_type": "markdown",
   "metadata": {},
   "source": [
    "We are not going to turn you into programmers overnight. That is not how it works. We aim for the following results:\n",
    "\n",
    "  - If you decide, after these two days, that programming is not really for you, you made a more or less informed decision. At least you know that it exists out there and you might have picked up some ideas how to tackle intricate problems;\n",
    "  - If, on the other hand, you decide that programming can help you solve certain problems in elegant ways, then that's an even better result. We hope that we have given you a good start to explore things on your own;\n",
    "  - However, if somewhere along the road you hit a wall and are really stuck (even Stackoverflow does not provide hints for a solution) you are entitled to call upon us and we will help you (if we can);\n",
    "  - Away you fly with this Python language. Then we hope you will join our pool and help others."
   ]
  },
  {
   "cell_type": "markdown",
   "metadata": {},
   "source": [
    "### What are we going to do?\n",
    "\n",
    "- What is Python?\n",
    "- How to run programs?\n",
    "- Why using the Jupyter notebooks?\n",
    "- Basic Python syntax\n",
    "- Programming techniques\n",
    "- Python as a calculator\n",
    "- Variables and types\n",
    "- Variable assignment\n",
    "- Calculations with variables\n",
    "- Working with text"
   ]
  },
  {
   "cell_type": "markdown",
   "metadata": {},
   "source": [
    "#### What is Python?"
   ]
  },
  {
   "cell_type": "code",
   "execution_count": 3,
   "metadata": {
    "collapsed": true
   },
   "outputs": [],
   "source": [
    "import antigravity"
   ]
  },
  {
   "cell_type": "code",
   "execution_count": 2,
   "metadata": {
    "collapsed": false
   },
   "outputs": [
    {
     "name": "stdout",
     "output_type": "stream",
     "text": [
      "Hello World!\n"
     ]
    }
   ],
   "source": [
    "print(\"Hello World!\")"
   ]
  },
  {
   "cell_type": "markdown",
   "metadata": {},
   "source": [
    "Python has Dutch roots. The programming language was developed by Guido van Rossum while working at the CWI in Amsterdam.\n",
    "\n",
    "![Guido van Rossum](images/gvr.jpeg)\n",
    "\n",
    "![Python logo](images/python_logo.png)\n",
    "\n",
    "Initially amed after \"something completely different\": Monty Python's Flying Circus, the language is now identified with snakes of different kinds: Pythons and Anaconda's.\n",
    "\n",
    "![Monty Python](images/mp.jpg)\n",
    "\n",
    "Why Python?:\n",
    "\n",
    "  - Python is a general purpose programming language;\n",
    "  - It is open source and free to use;\n",
    "  - It is available on most platforms (Linux, Mac OS X, Windows, ...);\n",
    "  - Large (scientific) and helpful community; hence help, great libraries, interesting conferences, ...;\n",
    "  - Python has a REPL;\n",
    "  - Great resources, including learning resources;\n",
    "  - Readable code (+/+ \"Pythonic\": a simple, elegant and easy-to-grasp solution to a programming problem)."
   ]
  },
  {
   "cell_type": "markdown",
   "metadata": {},
   "source": [
    "![Indentation](images/indent.jpeg)\n",
    "\n",
    "It will trip you up occasionally, but indentation matters, or in other words: whitespace is significant. The convention is to use 4 spaces for the indentation level. The thing to do is to use an editor that \"knows\" about the Python conventions.\n",
    "\n",
    "It is all about readability, breaking up a problem in smaller (sub-)tasks:"
   ]
  },
  {
   "cell_type": "code",
   "execution_count": 5,
   "metadata": {
    "collapsed": false
   },
   "outputs": [
    {
     "data": {
      "text/plain": [
       "True"
      ]
     },
     "execution_count": 5,
     "metadata": {},
     "output_type": "execute_result"
    }
   ],
   "source": [
    "1 < 2 and 'f' in \"flying\""
   ]
  },
  {
   "cell_type": "code",
   "execution_count": 6,
   "metadata": {
    "collapsed": false
   },
   "outputs": [
    {
     "data": {
      "text/plain": [
       "True"
      ]
     },
     "execution_count": 6,
     "metadata": {},
     "output_type": "execute_result"
    }
   ],
   "source": [
    "1 < 3 or 'g' in \"go\""
   ]
  },
  {
   "cell_type": "code",
   "execution_count": 7,
   "metadata": {
    "collapsed": false
   },
   "outputs": [
    {
     "data": {
      "text/plain": [
       "True"
      ]
     },
     "execution_count": 7,
     "metadata": {},
     "output_type": "execute_result"
    }
   ],
   "source": [
    "1 < 4 or 'g' in \"calf\""
   ]
  },
  {
   "cell_type": "markdown",
   "metadata": {},
   "source": [
    "Because Python was rapidly adopted by the scientific community (AI, ML, engineering, computational biology, physics, etc.), we have such things as the Jupyter notebook and some well established and reliable libraries: NumPy, SciPy, Matplotlib and, more recently, Scikit-learn and Pandas.\n",
    "\n",
    "As well as some other tools for:\n",
    "\n",
    "  - working with graphs (networks)\n",
    "  - interfacing with C/C++/Fortran\n",
    "  - cloud computing\n",
    "  - database interaction\n",
    "  - bindings to other languages: Julia, R"
   ]
  },
  {
   "cell_type": "markdown",
   "metadata": {},
   "source": [
    "#### Why use the Jupyter notebooks?\n",
    "\n",
    "Started out as the iPython notebook, but now, since one can use them with R and Julia as well, called JUPYTeR notebook. Freely mix text and code, run the code cells and show the results inline in the notebook. Share notebooks with others. Document your experiments. Easily save notebooks under version control (Git for example), because under the hood they are plain text files in JSON."
   ]
  },
  {
   "cell_type": "markdown",
   "metadata": {},
   "source": [
    "#### How to run programs?\n",
    "\n",
    "We already saw one way of running Python code: Use a so-called code cell of the Jupyter notebook like the one below:"
   ]
  },
  {
   "cell_type": "code",
   "execution_count": 9,
   "metadata": {
    "collapsed": false
   },
   "outputs": [
    {
     "data": {
      "text/plain": [
       "33"
      ]
     },
     "execution_count": 9,
     "metadata": {},
     "output_type": "execute_result"
    }
   ],
   "source": [
    "print(6 + 3 * 9)"
   ]
  },
  {
   "cell_type": "markdown",
   "metadata": {},
   "source": [
    "Several things to notice in the snippet above:\n",
    "\n",
    "  - arithmetic follows math conventions: multiplication before addition\n",
    "  - print() prints the resolved expression: 6 + 3 * 9\n",
    "  - although in a notebook we can use the expression as-is (returns result of last expression in a cell)"
   ]
  },
  {
   "cell_type": "markdown",
   "metadata": {},
   "source": [
    "Another way is to start up a so-called REPL in a terminal."
   ]
  },
  {
   "cell_type": "markdown",
   "metadata": {},
   "source": [
    "![python REPL](images/repl.jpg)"
   ]
  }
 ],
 "metadata": {
  "anaconda-cloud": {},
  "kernelspec": {
   "display_name": "Python [default]",
   "language": "python",
   "name": "python3"
  },
  "language_info": {
   "codemirror_mode": {
    "name": "ipython",
    "version": 3
   },
   "file_extension": ".py",
   "mimetype": "text/x-python",
   "name": "python",
   "nbconvert_exporter": "python",
   "pygments_lexer": "ipython3",
   "version": "3.5.2"
  }
 },
 "nbformat": 4,
 "nbformat_minor": 1
}
